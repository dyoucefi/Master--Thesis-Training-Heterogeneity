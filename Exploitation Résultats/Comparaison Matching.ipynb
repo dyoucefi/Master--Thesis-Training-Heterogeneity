{
 "cells": [
  {
   "cell_type": "code",
   "execution_count": 1,
   "metadata": {},
   "outputs": [],
   "source": [
    "import pandas as pd\n",
    "import numpy as np\n",
    "from sklearn.ensemble import RandomForestRegressor, RandomForestClassifier\n",
    "from sklearn.base import clone\n",
    "import joblib\n",
    "import pickle\n",
    "import matplotlib.pyplot as plt\n",
    "import doubleml as dml\n",
    "import patsy\n",
    "import plotly.express as px\n",
    "from plotly.subplots import make_subplots\n",
    "from plotly.offline import plot\n",
    "\n",
    "from statsmodels.tsa.seasonal import seasonal_decompose"
   ]
  },
  {
   "cell_type": "code",
   "execution_count": 2,
   "metadata": {},
   "outputs": [],
   "source": [
    "dates= pd.date_range('2017-01-01','2021-07-01' , freq='1M')-pd.offsets.MonthBegin(1)\n",
    "dates=[date_obj.strftime('%Y-%m-%d') for date_obj in dates]\n",
    "\n",
    "var_quel=[\"emploi_quelconque_t_plus_3\",\"emploi_quelconque_t_plus_6\",  \"emploi_quelconque_t_plus_12\" ,\"emploi_quelconque_t_plus_18\" ,\"emploi_quelconque_t_plus_24\",\"emploi_quelconque_t_plus_36\"]\n",
    "\n",
    "x_cols=[\"age\", \"anciennete\",\"sexe\",\"zone_urbaine\",\"handicap\" ]\n",
    "\n",
    "path=\"C:/Users/dalil.youcefi/Documents/Formation et retour à l'emploi/Données\""
   ]
  },
  {
   "cell_type": "code",
   "execution_count": 3,
   "metadata": {},
   "outputs": [],
   "source": [
    "li_poids=[]\n",
    "for cohorte in dates:\n",
    "    df=pd.read_parquet(path+\"/Prepro/Toutes Form/prepro_data_\"+cohorte+\".parquet\",engine='pyarrow')\n",
    "    li_poids.append(df.shape[0])"
   ]
  },
  {
   "cell_type": "code",
   "execution_count": 4,
   "metadata": {},
   "outputs": [],
   "source": [
    "\n",
    "\n",
    "dic_irm={}\n",
    "\n",
    "\n",
    "\n",
    "\n",
    "\n",
    "dic_irm[\"cohorte\"]=dates\n",
    "\n",
    "\n",
    "\n",
    "for var in var_quel:\n",
    "    irm_coef=[]\n",
    "\n",
    "    irm_upp=[]\n",
    "    irm_low=[]\n",
    "  \n",
    "    irm_std=[]\n",
    "    \n",
    "    \n",
    "    for cohorte in dates:\n",
    "     \n",
    "      \n",
    "        \n",
    "        dml_irm_obj=joblib.load( path+\"/Résultats/Python/IRM/ATT/dml_irm_att_\"+cohorte+\"_\"+var+\".joblib\")\n",
    "        irm_coef.append(dml_irm_obj.summary.coef)\n",
    "        irm_low.append(dml_irm_obj.confint()[\"2.5 %\"])\n",
    "        irm_upp.append(dml_irm_obj.confint()[\"97.5 %\"])\n",
    "        irm_std.append(dml_irm_obj.summary[\"std err\"])\n",
    "        \n",
    "        \n",
    "   \n",
    "    dic_irm[\"coef_\"+var]=irm_coef\n",
    "    dic_irm[\"upp_\"+var]=irm_upp\n",
    "    dic_irm[\"low_\"+var]=irm_low\n",
    "    dic_irm[\"std_\"+var]=irm_std\n",
    "    \n",
    "    \n",
    " \n",
    "\n",
    "   \n",
    "df_irm=pd.DataFrame.from_dict(dic_irm,orient=\"columns\")\n",
    "\n",
    "\n",
    "\n"
   ]
  },
  {
   "cell_type": "code",
   "execution_count": 21,
   "metadata": {},
   "outputs": [
    {
     "data": {
      "text/plain": [
       "entree_formation    0.099528\n",
       "Name: coef, dtype: float64"
      ]
     },
     "execution_count": 21,
     "metadata": {},
     "output_type": "execute_result"
    }
   ],
   "source": [
    "dml_irm_obj.summary.coef"
   ]
  },
  {
   "cell_type": "markdown",
   "metadata": {},
   "source": [
    "Reproduction résultats du matching et comparaison avec ATT IRM"
   ]
  },
  {
   "cell_type": "code",
   "execution_count": 29,
   "metadata": {},
   "outputs": [],
   "source": [
    "df_irm[\"poids\"]=li_poids\n",
    "dic_avg={}\n",
    "\n",
    "\n",
    "\n",
    "irm_coef=[]\n",
    "\n",
    "irm_upp=[]\n",
    "irm_low=[]\n",
    "\n",
    "irm_std=[]\n",
    "\n",
    "\n",
    "\n",
    "def weighted_average(dataframe, value, weight):\n",
    "    val = dataframe[value]\n",
    "    wt = dataframe[weight]\n",
    "    return (val * wt).sum() / wt.sum()\n",
    " \n",
    "\n",
    "\n",
    "dic_avg={}\n",
    "\n",
    "\n",
    "dic_avg[\"temps\"]=[\"6\",\"12\",\"18\",\"24\"]\n",
    "\n",
    "\n",
    "\n",
    "\n",
    "var=\"emploi_quelconque_t_plus_6\"\n",
    "    \n",
    "\n",
    "period=pd.date_range('2017-01-01','2019-10-01' , freq='1M')-pd.offsets.MonthBegin(1)\n",
    "period=[date_obj.strftime('%Y-%m-%d') for date_obj in period]\n",
    "    \n",
    "irm_coef.append(weighted_average(df_irm[df_irm.cohorte.isin(period)],\"coef_\"+var,\"poids\"))\n",
    "irm_upp.append(weighted_average(df_irm[df_irm.cohorte.isin(period)],\"upp_\"+var,\"poids\"))\n",
    "irm_low.append(weighted_average(df_irm[df_irm.cohorte.isin(period)],\"low_\"+var,\"poids\"))\n",
    "irm_std.append(weighted_average(df_irm[df_irm.cohorte.isin(period)],\"std_\"+var,\"poids\"))\n",
    "\n",
    "\n",
    "var=\"emploi_quelconque_t_plus_12\"\n",
    "    \n",
    "\n",
    "period=pd.date_range('2017-01-01','2019-10-01' , freq='1M')-pd.offsets.MonthBegin(1)\n",
    "period=[date_obj.strftime('%Y-%m-%d') for date_obj in period] \n",
    "irm_coef.append(weighted_average(df_irm[df_irm.cohorte.isin(period)],\"coef_\"+var,\"poids\"))\n",
    "irm_upp.append(weighted_average(df_irm[df_irm.cohorte.isin(period)],\"upp_\"+var,\"poids\"))\n",
    "irm_low.append(weighted_average(df_irm[df_irm.cohorte.isin(period)],\"low_\"+var,\"poids\"))\n",
    "irm_std.append(weighted_average(df_irm[df_irm.cohorte.isin(period)],\"std_\"+var,\"poids\"))\n",
    "var=\"emploi_quelconque_t_plus_18\"\n",
    "    \n",
    "\n",
    "period=pd.date_range('2017-01-01','2019-04-01' , freq='1M')-pd.offsets.MonthBegin(1)\n",
    "period=[date_obj.strftime('%Y-%m-%d') for date_obj in period]   \n",
    "irm_coef.append(weighted_average(df_irm[df_irm.cohorte.isin(period)],\"coef_\"+var,\"poids\"))\n",
    "irm_upp.append(weighted_average(df_irm[df_irm.cohorte.isin(period)],\"upp_\"+var,\"poids\"))\n",
    "irm_low.append(weighted_average(df_irm[df_irm.cohorte.isin(period)],\"low_\"+var,\"poids\"))\n",
    "irm_std.append(weighted_average(df_irm[df_irm.cohorte.isin(period)],\"std_\"+var,\"poids\"))\n",
    "var=\"emploi_quelconque_t_plus_24\"\n",
    "    \n",
    "\n",
    "period=pd.date_range('2017-01-01','2019-10-01' , freq='1M')-pd.offsets.MonthBegin(1)\n",
    "period=[date_obj.strftime('%Y-%m-%d') for date_obj in period]    \n",
    "irm_coef.append(weighted_average(df_irm[df_irm.cohorte.isin(period)],\"coef_\"+var,\"poids\"))\n",
    "irm_upp.append(weighted_average(df_irm[df_irm.cohorte.isin(period)],\"upp_\"+var,\"poids\"))\n",
    "irm_low.append(weighted_average(df_irm[df_irm.cohorte.isin(period)],\"low_\"+var,\"poids\"))\n",
    "irm_std.append(weighted_average(df_irm[df_irm.cohorte.isin(period)],\"std_\"+var,\"poids\"))\n",
    "    \n",
    "    \n",
    "\n",
    "\n",
    "dic_avg[\"irm_coef\"]=irm_coef\n",
    "dic_avg[\"irm_upp\"]=irm_upp\n",
    "dic_avg[\"irm_low\"]=irm_low\n",
    "dic_avg[\"irm_std\"]=irm_std\n",
    "df_avg=pd.DataFrame.from_dict(dic_avg,orient=\"columns\")\n",
    "\n",
    "df_avg=df_avg*100\n",
    "\n",
    "df_avg[\"temps\"]=[\"6\",\"12\",\"18\",\"24\"]    "
   ]
  },
  {
   "cell_type": "code",
   "execution_count": 30,
   "metadata": {},
   "outputs": [],
   "source": [
    "df_avg=df_avg.astype(float)"
   ]
  },
  {
   "cell_type": "markdown",
   "metadata": {},
   "source": [
    "Résultats matching valeurs"
   ]
  },
  {
   "cell_type": "code",
   "execution_count": 31,
   "metadata": {},
   "outputs": [],
   "source": [
    "df_avg[\"match_coef\"]=[0.6,5.7,8.8,9.2]\n",
    "df_avg[\"match_std\"]=[0.27,0.29,0.29,0.29]"
   ]
  },
  {
   "cell_type": "code",
   "execution_count": 32,
   "metadata": {},
   "outputs": [
    {
     "data": {
      "text/html": [
       "<div>\n",
       "<style scoped>\n",
       "    .dataframe tbody tr th:only-of-type {\n",
       "        vertical-align: middle;\n",
       "    }\n",
       "\n",
       "    .dataframe tbody tr th {\n",
       "        vertical-align: top;\n",
       "    }\n",
       "\n",
       "    .dataframe thead th {\n",
       "        text-align: right;\n",
       "    }\n",
       "</style>\n",
       "<table border=\"1\" class=\"dataframe\">\n",
       "  <thead>\n",
       "    <tr style=\"text-align: right;\">\n",
       "      <th></th>\n",
       "      <th>temps</th>\n",
       "      <th>irm_coef</th>\n",
       "      <th>irm_upp</th>\n",
       "      <th>irm_low</th>\n",
       "      <th>irm_std</th>\n",
       "      <th>match_coef</th>\n",
       "      <th>match_std</th>\n",
       "    </tr>\n",
       "  </thead>\n",
       "  <tbody>\n",
       "    <tr>\n",
       "      <th>0</th>\n",
       "      <td>6.0</td>\n",
       "      <td>3.16</td>\n",
       "      <td>3.81</td>\n",
       "      <td>2.51</td>\n",
       "      <td>0.33</td>\n",
       "      <td>0.6</td>\n",
       "      <td>0.27</td>\n",
       "    </tr>\n",
       "    <tr>\n",
       "      <th>1</th>\n",
       "      <td>12.0</td>\n",
       "      <td>8.48</td>\n",
       "      <td>9.18</td>\n",
       "      <td>7.77</td>\n",
       "      <td>0.36</td>\n",
       "      <td>5.7</td>\n",
       "      <td>0.29</td>\n",
       "    </tr>\n",
       "    <tr>\n",
       "      <th>2</th>\n",
       "      <td>18.0</td>\n",
       "      <td>11.81</td>\n",
       "      <td>12.52</td>\n",
       "      <td>11.09</td>\n",
       "      <td>0.37</td>\n",
       "      <td>8.8</td>\n",
       "      <td>0.29</td>\n",
       "    </tr>\n",
       "    <tr>\n",
       "      <th>3</th>\n",
       "      <td>24.0</td>\n",
       "      <td>11.93</td>\n",
       "      <td>12.63</td>\n",
       "      <td>11.23</td>\n",
       "      <td>0.36</td>\n",
       "      <td>9.2</td>\n",
       "      <td>0.29</td>\n",
       "    </tr>\n",
       "  </tbody>\n",
       "</table>\n",
       "</div>"
      ],
      "text/plain": [
       "   temps  irm_coef  irm_upp  irm_low  irm_std  match_coef  match_std\n",
       "0    6.0      3.16     3.81     2.51     0.33         0.6       0.27\n",
       "1   12.0      8.48     9.18     7.77     0.36         5.7       0.29\n",
       "2   18.0     11.81    12.52    11.09     0.37         8.8       0.29\n",
       "3   24.0     11.93    12.63    11.23     0.36         9.2       0.29"
      ]
     },
     "execution_count": 32,
     "metadata": {},
     "output_type": "execute_result"
    }
   ],
   "source": [
    "np.round(df_avg,2)"
   ]
  },
  {
   "cell_type": "code",
   "execution_count": null,
   "metadata": {},
   "outputs": [],
   "source": []
  }
 ],
 "metadata": {
  "kernelspec": {
   "display_name": "Python 3",
   "language": "python",
   "name": "python3"
  },
  "language_info": {
   "codemirror_mode": {
    "name": "ipython",
    "version": 3
   },
   "file_extension": ".py",
   "mimetype": "text/x-python",
   "name": "python",
   "nbconvert_exporter": "python",
   "pygments_lexer": "ipython3",
   "version": "3.7.0"
  }
 },
 "nbformat": 4,
 "nbformat_minor": 2
}
