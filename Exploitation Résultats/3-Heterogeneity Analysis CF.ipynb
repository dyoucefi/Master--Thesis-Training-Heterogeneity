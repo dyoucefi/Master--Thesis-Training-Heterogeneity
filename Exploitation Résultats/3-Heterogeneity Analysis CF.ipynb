{
 "cells": [
  {
   "cell_type": "code",
   "execution_count": 1,
   "metadata": {},
   "outputs": [],
   "source": [
    "\n",
    "import pandas as pd\n",
    "import numpy as np\n",
    "from sklearn.ensemble import RandomForestRegressor, RandomForestClassifier\n",
    "from sklearn.base import clone\n",
    "import joblib\n",
    "import pickle\n",
    "import matplotlib.pyplot as plt\n",
    "import doubleml as dml\n",
    "import patsy\n",
    "import plotly.express as px\n",
    "import plotly.graph_objects as go\n",
    "import matplotlib.pyplot as plt"
   ]
  },
  {
   "cell_type": "code",
   "execution_count": 2,
   "metadata": {},
   "outputs": [],
   "source": [
    "dates= pd.date_range('2017-01-01','2021-07-01' , freq='1M')-pd.offsets.MonthBegin(1)\n",
    "dates=[date_obj.strftime('%Y-%m-%d') for date_obj in dates]\n",
    "\n",
    "var_quel=[\"emploi_quelconque_t_plus_3\",\"emploi_quelconque_t_plus_6\",  \"emploi_quelconque_t_plus_12\" ,\"emploi_quelconque_t_plus_18\" ,\"emploi_quelconque_t_plus_24\",\"emploi_quelconque_t_plus_36\"]\n",
    "\n",
    "x_cols=[\"age\", \"anciennete\",\"sexe\",\"zone_urbaine\",\"handicap\" ]\n",
    "\n",
    "path=\"C:/Users/dalil.youcefi/Documents/Formation et retour à l'emploi/Données\""
   ]
  },
  {
   "cell_type": "markdown",
   "metadata": {},
   "source": [
    "On récupère les blp"
   ]
  },
  {
   "cell_type": "code",
   "execution_count": 3,
   "metadata": {},
   "outputs": [],
   "source": [
    "dic_cov_val={}\n",
    "n_obs=pd.read_csv(\"C:/Users/dalil.youcefi/Documents/Formation et retour à l'emploi/Données/Résultats/R/CF/Certif/n_2021-06-01_emploi_quelconque_t_plus_18.csv\")\n",
    "\n",
    "\n",
    "\n",
    "n_obs.index=dates\n",
    "\n",
    "\n",
    "x_cols=[\"age\", \"anciennete\",\"sexe\",\"zone_urbaine\",\"handicap\" ]\n",
    "\n",
    "for cov in x_cols:\n",
    "    for var in [\"emploi_quelconque_t_plus_18\"]:\n",
    "        li=[]\n",
    "        li2=[]\n",
    "        li3=[]\n",
    "        li4=[]\n",
    "        li5=[]\n",
    "\n",
    "        for cohorte in dates:\n",
    "\n",
    "            blp=pd.read_csv(path+\"/Résultats/R/CF/Certif/cf_certif_blp_bas_cov_\"+cohorte+\"_\"+var+\".csv\",index_col=0)\n",
    "            val=blp.loc[cov,\"Estimate\"]\n",
    "            p_val=blp.loc[cov,\"Pr(>|t|)\"]\n",
    "            std=blp.loc[cov,'Std. Error']\n",
    "            upp=blp.loc[cov,\"97.5 %\" ]\n",
    "            low=blp.loc[cov,\"2.5 %\"]\n",
    "            li.append(val)\n",
    "            li2.append(p_val)\n",
    "            li3.append(std)\n",
    "            li4.append(upp)\n",
    "            li5.append(low)\n",
    "        dic_cov_val[\"coef_\"+cov+\"_\"+var]=li\n",
    "        dic_cov_val[\"p_val_\"+cov+\"_\"+var]=li2\n",
    "        dic_cov_val[\"std_\"+cov+\"_\"+var]=li3\n",
    "        dic_cov_val[\"upp_\"+cov+\"_\"+var]=li4\n",
    "        dic_cov_val[\"low_\"+cov+\"_\"+var]=li5\n",
    "        \n",
    "    \n",
    "    \n",
    "    \n",
    "dic_cov_val[\"cohorte\"]=dates\n",
    "df_cov_val=pd.DataFrame.from_dict(dic_cov_val,orient=\"columns\")"
   ]
  },
  {
   "cell_type": "markdown",
   "metadata": {},
   "source": [
    "Graphique des BLP par cohorte"
   ]
  },
  {
   "cell_type": "code",
   "execution_count": 4,
   "metadata": {},
   "outputs": [],
   "source": [
    "\n",
    "x_cols=[\"age\", \"anciennete\",\"sexe\",\"zone_urbaine\",\"handicap\" ]\n",
    "\n",
    "\n",
    "dic_var={\"age\":\"Age\", \"anciennete\": \" Time Registered at Pôle Emploi\", \"zone_urbaine\": \"Priority Area\", \"handicap\": \"Disabled\",\"sexe\":\"Gender\"}\n",
    "li_fig=[]\n",
    "for cov in x_cols:\n",
    "    eff=\"coef_\"+cov+\"_emploi_quelconque_t_plus_18\"\n",
    "\n",
    "    upp=\"upp_\"+cov+\"_emploi_quelconque_t_plus_18\"\n",
    "    low=\"low_\"+cov+\"_emploi_quelconque_t_plus_18\"\n",
    "\n",
    "    df_cov_val[\"cohorte\"]=dates\n",
    "\n",
    "    color_dict={eff:\"red\",upp:\"blue\",low:\"blue\"}\n",
    "\n",
    "    fig=px.line(df_cov_val, x=\"cohorte\",y= [eff,upp,low]\n",
    "\n",
    "               ,color_discrete_map = color_dict\n",
    "               ,labels={\"cohorte\":\"Months\",\"value\": \"Estimates (in p.p.) \"})\n",
    "\n",
    "    fig.add_hline(y=0, line_width=1, line_color=\"black\")\n",
    "\n",
    "    newnames={ eff: dic_var[cov],\n",
    "\n",
    "             upp:\"Upper 95% bound\",\n",
    "             low:\"Lower 95% bound\"}\n",
    "\n",
    "    fig.for_each_trace(lambda t: t.update(name = newnames[t.name]))\n",
    "    fig.update_layout(legend={'title_text':''})\n",
    "\n",
    "\n",
    "    fig['data'][1]['line']['dash']=\"dash\"\n",
    "\n",
    "    fig['data'][2]['line']['dash']=\"dash\"\n",
    "\n",
    "    fig['data'][0]['line']['width']=1\n",
    "    \n",
    "    fig.write_image(\"C:/Users/dalil.youcefi/Desktop/blp_\"+cov+\".jpeg\")\n",
    "    \n",
    "\n",
    "        "
   ]
  },
  {
   "cell_type": "markdown",
   "metadata": {},
   "source": [
    "Moyenne par an des BLP"
   ]
  },
  {
   "cell_type": "code",
   "execution_count": 5,
   "metadata": {},
   "outputs": [],
   "source": [
    "year=[\"2017\" for i in range(12)]\n",
    "year+=[\"2018\" for i in range(12)]\n",
    "year+=[\"2019\" for i in range(12)]\n",
    "year+=[\"2020\" for i in range(12)]\n",
    "year+=[\"2021\"  for i in range(6)]\n",
    "\n",
    "df_cov_year=df_cov_val.copy()"
   ]
  },
  {
   "cell_type": "code",
   "execution_count": 6,
   "metadata": {},
   "outputs": [],
   "source": [
    "df_cov_year[\"year\"]=year"
   ]
  },
  {
   "cell_type": "code",
   "execution_count": 7,
   "metadata": {},
   "outputs": [],
   "source": [
    "df_cov_year=df_cov_year.groupby(\"year\").mean()\n",
    "df_cov_year[\"year\"]=df_cov_year.index"
   ]
  },
  {
   "cell_type": "code",
   "execution_count": 8,
   "metadata": {},
   "outputs": [],
   "source": [
    "\n",
    "x_cols=[\"age\", \"anciennete\",\"sexe\",\"zone_urbaine\",\"handicap\" ]\n",
    "\n",
    "\n",
    "dic_var={\"age\":\"Age\", \"anciennete\": \" Time Registered at Pôle Emploi\", \"zone_urbaine\": \"Priority Area\", \"handicap\": \"Disabled\",\"sexe\":\"Gender\"}\n",
    "li_fig=[]\n",
    "for cov in x_cols:\n",
    "    eff=\"coef_\"+cov+\"_emploi_quelconque_t_plus_18\"\n",
    "\n",
    "    upp=\"upp_\"+cov+\"_emploi_quelconque_t_plus_18\"\n",
    "    low=\"low_\"+cov+\"_emploi_quelconque_t_plus_18\"\n",
    "\n",
    "    df_cov_val[\"cohorte\"]=dates\n",
    "\n",
    "    color_dict={eff:\"red\",upp:\"blue\",low:\"blue\"}\n",
    "\n",
    "    fig=px.line(df_cov_year, x=\"year\",y= [eff,upp,low]\n",
    "\n",
    "               ,color_discrete_map = color_dict\n",
    "               ,labels={\"year\":\"Year\",\"value\": \"Mean BLP Estimates\"})\n",
    "\n",
    "    fig.add_hline(y=0, line_width=1, line_color=\"black\")\n",
    "\n",
    "    newnames={ eff: dic_var[cov],\n",
    "\n",
    "             upp:\"Upper 95% bound\",\n",
    "             low:\"Lower 95% bound\"}\n",
    "\n",
    "    fig.for_each_trace(lambda t: t.update(name = newnames[t.name]))\n",
    "    fig.update_layout(legend={'title_text':''})\n",
    "\n",
    "\n",
    "    fig['data'][1]['line']['dash']=\"dash\"\n",
    "\n",
    "    fig['data'][2]['line']['dash']=\"dash\"\n",
    "\n",
    "    fig['data'][0]['line']['width']=1\n",
    "    \n",
    "    fig.write_image(\"C:/Users/dalil.youcefi/Desktop/blp_year_\"+cov+\".jpeg\")\n",
    "    "
   ]
  },
  {
   "cell_type": "markdown",
   "metadata": {},
   "source": [
    "GATE moyen pour ROME et NIVFOR"
   ]
  },
  {
   "cell_type": "code",
   "execution_count": 30,
   "metadata": {},
   "outputs": [
    {
     "name": "stdout",
     "output_type": "stream",
     "text": [
      "\\begin{tabular}{lrrrr}\n",
      "\\toprule\n",
      "{} &   ATE &   Low &   Upp &  std \\\\\n",
      "\\midrule\n",
      "romeAgriculture              &   9.6 &   3.6 &  15.5 &  3.0 \\\\\n",
      "romeArts                     &  13.9 &  -1.8 &  29.5 &  8.0 \\\\\n",
      "romeBanquassur               &   6.2 &  -5.5 &  17.9 &  6.0 \\\\\n",
      "romeBTP                      &   7.0 &   2.4 &  11.7 &  2.4 \\\\\n",
      "romeComm.et.medias           &   0.0 &   0.0 &   0.0 &  0.0 \\\\\n",
      "romeCommerce.et.vente        &   0.0 &   0.0 &   0.0 &  0.0 \\\\\n",
      "romeIndustrie                &   8.8 &   4.0 &  13.7 &  2.5 \\\\\n",
      "romeLoisirs.Tourisme         &   0.0 &   0.0 &   0.0 &  0.0 \\\\\n",
      "romeMaintenance.Installation &   0.0 &   0.0 &   0.0 &  0.0 \\\\\n",
      "romeSante                    &   6.2 &  -0.6 &  13.0 &  3.5 \\\\\n",
      "romeServices.a.la.personne   &   0.0 &   0.0 &   0.0 &  0.0 \\\\\n",
      "romeSpectacle                &  12.9 &   4.9 &  20.8 &  4.1 \\\\\n",
      "nivfor0                      &   0.0 &   0.0 &   0.0 &  0.0 \\\\\n",
      "romeinconnu                  &  12.2 &  10.7 &  13.6 &  0.8 \\\\\n",
      "\\bottomrule\n",
      "\\end{tabular}\n",
      "\n"
     ]
    },
    {
     "data": {
      "image/png": "[encoded data removed]",
      "text/plain": [
       "<Figure size 720x540 with 1 Axes>"
      ]
     },
     "metadata": {
      "needs_background": "light"
     },
     "output_type": "display_data"
    }
   ],
   "source": [
    "\n",
    "for cov in x_cols:\n",
    "    for var in [\"emploi_quelconque_t_plus_18\"]:\n",
    "    \n",
    "        for cohorte in dates:\n",
    "            if cohorte==dates[0]:\n",
    "                \n",
    "                res=pd.read_csv(path+\"/Résultats/R/CF/Certif/cf_certif_blp_rome_\"+cohorte+\"_\"+var+\".csv\",index_col=0)\n",
    "                \n",
    "                \n",
    "            else:\n",
    "                gate=pd.read_csv(path+\"/Résultats/R/CF/Certif/cf_certif_blp_rome_\"+cohorte+\"_\"+var+\".csv\",index_col=0)\n",
    "                res=gate+res\n",
    "            \n",
    "    \n",
    "res*=100/54\n",
    "            \n",
    "res[\"std\"]=(res[\"Upp\"]-res[\"ATE\"])/1.96  \n",
    "res=res[[\"ATE\",\"Low\",\"Upp\",\"std\"]]\n",
    "\n",
    "print(np.round(res,1).to_latex())\n",
    "\n",
    "\n",
    "li_rome=[\"Agriculture\",\"Arts\",\"Bank & Assurance\",\"Construction\",\"Industry\",\"Health\",\"Unknown\"]\n",
    "\n",
    "res=res.loc[[\"romeAgriculture\",\"romeArts\",\"romeBanquassur\",\"romeBTP\",\"romeIndustrie\",\"romeSante\",\"romeinconnu\"],]\n",
    "plt.rcParams['figure.figsize'] = 10., 7.5\n",
    "\n",
    "errors = np.full((2, res.shape[0]), np.nan)\n",
    "errors[0, :] = res['ATE'] - res['Low']\n",
    "errors[1, :] = res['Upp'] - res['ATE']\n",
    "\n",
    "\n",
    "\n",
    "plt.errorbar(li_rome, res.ATE, fmt='o', yerr=errors, label='ATE Continuous Treatment (with joint CI)')\n",
    "\n",
    "plt.axhline(y = 0., color = 'black', linestyle = '-')\n",
    "\n",
    "plt.title('GATEs')\n",
    "plt.xlabel('Desired Sector')\n",
    "plt.legend()\n",
    "plt.savefig(\"C:/Users/dalil.youcefi/Desktop/GATE_rome_toute_cohorte.png\")\n",
    "plt.show()\n"
   ]
  },
  {
   "cell_type": "code",
   "execution_count": 31,
   "metadata": {},
   "outputs": [
    {
     "name": "stdout",
     "output_type": "stream",
     "text": [
      "\\begin{tabular}{lrrrr}\n",
      "\\toprule\n",
      "{} &   ATE &   Low &   Upp &  std \\\\\n",
      "\\midrule\n",
      "nivfor1 &   8.5 &   5.9 &  11.2 &  1.3 \\\\\n",
      "nivfor2 &   9.8 &   6.2 &  13.4 &  1.8 \\\\\n",
      "nivfor3 &   8.6 &   4.1 &  13.1 &  2.3 \\\\\n",
      "nivfor4 &   8.1 &   3.3 &  13.0 &  2.5 \\\\\n",
      "nivfor0 &  13.8 &  11.9 &  15.6 &  0.9 \\\\\n",
      "\\bottomrule\n",
      "\\end{tabular}\n",
      "\n"
     ]
    },
    {
     "data": {
      "image/png": "[encoded data removed]",
      "text/plain": [
       "<Figure size 720x540 with 1 Axes>"
      ]
     },
     "metadata": {
      "needs_background": "light"
     },
     "output_type": "display_data"
    }
   ],
   "source": [
    "\n",
    "n_obs=pd.read_csv(\"C:/Users/dalil.youcefi/Documents/Formation et retour à l'emploi/Données/Résultats/R/CF/Certif/n_2021-06-01_emploi_quelconque_t_plus_18.csv\")\n",
    "\n",
    "\n",
    "\n",
    "n_obs.index=dates\n",
    "\n",
    "\n",
    "for cov in x_cols:\n",
    "    for var in [\"emploi_quelconque_t_plus_18\"]:\n",
    "    \n",
    "        for cohorte in dates:\n",
    "            if cohorte==dates[0]:\n",
    "                \n",
    "                res=pd.read_csv(path+\"/Résultats/R/CF/Certif/cf_certif_blp_nivfor_\"+cohorte+\"_\"+var+\".csv\",index_col=0)\n",
    "            else:\n",
    "                gate=pd.read_csv(path+\"/Résultats/R/CF/Certif/cf_certif_blp_nivfor_\"+cohorte+\"_\"+var+\".csv\",index_col=0)\n",
    "                res=gate+res\n",
    "                \n",
    "            \n",
    "    \n",
    "res*=100/54\n",
    "            \n",
    "res[\"std\"]=(res[\"Upp\"]-res[\"ATE\"])/1.96      \n",
    "        \n",
    "res=res[[\"ATE\",\"Low\",\"Upp\",\"std\"]]\n",
    "print(np.round(res,1).to_latex())\n",
    "\n",
    "\n",
    "res=res.loc[['nivfor0', 'nivfor1', 'nivfor2', 'nivfor3','nivfor4'],]    \n",
    "    \n",
    "\n",
    "\n",
    "li_nivfor=[\"No Bac\",\"Bac\",\"Bac +2\", \"Bac+3\",\"Bac+5\"]\n",
    "\n",
    "plt.rcParams['figure.figsize'] = 10., 7.5\n",
    "\n",
    "errors = np.full((2, res.shape[0]), np.nan)\n",
    "errors[0, :] = res['ATE'] - res['Low']\n",
    "errors[1, :] = res['Upp'] - res['ATE']\n",
    "\n",
    "\n",
    "\n",
    "plt.errorbar(li_nivfor, res.ATE, fmt='o', yerr=errors, label='ATE Continuous Treatment (with joint CI)')\n",
    "\n",
    "plt.axhline(y = 0., color = 'black', linestyle = '-')\n",
    "\n",
    "plt.title('GATEs')\n",
    "plt.xlabel('Level of Education')\n",
    "plt.legend()\n",
    "plt.savefig(\"C:/Users/dalil.youcefi/Desktop/GATE_nivfor_toute_cohorte.png\")\n",
    "plt.show()\n"
   ]
  },
  {
   "cell_type": "markdown",
   "metadata": {},
   "source": [
    "Moyenne charactéristiques les plus traités et les moins traités"
   ]
  },
  {
   "cell_type": "code",
   "execution_count": 11,
   "metadata": {},
   "outputs": [],
   "source": [
    "for cohorte in dates:\n",
    "    for var in [\"emploi_quelconque_t_plus_18\"]:\n",
    "        res_high=pd.read_csv(path+\"/Résultats/R/CF/Certif/cf_certif_charac_high_\"+cohorte+\"_\"+var+\".csv\",index_col=0)\n",
    "        res_low=pd.read_csv(path+\"/Résultats/R/CF/Certif/cf_certif_charac_low_\"+cohorte+\"_\"+var+\".csv\",index_col=0)\n",
    "        res_high.rename(columns={\"x\":\"High Treated\"},inplace=True)\n",
    "        res_low.rename(columns={\"x\":\"Low Treated\"},inplace=True)\n",
    "        res=res_high.join(res_low)\n",
    "        if cohorte==dates[0]:\n",
    "            diff_treat=res.copy()\n",
    "        else:\n",
    "            diff_treat+=res\n",
    "        \n",
    "diff_treat/=54\n",
    "        \n",
    "niv0=1-diff_treat.loc[[\"nivfor1\",\"nivfor2\",\"nivfor3\",\"nivfor4\"],].sum()  \n",
    "diff_treat = diff_treat.append(pd.DataFrame([list(niv0)],index=['nivfor0'],columns=diff_treat.columns))"
   ]
  },
  {
   "cell_type": "code",
   "execution_count": 12,
   "metadata": {},
   "outputs": [
    {
     "name": "stdout",
     "output_type": "stream",
     "text": [
      "\\begin{tabular}{lrr}\n",
      "\\toprule\n",
      "{} &  High Treated &  Low Treated \\\\\n",
      "\\midrule\n",
      "anciennete          &      1095.861 &      257.499 \\\\\n",
      "age                 &        47.153 &       26.938 \\\\\n",
      "sexe                &         0.550 &        0.490 \\\\\n",
      "nivfor1             &         0.177 &        0.349 \\\\\n",
      "nivfor2             &         0.110 &        0.134 \\\\\n",
      "nivfor3             &         0.059 &        0.091 \\\\\n",
      "nivfor4             &         0.042 &        0.078 \\\\\n",
      "handicap            &         0.165 &        0.015 \\\\\n",
      "zone\\_urbaine        &         0.125 &        0.109 \\\\\n",
      "temps\\_chomage\\_avant &       331.316 &      369.900 \\\\\n",
      "estimate            &         0.211 &        0.003 \\\\\n",
      "std.err             &         0.013 &        0.013 \\\\\n",
      "nivfor0             &         0.612 &        0.348 \\\\\n",
      "\\bottomrule\n",
      "\\end{tabular}\n",
      "\n"
     ]
    }
   ],
   "source": [
    "print(np.round(diff_treat,3).to_latex())"
   ]
  },
  {
   "cell_type": "markdown",
   "metadata": {},
   "source": [
    "Caractéristiques les plus et les moins traités Septembre 2017 pur modèle linéaire et modèle continu"
   ]
  },
  {
   "cell_type": "code",
   "execution_count": 13,
   "metadata": {},
   "outputs": [],
   "source": [
    "for cohorte in [\"2017-09-01\"]:\n",
    "    for var in [\"emploi_quelconque_t_plus_18\"]:\n",
    "        res_high=pd.read_csv(path+\"/Résultats/R/CF/Certif/cf_certif_charac_high_\"+cohorte+\"_\"+var+\".csv\",index_col=0)\n",
    "        res_low=pd.read_csv(path+\"/Résultats/R/CF/Certif/cf_certif_charac_low_\"+cohorte+\"_\"+var+\".csv\",index_col=0)\n",
    "        res_high.rename(columns={\"x\":\"High Treated Binary\"},inplace=True)\n",
    "        res_low.rename(columns={\"x\":\"Low Treated Binary\"},inplace=True)\n",
    "        diff_treat_binary=res_high.join(res_low)\n",
    "       \n",
    "\n",
    "        \n",
    "niv0=1-diff_treat_binary.loc[[\"nivfor1\",\"nivfor2\",\"nivfor3\",\"nivfor4\"],].sum()  \n",
    "diff_treat_binary = diff_treat_binary.append(pd.DataFrame([list(niv0)],index=['nivfor0'],columns=diff_treat_binary.columns))"
   ]
  },
  {
   "cell_type": "code",
   "execution_count": 14,
   "metadata": {},
   "outputs": [],
   "source": [
    "for cohorte in [\"2017-09-01\"]:\n",
    "    for var in [\"emploi_quelconque_t_plus_18\"]:\n",
    "        res_high=pd.read_csv(path+\"/Résultats/R/CF/Certif/cf_certif_charac_high_h_\"+cohorte+\"_\"+var+\".csv\",index_col=0)\n",
    "        res_low=pd.read_csv(path+\"/Résultats/R/CF/Certif/cf_certif_charac_low_h_\"+cohorte+\"_\"+var+\".csv\",index_col=0)\n",
    "        res_high.rename(columns={\"x\":\"High Treated Continuous\"},inplace=True)\n",
    "        res_low.rename(columns={\"x\":\"Low Treated Continuous\"},inplace=True)\n",
    "        diff_treat_h=res_high.join(res_low)\n",
    "       \n",
    "\n",
    "        \n",
    "niv0=1-diff_treat_h.loc[[\"nivfor1\",\"nivfor2\",\"nivfor3\",\"nivfor4\"],].sum()  \n",
    "diff_treat_h = diff_treat_h.append(pd.DataFrame([list(niv0)],index=['nivfor0'],columns=diff_treat_h.columns))"
   ]
  },
  {
   "cell_type": "code",
   "execution_count": 15,
   "metadata": {},
   "outputs": [],
   "source": [
    "diff_treat_tot=diff_treat_binary.join(diff_treat_h)"
   ]
  },
  {
   "cell_type": "code",
   "execution_count": 16,
   "metadata": {},
   "outputs": [],
   "source": [
    "diff_treat_tot=diff_treat_tot[[\"High Treated Continuous\",\"High Treated Binary\",\"Low Treated Continuous\",\"Low Treated Binary\"]]"
   ]
  },
  {
   "cell_type": "code",
   "execution_count": 40,
   "metadata": {},
   "outputs": [
    {
     "name": "stdout",
     "output_type": "stream",
     "text": [
      "\\begin{tabular}{lrrrr}\n",
      "\\toprule\n",
      "{} &  High Treated Continuous &  High Treated Binary &  Low Treated Continuous &  Low Treated Binary \\\\\n",
      "\\midrule\n",
      "anciennete          &                   1051.5 &               1009.8 &                   257.0 &               219.1 \\\\\n",
      "age                 &                     47.8 &                 47.4 &                    25.9 &                25.6 \\\\\n",
      "sexe                &                      0.6 &                  0.5 &                     0.5 &                 0.8 \\\\\n",
      "nivfor1             &                      0.2 &                  0.2 &                     0.4 &                 0.4 \\\\\n",
      "nivfor2             &                      0.1 &                  0.1 &                     0.1 &                 0.1 \\\\\n",
      "nivfor3             &                      0.0 &                  0.0 &                     0.1 &                 0.1 \\\\\n",
      "nivfor4             &                      0.1 &                  0.0 &                     0.1 &                 0.1 \\\\\n",
      "handicap            &                      0.1 &                  0.2 &                     0.0 &                 0.0 \\\\\n",
      "zone\\_urbaine        &                      0.1 &                  0.1 &                     0.1 &                 0.0 \\\\\n",
      "temps\\_chomage\\_avant &                    228.3 &                267.1 &                   269.1 &               215.9 \\\\\n",
      "estimate            &                      0.0 &                  0.2 &                    -0.0 &                -0.1 \\\\\n",
      "std.err             &                      0.0 &                  0.0 &                     0.0 &                 0.0 \\\\\n",
      "nivfor0             &                      0.6 &                  0.7 &                     0.4 &                 0.2 \\\\\n",
      "\\bottomrule\n",
      "\\end{tabular}\n",
      "\n"
     ]
    }
   ],
   "source": [
    "print(np.round(diff_treat_tot,1).to_latex())"
   ]
  },
  {
   "cell_type": "markdown",
   "metadata": {},
   "source": [
    "GATE Septembre 2017 pur modèle linéaire et modèle continu"
   ]
  },
  {
   "cell_type": "code",
   "execution_count": 46,
   "metadata": {},
   "outputs": [],
   "source": [
    "\n",
    "n_obs=pd.read_csv(\"C:/Users/dalil.youcefi/Documents/Formation et retour à l'emploi/Données/Résultats/R/CF/Certif/n_2021-06-01_emploi_quelconque_t_plus_18.csv\")\n",
    "\n",
    "\n",
    "\n",
    "n_obs.index=dates\n",
    "\n",
    "\n",
    "for var in [\"emploi_quelconque_t_plus_18\"]:\n",
    "\n",
    "    for cohorte in [\"2017-09-01\"]:\n",
    "\n",
    "\n",
    "        res=pd.read_csv(path+\"/Résultats/R/CF/Certif/cf_certif_blp_rome_\"+cohorte+\"_\"+var+\".csv\",index_col=0)\n",
    "\n",
    "    \n",
    "res*=100\n",
    "            \n",
    "res[\"std\"]=(res[\"Upp\"]-res[\"ATE\"])/1.96      \n",
    "        \n",
    "\n",
    "\n",
    "res=res.loc[['romeAgriculture', 'romeArts', 'romeBanquassur', 'romeBTP','romeIndustrie', 'romeSante','romeinconnu'],]    \n",
    "    \n",
    "res=res[[\"ATE\",\"Low\",\"Upp\",\"std\"]]\n",
    "\n",
    "\n",
    "for var in [\"emploi_quelconque_t_plus_18\"]:\n",
    "\n",
    "    for cohorte in [\"2017-09-01\"]:\n",
    "       \n",
    "\n",
    "        res_h=pd.read_csv(path+\"/Résultats/R/CF/Certif/cf_certif_blp_rome_h_\"+cohorte+\"_\"+var+\".csv\",index_col=0)\n",
    "\n",
    "    \n",
    "res_h*=100\n",
    "            \n",
    "res_h[\"std\"]=(res_h[\"Upp\"]-res_h[\"ATE\"])/1.96     \n",
    "\n",
    "res_h=res_h.loc[['romeAgriculture', 'romeArts', 'romeBanquassur', 'romeBTP','romeIndustrie', 'romeSante','romeinconnu'],]\n",
    "res_h=res_h[[\"ATE\",\"Low\",\"Upp\",\"std\"]]\n",
    "\n",
    "        "
   ]
  },
  {
   "cell_type": "code",
   "execution_count": 47,
   "metadata": {},
   "outputs": [
    {
     "name": "stdout",
     "output_type": "stream",
     "text": [
      "\\begin{tabular}{lrrrrrrrr}\n",
      "\\toprule\n",
      "{} &  bin\\_ATE &  bin\\_Low &  bin\\_Upp &  bin\\_std &  h\\_bin\\_ATE &  h\\_bin\\_Low &  h\\_bin\\_Upp &  h\\_bin\\_std \\\\\n",
      "\\midrule\n",
      "romeAgriculture &     5.03 &     1.36 &     8.69 &     1.87 &       0.23 &      -0.07 &       0.53 &       0.15 \\\\\n",
      "romeArts        &     9.95 &     0.36 &    19.55 &     4.90 &       1.60 &       0.83 &       2.37 &       0.39 \\\\\n",
      "romeBanquassur  &     2.09 &    -5.01 &     9.18 &     3.62 &       0.71 &       0.12 &       1.29 &       0.30 \\\\\n",
      "romeBTP         &     4.77 &     1.74 &     7.81 &     1.55 &      -0.16 &      -0.39 &       0.06 &       0.12 \\\\\n",
      "romeIndustrie   &     1.87 &    -1.21 &     4.96 &     1.58 &      -0.01 &      -0.26 &       0.23 &       0.12 \\\\\n",
      "romeSante       &   -14.40 &   -16.69 &   -12.11 &     1.17 &      -1.24 &      -1.55 &      -0.92 &       0.16 \\\\\n",
      "romeinconnu     &     4.78 &     3.86 &     5.69 &     0.47 &       0.54 &       0.46 &       0.61 &       0.04 \\\\\n",
      "\\bottomrule\n",
      "\\end{tabular}\n",
      "\n"
     ]
    }
   ],
   "source": [
    "res.columns=[\"bin_\"+c for c in res.columns]\n",
    "res_h.columns=[\"h_\"+c for c in res.columns]\n",
    "\n",
    "print(np.round(res.join(res_h),2).to_latex())"
   ]
  },
  {
   "cell_type": "code",
   "execution_count": 36,
   "metadata": {},
   "outputs": [
    {
     "data": {
      "image/png": "[encoded data removed]",
      "text/plain": [
       "<Figure size 720x540 with 1 Axes>"
      ]
     },
     "metadata": {
      "needs_background": "light"
     },
     "output_type": "display_data"
    }
   ],
   "source": [
    "\n",
    "li_rome=[\"Agriculture\",\"Arts\",\"Bank & Assurance\",\"Construction\",\"Industry\",\"Health\",\"Unknown\"]\n",
    "\n",
    "\n",
    "plt.rcParams['figure.figsize'] = 10., 7.5\n",
    "\n",
    "errors = np.full((2, res.shape[0]), np.nan)\n",
    "errors[0, :] = res['ATE'] - res['Low']\n",
    "errors[1, :] = res['Upp'] - res['ATE']\n",
    "\n",
    "\n",
    "errors_h = np.full((2, res_h.shape[0]), np.nan)\n",
    "errors_h[0, :] = res_h['ATE'] - res_h['Low']\n",
    "errors_h[1, :] = res_h['Upp'] - res_h['ATE']\n",
    "\n",
    "\n",
    "\n",
    "\n",
    "plt.errorbar(li_rome, res_h.ATE, fmt='o', yerr=errors_h, label='ATE Continuous Treatment (with joint CI)')\n",
    "\n",
    "plt.axhline(y = 0., color = 'black', linestyle = '-')\n",
    "\n",
    "plt.title('GATEs')\n",
    "plt.xlabel('Desired Sector')\n",
    "plt.legend()\n",
    "\n",
    "plt.savefig(\"C:/Users/dalil.youcefi/Desktop/GATE_rome_h.png\")"
   ]
  },
  {
   "cell_type": "code",
   "execution_count": 37,
   "metadata": {},
   "outputs": [
    {
     "data": {
      "image/png": "[encoded data removed]",
      "text/plain": [
       "<Figure size 720x540 with 1 Axes>"
      ]
     },
     "metadata": {
      "needs_background": "light"
     },
     "output_type": "display_data"
    }
   ],
   "source": [
    "import matplotlib.pyplot as plt\n",
    "plt.rcParams['figure.figsize'] = 10., 7.5\n",
    "\n",
    "errors = np.full((2, res.shape[0]), np.nan)\n",
    "errors[0, :] = res['ATE'] - res['Low']\n",
    "errors[1, :] = res['Upp'] - res['ATE']\n",
    "\n",
    "\n",
    "errors_h = np.full((2, res_h.shape[0]), np.nan)\n",
    "errors_h[0, :] = res_h['ATE'] - res_h['Low']\n",
    "errors_h[1, :] = res_h['Upp'] - res_h['ATE']\n",
    "\n",
    "\n",
    "\n",
    "plt.errorbar(li_rome, res.ATE, fmt='o', yerr=errors, label='ATE Binary Treatment (with joint CI)')\n",
    "\n",
    "\n",
    "\n",
    "plt.axhline(y = 0., color = 'black', linestyle = '-')\n",
    "\n",
    "plt.title('GATEs')\n",
    "plt.xlabel('Desired Sector')\n",
    "plt.legend()\n",
    "\n",
    "plt.savefig(\"C:/Users/dalil.youcefi/Desktop/GATE_rome_binary.png\")"
   ]
  },
  {
   "cell_type": "code",
   "execution_count": 50,
   "metadata": {},
   "outputs": [],
   "source": [
    "\n",
    "n_obs=pd.read_csv(\"C:/Users/dalil.youcefi/Documents/Formation et retour à l'emploi/Données/Résultats/R/CF/Certif/n_2021-06-01_emploi_quelconque_t_plus_18.csv\")\n",
    "\n",
    "\n",
    "\n",
    "n_obs.index=dates\n",
    "\n",
    "\n",
    "for var in [\"emploi_quelconque_t_plus_18\"]:\n",
    "\n",
    "    for cohorte in [\"2017-09-01\"]:\n",
    "\n",
    "\n",
    "        res=pd.read_csv(path+\"/Résultats/R/CF/Certif/cf_certif_blp_nivfor_\"+cohorte+\"_\"+var+\".csv\",index_col=0)\n",
    "\n",
    "    \n",
    "res*=100\n",
    "            \n",
    "res[\"std\"]=(res[\"Upp\"]-res[\"ATE\"])/1.96      \n",
    "        \n",
    "res=res[[\"ATE\",\"Low\",\"Upp\",\"std\"]]\n",
    "\n",
    "res=res.loc[['nivfor0', 'nivfor1', 'nivfor2', 'nivfor3','nivfor4'],]    \n",
    "    \n",
    "    \n",
    "\n",
    "\n",
    "for var in [\"emploi_quelconque_t_plus_18\"]:\n",
    "\n",
    "    for cohorte in [\"2017-09-01\"]:\n",
    "       \n",
    "\n",
    "        res_h=pd.read_csv(path+\"/Résultats/R/CF/Certif/cf_certif_blp_nivfor_h_\"+cohorte+\"_\"+var+\".csv\",index_col=0)\n",
    "\n",
    "    \n",
    "res_h*=100\n",
    "            \n",
    "res_h[\"std\"]=(res_h[\"Upp\"]-res_h[\"ATE\"])/1.96     \n",
    "\n",
    "res_h=res_h.loc[['nivfor0', 'nivfor1', 'nivfor2', 'nivfor3','nivfor4'],] \n",
    "res_h=res_h[[\"ATE\",\"Low\",\"Upp\",\"std\"]]\n",
    "        "
   ]
  },
  {
   "cell_type": "code",
   "execution_count": 51,
   "metadata": {},
   "outputs": [
    {
     "name": "stdout",
     "output_type": "stream",
     "text": [
      "\\begin{tabular}{lrrrrrrrr}\n",
      "\\toprule\n",
      "{} &  bin\\_ATE &  bin\\_Low &  bin\\_Upp &  bin\\_std &  h\\_bin\\_ATE &  h\\_bin\\_Low &  h\\_bin\\_Upp &  h\\_bin\\_std \\\\\n",
      "\\midrule\n",
      "nivfor0 &    10.28 &     9.14 &    11.42 &     0.58 &       0.63 &       0.54 &       0.72 &       0.04 \\\\\n",
      "nivfor1 &    -2.79 &    -4.21 &    -1.38 &     0.72 &       0.02 &      -0.11 &       0.15 &       0.07 \\\\\n",
      "nivfor2 &    -0.21 &    -2.38 &     1.96 &     1.11 &       0.24 &       0.05 &       0.42 &       0.09 \\\\\n",
      "nivfor3 &    -4.86 &    -7.49 &    -2.23 &     1.34 &      -0.02 &      -0.26 &       0.21 &       0.12 \\\\\n",
      "nivfor4 &    -5.13 &    -8.15 &    -2.11 &     1.54 &       0.26 &       0.00 &       0.52 &       0.13 \\\\\n",
      "\\bottomrule\n",
      "\\end{tabular}\n",
      "\n"
     ]
    }
   ],
   "source": [
    "res.columns=[\"bin_\"+c for c in res.columns]\n",
    "res_h.columns=[\"h_\"+c for c in res.columns]\n",
    "\n",
    "print(np.round(res.join(res_h),2).to_latex())"
   ]
  },
  {
   "cell_type": "code",
   "execution_count": 39,
   "metadata": {},
   "outputs": [
    {
     "data": {
      "image/png": "[encoded data removed]",
      "text/plain": [
       "<Figure size 720x540 with 1 Axes>"
      ]
     },
     "metadata": {
      "needs_background": "light"
     },
     "output_type": "display_data"
    }
   ],
   "source": [
    "\n",
    "li_nivfor=[\"No Bac\",\"Bac\",\"Bac +2\", \"Bac+3\",\"Bac+5\"]\n",
    "plt.rcParams['figure.figsize'] = 10., 7.5\n",
    "\n",
    "errors = np.full((2, res.shape[0]), np.nan)\n",
    "errors[0, :] = res['ATE'] - res['Low']\n",
    "errors[1, :] = res['Upp'] - res['ATE']\n",
    "\n",
    "\n",
    "errors_h = np.full((2, res_h.shape[0]), np.nan)\n",
    "errors_h[0, :] = res_h['ATE'] - res_h['Low']\n",
    "errors_h[1, :] = res_h['Upp'] - res_h['ATE']\n",
    "\n",
    "\n",
    "\n",
    "plt.errorbar(li_nivfor, res.ATE, fmt='o', yerr=errors, label='ATE Binary Treatment (with joint CI)')\n",
    "\n",
    "\n",
    "\n",
    "plt.axhline(y = 0., color = 'black', linestyle = '-')\n",
    "\n",
    "plt.title('GATEs')\n",
    "plt.xlabel('Education Lavel')\n",
    "plt.legend()\n",
    "\n",
    "plt.savefig(\"C:/Users/dalil.youcefi/Desktop/GATE_nivfor_binary.png\")"
   ]
  },
  {
   "cell_type": "code",
   "execution_count": 40,
   "metadata": {},
   "outputs": [
    {
     "data": {
      "image/png": "[encoded data removed]",
      "text/plain": [
       "<Figure size 720x540 with 1 Axes>"
      ]
     },
     "metadata": {
      "needs_background": "light"
     },
     "output_type": "display_data"
    }
   ],
   "source": [
    "import matplotlib.pyplot as plt\n",
    "plt.rcParams['figure.figsize'] = 10., 7.5\n",
    "\n",
    "errors = np.full((2, res.shape[0]), np.nan)\n",
    "errors[0, :] = res['ATE'] - res['Low']\n",
    "errors[1, :] = res['Upp'] - res['ATE']\n",
    "\n",
    "\n",
    "errors_h = np.full((2, res_h.shape[0]), np.nan)\n",
    "errors_h[0, :] = res_h['ATE'] - res_h['Low']\n",
    "errors_h[1, :] = res_h['Upp'] - res_h['ATE']\n",
    "\n",
    "\n",
    "\n",
    "\n",
    "plt.errorbar(li_nivfor, res_h.ATE, fmt='o', yerr=errors_h, label='ATE Continuous Treatment (with joint CI)')\n",
    "\n",
    "plt.axhline(y = 0., color = 'black', linestyle = '-')\n",
    "\n",
    "plt.title('GATEs')\n",
    "plt.xlabel('Education Lavel')\n",
    "plt.legend()\n",
    "\n",
    "plt.savefig(\"C:/Users/dalil.youcefi/Desktop/GATE_nivfor_h.png\")"
   ]
  }
 ],
 "metadata": {
  "kernelspec": {
   "display_name": "Python 3",
   "language": "python",
   "name": "python3"
  },
  "language_info": {
   "codemirror_mode": {
    "name": "ipython",
    "version": 3
   },
   "file_extension": ".py",
   "mimetype": "text/x-python",
   "name": "python",
   "nbconvert_exporter": "python",
   "pygments_lexer": "ipython3",
   "version": "3.7.0"
  }
 },
 "nbformat": 4,
 "nbformat_minor": 2
}
