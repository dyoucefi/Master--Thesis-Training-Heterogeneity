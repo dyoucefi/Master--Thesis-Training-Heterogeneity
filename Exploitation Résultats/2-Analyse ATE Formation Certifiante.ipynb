{
 "cells": [
  {
   "cell_type": "code",
   "execution_count": 1,
   "metadata": {},
   "outputs": [],
   "source": [
    "\n",
    "import pandas as pd\n",
    "import numpy as np\n",
    "from sklearn.ensemble import RandomForestRegressor, RandomForestClassifier\n",
    "from sklearn.base import clone\n",
    "import joblib\n",
    "import pickle\n",
    "import matplotlib.pyplot as plt\n",
    "import doubleml as dml\n",
    "import patsy\n",
    "import plotly.express as px\n",
    "from plotly.subplots import make_subplots\n",
    "from plotly.offline import plot\n",
    "\n",
    "from statsmodels.tsa.seasonal import seasonal_decompose"
   ]
  },
  {
   "cell_type": "code",
   "execution_count": 2,
   "metadata": {},
   "outputs": [],
   "source": [
    "dates= pd.date_range('2017-01-01','2021-07-01' , freq='1M')-pd.offsets.MonthBegin(1)\n",
    "dates=[date_obj.strftime('%Y-%m-%d') for date_obj in dates]\n",
    "\n",
    "var_quel=[\"emploi_quelconque_t_plus_3\",\"emploi_quelconque_t_plus_6\",  \"emploi_quelconque_t_plus_12\" ,\"emploi_quelconque_t_plus_18\" ,\"emploi_quelconque_t_plus_24\",\"emploi_quelconque_t_plus_36\"]\n",
    "\n",
    "x_cols=[\"age\", \"anciennete\",\"sexe\",\"zone_urbaine\",\"handicap\" ]\n",
    "\n",
    "path=\"C:/Users/dalil.youcefi/Documents/Formation et retour à l'emploi/Données\""
   ]
  },
  {
   "cell_type": "code",
   "execution_count": 3,
   "metadata": {},
   "outputs": [],
   "source": [
    "\n",
    "\n",
    "dic_irm={}\n",
    "\n",
    "\n",
    "\n",
    "\n",
    "\n",
    "dic_irm[\"cohorte\"]=dates\n",
    "\n",
    "\n",
    "\n",
    "for var in var_quel:\n",
    "    irm_coef=[]\n",
    "\n",
    "    irm_upp=[]\n",
    "    irm_low=[]\n",
    "  \n",
    "    irm_std=[]\n",
    "    \n",
    "    \n",
    "    for cohorte in dates:\n",
    "     \n",
    "      \n",
    "        \n",
    "        dml_irm_obj=joblib.load( path+\"/Résultats/Python/IRM/Certif/dml_irm_certif_\"+cohorte+\"_\"+var+\".joblib\")\n",
    "        irm_coef.append(dml_irm_obj.summary.coef)\n",
    "        irm_low.append(dml_irm_obj.confint()[\"2.5 %\"])\n",
    "        irm_upp.append(dml_irm_obj.confint()[\"97.5 %\"])\n",
    "        irm_std.append(dml_irm_obj.summary[\"std err\"])\n",
    "        \n",
    "        \n",
    "   \n",
    "    dic_irm[\"coef_\"+var]=irm_coef\n",
    "    dic_irm[\"upp_\"+var]=irm_upp\n",
    "    dic_irm[\"low_\"+var]=irm_low\n",
    "    dic_irm[\"std_\"+var]=irm_std\n",
    "    \n",
    "    \n",
    " \n",
    "\n",
    "   \n",
    "df_irm=pd.DataFrame.from_dict(dic_irm,orient=\"columns\")\n",
    "\n",
    "\n",
    "\n"
   ]
  },
  {
   "cell_type": "code",
   "execution_count": 4,
   "metadata": {},
   "outputs": [],
   "source": [
    "\n",
    "data_cf=pd.read_csv(\"C:/Users/dalil.youcefi/Documents/Formation et retour à l'emploi/Données/Résultats/tab_cf.csv\",index_col=0)\n",
    "\n",
    "data_cf.set_index(data_cf[\"cohorte\"],inplace=True)\n",
    "for var in var_quel:\n",
    "    data_cf[\"upp_\"+var]=data_cf[\"ate_\"+var]+1.96*np.abs(data_cf[\"std_\"+var])\n",
    "    data_cf[\"low_\"+var]=data_cf[\"ate_\"+var]-1.96*np.abs(data_cf[\"std_\"+var])\n",
    "\n",
    "\n",
    "\n",
    "dic_cf={}\n",
    "\n",
    "\n",
    "\n",
    "\n",
    "\n",
    "dic_cf[\"cohorte\"]=dates\n",
    "\n",
    "\n",
    "\n",
    "for var in var_quel:\n",
    "    cf_coef=[]\n",
    "\n",
    "    cf_upp=[]\n",
    "    cf_low=[]\n",
    "    cf_std=[]\n",
    "    \n",
    "        \n",
    "    \n",
    "    \n",
    "    for cohorte in dates:\n",
    "     \n",
    "      \n",
    "        \n",
    "      \n",
    "        cf_coef.append(data_cf.loc[cohorte,\"ate_\"+var])\n",
    "        cf_low.append(data_cf.loc[cohorte,\"low_\"+var])\n",
    "        cf_upp.append(data_cf.loc[cohorte,\"upp_\"+var])\n",
    "        cf_std.append(np.abs(data_cf.loc[cohorte,\"std_\"+var]))\n",
    "        \n",
    "        \n",
    "   \n",
    "    dic_cf[\"cf_coef_\"+var]=cf_coef\n",
    "    dic_cf[\"cf_upp_\"+var]=cf_upp\n",
    "    dic_cf[\"cf_low_\"+var]=cf_low\n",
    "    dic_cf[\"cf_std_\"+var]=cf_std\n",
    "    \n",
    " \n",
    "\n",
    "   \n",
    "df_cf=pd.DataFrame.from_dict(dic_cf,orient=\"columns\")\n",
    "\n",
    "\n"
   ]
  },
  {
   "cell_type": "code",
   "execution_count": 9,
   "metadata": {},
   "outputs": [],
   "source": [
    "df_irm[[col for col in df_irm.columns if col !=\"cohorte\"]]=df_irm[[col for col in df_irm.columns if col !=\"cohorte\"]].astype(float)\n",
    "\n",
    "df_cf[[col for col in df_cf.columns if col !=\"cohorte\"]]=df_cf[[col for col in df_cf.columns if col !=\"cohorte\"]].astype(float)\n",
    "\n",
    "year=[\"2017\" for i in range(12)]\n",
    "year+=[\"2018\" for i in range(12)]\n",
    "year+=[\"2019\" for i in range(12)]\n",
    "year+=[\"2020\" for i in range(12)]\n",
    "year+=[\"2021\"  for i in range(6)]\n"
   ]
  },
  {
   "cell_type": "code",
   "execution_count": 10,
   "metadata": {},
   "outputs": [],
   "source": [
    "df_year=df_irm.drop(\"cohorte\",axis=1).join(df_cf.drop(\"cohorte\",axis=1))\n",
    "df_year[\"year\"]=year\n",
    "\n",
    "df_year=df_year.groupby(\"year\").mean()\n",
    "\n",
    "df_year*=100"
   ]
  },
  {
   "cell_type": "code",
   "execution_count": 15,
   "metadata": {},
   "outputs": [
    {
     "data": {
      "text/html": [
       "<div>\n",
       "<style scoped>\n",
       "    .dataframe tbody tr th:only-of-type {\n",
       "        vertical-align: middle;\n",
       "    }\n",
       "\n",
       "    .dataframe tbody tr th {\n",
       "        vertical-align: top;\n",
       "    }\n",
       "\n",
       "    .dataframe thead th {\n",
       "        text-align: right;\n",
       "    }\n",
       "</style>\n",
       "<table border=\"1\" class=\"dataframe\">\n",
       "  <thead>\n",
       "    <tr style=\"text-align: right;\">\n",
       "      <th></th>\n",
       "      <th>coef_emploi_quelconque_t_plus_3</th>\n",
       "      <th>upp_emploi_quelconque_t_plus_3</th>\n",
       "      <th>low_emploi_quelconque_t_plus_3</th>\n",
       "      <th>std_emploi_quelconque_t_plus_3</th>\n",
       "      <th>coef_emploi_quelconque_t_plus_6</th>\n",
       "      <th>upp_emploi_quelconque_t_plus_6</th>\n",
       "      <th>low_emploi_quelconque_t_plus_6</th>\n",
       "      <th>std_emploi_quelconque_t_plus_6</th>\n",
       "      <th>coef_emploi_quelconque_t_plus_12</th>\n",
       "      <th>upp_emploi_quelconque_t_plus_12</th>\n",
       "      <th>...</th>\n",
       "      <th>cf_std_emploi_quelconque_t_plus_18</th>\n",
       "      <th>cf_coef_emploi_quelconque_t_plus_24</th>\n",
       "      <th>cf_upp_emploi_quelconque_t_plus_24</th>\n",
       "      <th>cf_low_emploi_quelconque_t_plus_24</th>\n",
       "      <th>cf_std_emploi_quelconque_t_plus_24</th>\n",
       "      <th>cf_coef_emploi_quelconque_t_plus_36</th>\n",
       "      <th>cf_upp_emploi_quelconque_t_plus_36</th>\n",
       "      <th>cf_low_emploi_quelconque_t_plus_36</th>\n",
       "      <th>cf_std_emploi_quelconque_t_plus_36</th>\n",
       "      <th>year</th>\n",
       "    </tr>\n",
       "    <tr>\n",
       "      <th>year</th>\n",
       "      <th></th>\n",
       "      <th></th>\n",
       "      <th></th>\n",
       "      <th></th>\n",
       "      <th></th>\n",
       "      <th></th>\n",
       "      <th></th>\n",
       "      <th></th>\n",
       "      <th></th>\n",
       "      <th></th>\n",
       "      <th></th>\n",
       "      <th></th>\n",
       "      <th></th>\n",
       "      <th></th>\n",
       "      <th></th>\n",
       "      <th></th>\n",
       "      <th></th>\n",
       "      <th></th>\n",
       "      <th></th>\n",
       "      <th></th>\n",
       "      <th></th>\n",
       "    </tr>\n",
       "  </thead>\n",
       "  <tbody>\n",
       "    <tr>\n",
       "      <th>2017</th>\n",
       "      <td>-6.279598</td>\n",
       "      <td>-5.491390</td>\n",
       "      <td>-7.067805</td>\n",
       "      <td>0.402154</td>\n",
       "      <td>-3.395960</td>\n",
       "      <td>-2.355824</td>\n",
       "      <td>-4.436096</td>\n",
       "      <td>0.530691</td>\n",
       "      <td>8.382973</td>\n",
       "      <td>9.593187</td>\n",
       "      <td>...</td>\n",
       "      <td>1.124193</td>\n",
       "      <td>14.649553</td>\n",
       "      <td>16.804286</td>\n",
       "      <td>12.494820</td>\n",
       "      <td>1.099354</td>\n",
       "      <td>14.483681</td>\n",
       "      <td>16.564252</td>\n",
       "      <td>12.403109</td>\n",
       "      <td>1.061516</td>\n",
       "      <td>2017</td>\n",
       "    </tr>\n",
       "    <tr>\n",
       "      <th>2018</th>\n",
       "      <td>-7.068521</td>\n",
       "      <td>-6.272939</td>\n",
       "      <td>-7.864104</td>\n",
       "      <td>0.405917</td>\n",
       "      <td>-5.338199</td>\n",
       "      <td>-4.286017</td>\n",
       "      <td>-6.390382</td>\n",
       "      <td>0.536837</td>\n",
       "      <td>7.297190</td>\n",
       "      <td>8.533337</td>\n",
       "      <td>...</td>\n",
       "      <td>1.157204</td>\n",
       "      <td>13.541107</td>\n",
       "      <td>15.781452</td>\n",
       "      <td>11.300763</td>\n",
       "      <td>1.143033</td>\n",
       "      <td>13.723418</td>\n",
       "      <td>15.881863</td>\n",
       "      <td>11.564973</td>\n",
       "      <td>1.101247</td>\n",
       "      <td>2018</td>\n",
       "    </tr>\n",
       "    <tr>\n",
       "      <th>2019</th>\n",
       "      <td>-7.135245</td>\n",
       "      <td>-6.426771</td>\n",
       "      <td>-7.843719</td>\n",
       "      <td>0.361473</td>\n",
       "      <td>-5.065507</td>\n",
       "      <td>-4.163726</td>\n",
       "      <td>-5.967288</td>\n",
       "      <td>0.460101</td>\n",
       "      <td>2.389197</td>\n",
       "      <td>3.451758</td>\n",
       "      <td>...</td>\n",
       "      <td>1.070434</td>\n",
       "      <td>12.885855</td>\n",
       "      <td>14.976667</td>\n",
       "      <td>10.795043</td>\n",
       "      <td>1.066741</td>\n",
       "      <td>13.952936</td>\n",
       "      <td>15.967304</td>\n",
       "      <td>11.938568</td>\n",
       "      <td>1.027739</td>\n",
       "      <td>2019</td>\n",
       "    </tr>\n",
       "    <tr>\n",
       "      <th>2020</th>\n",
       "      <td>-3.154824</td>\n",
       "      <td>-2.682159</td>\n",
       "      <td>-3.627489</td>\n",
       "      <td>0.241160</td>\n",
       "      <td>-3.174781</td>\n",
       "      <td>-2.428095</td>\n",
       "      <td>-3.921467</td>\n",
       "      <td>0.380969</td>\n",
       "      <td>6.920739</td>\n",
       "      <td>8.003730</td>\n",
       "      <td>...</td>\n",
       "      <td>1.054023</td>\n",
       "      <td>13.498148</td>\n",
       "      <td>15.534131</td>\n",
       "      <td>11.462165</td>\n",
       "      <td>1.038767</td>\n",
       "      <td>13.185899</td>\n",
       "      <td>15.216853</td>\n",
       "      <td>11.154946</td>\n",
       "      <td>1.036201</td>\n",
       "      <td>2020</td>\n",
       "    </tr>\n",
       "    <tr>\n",
       "      <th>2021</th>\n",
       "      <td>-4.808347</td>\n",
       "      <td>-4.221856</td>\n",
       "      <td>-5.394837</td>\n",
       "      <td>0.299235</td>\n",
       "      <td>-2.247046</td>\n",
       "      <td>-1.483908</td>\n",
       "      <td>-3.010184</td>\n",
       "      <td>0.389363</td>\n",
       "      <td>7.480926</td>\n",
       "      <td>8.347858</td>\n",
       "      <td>...</td>\n",
       "      <td>0.813226</td>\n",
       "      <td>9.662259</td>\n",
       "      <td>11.255065</td>\n",
       "      <td>8.069453</td>\n",
       "      <td>0.812656</td>\n",
       "      <td>9.592263</td>\n",
       "      <td>11.189704</td>\n",
       "      <td>7.994823</td>\n",
       "      <td>0.815021</td>\n",
       "      <td>2021</td>\n",
       "    </tr>\n",
       "  </tbody>\n",
       "</table>\n",
       "<p>5 rows × 49 columns</p>\n",
       "</div>"
      ],
      "text/plain": [
       "      coef_emploi_quelconque_t_plus_3  upp_emploi_quelconque_t_plus_3  \\\n",
       "year                                                                    \n",
       "2017                        -6.279598                       -5.491390   \n",
       "2018                        -7.068521                       -6.272939   \n",
       "2019                        -7.135245                       -6.426771   \n",
       "2020                        -3.154824                       -2.682159   \n",
       "2021                        -4.808347                       -4.221856   \n",
       "\n",
       "      low_emploi_quelconque_t_plus_3  std_emploi_quelconque_t_plus_3  \\\n",
       "year                                                                   \n",
       "2017                       -7.067805                        0.402154   \n",
       "2018                       -7.864104                        0.405917   \n",
       "2019                       -7.843719                        0.361473   \n",
       "2020                       -3.627489                        0.241160   \n",
       "2021                       -5.394837                        0.299235   \n",
       "\n",
       "      coef_emploi_quelconque_t_plus_6  upp_emploi_quelconque_t_plus_6  \\\n",
       "year                                                                    \n",
       "2017                        -3.395960                       -2.355824   \n",
       "2018                        -5.338199                       -4.286017   \n",
       "2019                        -5.065507                       -4.163726   \n",
       "2020                        -3.174781                       -2.428095   \n",
       "2021                        -2.247046                       -1.483908   \n",
       "\n",
       "      low_emploi_quelconque_t_plus_6  std_emploi_quelconque_t_plus_6  \\\n",
       "year                                                                   \n",
       "2017                       -4.436096                        0.530691   \n",
       "2018                       -6.390382                        0.536837   \n",
       "2019                       -5.967288                        0.460101   \n",
       "2020                       -3.921467                        0.380969   \n",
       "2021                       -3.010184                        0.389363   \n",
       "\n",
       "      coef_emploi_quelconque_t_plus_12  upp_emploi_quelconque_t_plus_12  ...  \\\n",
       "year                                                                     ...   \n",
       "2017                          8.382973                         9.593187  ...   \n",
       "2018                          7.297190                         8.533337  ...   \n",
       "2019                          2.389197                         3.451758  ...   \n",
       "2020                          6.920739                         8.003730  ...   \n",
       "2021                          7.480926                         8.347858  ...   \n",
       "\n",
       "      cf_std_emploi_quelconque_t_plus_18  cf_coef_emploi_quelconque_t_plus_24  \\\n",
       "year                                                                            \n",
       "2017                            1.124193                            14.649553   \n",
       "2018                            1.157204                            13.541107   \n",
       "2019                            1.070434                            12.885855   \n",
       "2020                            1.054023                            13.498148   \n",
       "2021                            0.813226                             9.662259   \n",
       "\n",
       "      cf_upp_emploi_quelconque_t_plus_24  cf_low_emploi_quelconque_t_plus_24  \\\n",
       "year                                                                           \n",
       "2017                           16.804286                           12.494820   \n",
       "2018                           15.781452                           11.300763   \n",
       "2019                           14.976667                           10.795043   \n",
       "2020                           15.534131                           11.462165   \n",
       "2021                           11.255065                            8.069453   \n",
       "\n",
       "      cf_std_emploi_quelconque_t_plus_24  cf_coef_emploi_quelconque_t_plus_36  \\\n",
       "year                                                                            \n",
       "2017                            1.099354                            14.483681   \n",
       "2018                            1.143033                            13.723418   \n",
       "2019                            1.066741                            13.952936   \n",
       "2020                            1.038767                            13.185899   \n",
       "2021                            0.812656                             9.592263   \n",
       "\n",
       "      cf_upp_emploi_quelconque_t_plus_36  cf_low_emploi_quelconque_t_plus_36  \\\n",
       "year                                                                           \n",
       "2017                           16.564252                           12.403109   \n",
       "2018                           15.881863                           11.564973   \n",
       "2019                           15.967304                           11.938568   \n",
       "2020                           15.216853                           11.154946   \n",
       "2021                           11.189704                            7.994823   \n",
       "\n",
       "      cf_std_emploi_quelconque_t_plus_36  year  \n",
       "year                                            \n",
       "2017                            1.061516  2017  \n",
       "2018                            1.101247  2018  \n",
       "2019                            1.027739  2019  \n",
       "2020                            1.036201  2020  \n",
       "2021                            0.815021  2021  \n",
       "\n",
       "[5 rows x 49 columns]"
      ]
     },
     "execution_count": 15,
     "metadata": {},
     "output_type": "execute_result"
    }
   ],
   "source": [
    "df_year"
   ]
  },
  {
   "cell_type": "code",
   "execution_count": 29,
   "metadata": {},
   "outputs": [],
   "source": [
    "df_year[\"year\"]=df_year.index\n",
    "hor_li=[\"3\",\"6\",\"12\",\"24\"]\n",
    "li_fig=[]\n",
    "\n",
    "\n",
    "for hor in hor_li:\n",
    "\n",
    "\n",
    "\n",
    "    color_dict={\"coef_emploi_quelconque_t_plus_\"+hor:'red',\"low_emploi_quelconque_t_plus_\"+hor:\"blue\",\"upp_emploi_quelconque_t_plus_\"+hor:\"blue\"}\n",
    "\n",
    "    fig=px.line(df_year, x=\"year\",y= [\"coef_emploi_quelconque_t_plus_\"+hor,\"upp_emploi_quelconque_t_plus_\"+hor,\"low_emploi_quelconque_t_plus_\"+hor]\n",
    "\n",
    "               ,color_discrete_map = color_dict\n",
    "               ,labels={\"year\":\"Year\",\"value\": \"Estimates (in p.p.) \"} ,title=\"Horizon t plus \"+hor+ \" months\")\n",
    "\n",
    "    fig.add_hline(y=0, line_width=1, line_color=\"black\")\n",
    "\n",
    "\n",
    "\n",
    "\n",
    "    fig['data'][2]['line']['width']=0.5\n",
    "    fig['data'][1]['line']['width']=0.5\n",
    "    fig['data'][2]['line']['dash']=\"dash\"\n",
    "    fig['data'][1]['line']['dash']=\"dash\"\n",
    "\n",
    "    fig['data'][0]['line']['width']=1\n",
    "\n",
    "\n",
    "    newnames={ \"coef_emploi_quelconque_t_plus_\"+hor: \"ATE\",\n",
    "                         \"upp_emploi_quelconque_t_plus_\"+hor: \"Upper 95% interval\",\n",
    "                         \"low_emploi_quelconque_t_plus_\"+hor:\"Lower 95% interval\" }\n",
    "\n",
    "    fig.for_each_trace(lambda t: t.update(name = newnames[t.name]))\n",
    "\n",
    "\n",
    "\n",
    "\n",
    "    li_fig.append(fig)\n",
    "    \n",
    "    \n",
    "    \n",
    "    \n",
    "\n",
    "fig = make_subplots(rows=1, cols=len(li_fig),subplot_titles=(\"3 months horizon\",\"6 months horizon\",\"12 months horizon\",\"24 months horizon\")) \n",
    "\n",
    "for i, figure in enumerate(li_fig):\n",
    "    for trace in range(len(figure[\"data\"])):\n",
    "        z=figure[\"data\"][trace]\n",
    "        if i !=0:\n",
    "            z[\"showlegend\"]=False\n",
    "\n",
    "         \n",
    "        fig.append_trace(z, row=1, col=i+1)\n",
    "        \n",
    "fig.update_layout(yaxis = dict(range=[-15, 20]))\n",
    "fig.update_layout(yaxis2 = dict(range=[-15, 20]))\n",
    "fig.update_layout(yaxis3 = dict(range=[-15, 20]))\n",
    "fig.update_layout(yaxis4 = dict(range=[-15, 20]))\n",
    "            \n",
    "    \n",
    "    \n",
    "    \n",
    "fig.add_hline(y=0, col=1, line_color=\"#000000\", line_width=0.5)     \n",
    "fig.add_hline(y=0, col=2, line_color=\"#000000\", line_width=0.5)   \n",
    "fig.add_hline(y=0, col=3, line_color=\"#000000\", line_width=0.5) \n",
    "fig.add_hline(y=0, col=4, line_color=\"#000000\", line_width=0.5) \n",
    "fig.update_layout(height=500, width=2000)\n",
    "fig.write_image(path+\"/month_ate.png\")"
   ]
  },
  {
   "cell_type": "code",
   "execution_count": 18,
   "metadata": {},
   "outputs": [
    {
     "name": "stdout",
     "output_type": "stream",
     "text": [
      "\\begin{tabular}{lrrrrrrrr}\n",
      "\\toprule\n",
      "{} &  irm\\_ate &  irm\\_std &  irm\\_low &  irm\\_upp &  cf\\_ate &  cf\\_std &  cf\\_low &  cf\\_upp \\\\\n",
      "\\midrule\n",
      "3  &     -5.8 &      0.3 &     -6.5 &     -5.1 &    -6.0 &     0.6 &    -7.2 &    -4.7 \\\\\n",
      "6  &     -4.0 &      0.5 &     -4.9 &     -3.1 &    -4.2 &     0.9 &    -5.9 &    -2.5 \\\\\n",
      "12 &      6.4 &      0.6 &      5.3 &      7.5 &     6.0 &     1.0 &     4.0 &     8.1 \\\\\n",
      "18 &     12.0 &      0.6 &     10.9 &     13.2 &    11.2 &     1.1 &     9.1 &    13.3 \\\\\n",
      "24 &     13.8 &      0.6 &     12.7 &     14.9 &    13.2 &     1.1 &    11.1 &    15.3 \\\\\n",
      "36 &     14.6 &      0.6 &     13.5 &     15.7 &    13.4 &     1.0 &    11.3 &    15.4 \\\\\n",
      "\\bottomrule\n",
      "\\end{tabular}\n",
      "\n"
     ]
    }
   ],
   "source": [
    "df_irm[[col for col in df_irm.columns if col !=\"cohorte\"]]=df_irm[[col for col in df_irm.columns if col !=\"cohorte\"]].astype(float)\n",
    "\n",
    "df_cf[[col for col in df_cf.columns if col !=\"cohorte\"]]=df_cf[[col for col in df_cf.columns if col !=\"cohorte\"]].astype(float)\n",
    "\n",
    "\n",
    "dic_tab={}\n",
    "\n",
    "for t in [\"3\",\"6\",\"12\",\"18\",\"24\",\"36\"]:\n",
    "    \n",
    "    li=[df_irm[\"coef_\"+\"emploi_quelconque_t_plus_\"+t].mean(),df_irm[\"std_\"+\"emploi_quelconque_t_plus_\"+t].mean(),df_irm[\"low_\"+\"emploi_quelconque_t_plus_\"+t].mean(),df_irm[\"upp_\"+\"emploi_quelconque_t_plus_\"+t].mean()]\n",
    "    dic_tab[t]=li\n",
    "    \n",
    "df_avg_irm=pd.DataFrame.from_dict(dic_tab,orient=\"index\",columns=[\"irm_ate\",\"irm_std\",\"irm_low\",\"irm_upp\"])\n",
    "    \n",
    "\n",
    "dic_tab={}\n",
    "\n",
    "for t in [\"3\",\"6\",\"12\",\"18\",\"24\",\"36\"]:\n",
    "    \n",
    "    li=[df_cf[\"cf_coef_\"+\"emploi_quelconque_t_plus_\"+t].mean(),df_cf[\"cf_std_\"+\"emploi_quelconque_t_plus_\"+t].mean(),df_cf[\"cf_low_\"+\"emploi_quelconque_t_plus_\"+t].mean(),df_cf[\"cf_upp_\"+\"emploi_quelconque_t_plus_\"+t].mean()]\n",
    "    dic_tab[t]=li\n",
    "    \n",
    "df_avg_cf=pd.DataFrame.from_dict(dic_tab,orient=\"index\",columns=[\"cf_ate\",\"cf_std\",\"cf_low\",\"cf_upp\"])\n",
    "\n",
    "\n",
    "df_avg_irm*=100\n",
    "df_avg_cf*=100\n",
    "\n",
    "\n",
    "print(np.round(df_avg_irm.join(df_avg_cf),1).to_latex())"
   ]
  },
  {
   "cell_type": "code",
   "execution_count": 24,
   "metadata": {},
   "outputs": [
    {
     "data": {
      "image/png": "[encoded data removed]",
      "text/plain": [
       "<Figure size 720x540 with 1 Axes>"
      ]
     },
     "metadata": {
      "needs_background": "light"
     },
     "output_type": "display_data"
    }
   ],
   "source": [
    "\n",
    "df_avg=df_avg_irm.join(df_avg_cf)\n",
    "\n",
    "from matplotlib.transforms import Affine2D\n",
    "fig, ax = plt.subplots()\n",
    "\n",
    "plt.rcParams['figure.figsize'] = 10., 7.5\n",
    "\n",
    "trans1 = Affine2D().translate(-0.1, 0.0) + ax.transData\n",
    "trans2 = Affine2D().translate(+0.1, 0.0) + ax.transData\n",
    "\n",
    "\n",
    "errors = np.full((2, df_avg.shape[0]), np.nan)\n",
    "errors[0, :] = df_avg[\"irm_ate\"] - df_avg[\"irm_low\"]\n",
    "errors[1, :] =  df_avg[\"irm_upp\"]- df_avg[\"irm_ate\"]\n",
    "\n",
    "plt.errorbar(df_avg.index,df_avg[\"irm_ate\"], fmt='o', yerr=errors, label='ATE IRM (with joint CI)',transform=trans1)\n",
    "\n",
    "\n",
    "\n",
    "\n",
    "\n",
    "errors = np.full((2, df_avg.shape[0]), np.nan)\n",
    "errors[0, :] = df_avg[\"cf_ate\"] - df_avg[\"cf_low\"]\n",
    "errors[1, :] =  df_avg[\"cf_upp\"]- df_avg[\"cf_ate\"]\n",
    "\n",
    "plt.errorbar(df_avg.index,df_avg[\"cf_ate\"], fmt='o', yerr=errors, label='ATE CF (with joint CI)',transform=trans2)\n",
    "\n",
    "plt.axhline(y = 0., color = 'black', linestyle = '-')\n",
    "\n",
    "\n",
    "\n",
    "plt.xlabel('Horizon after entering in training')\n",
    "plt.legend()\n",
    "plt.ylabel('Mean ATE and 95%-CI')\n",
    "\n",
    "plt.savefig(path+\"/ATE_cetrif.png\")\n"
   ]
  },
  {
   "cell_type": "code",
   "execution_count": 51,
   "metadata": {},
   "outputs": [
    {
     "data": {
      "application/vnd.plotly.v1+json": {
       "config": {
        "plotlyServerURL": "https://plot.ly"
       },
       "data": [
        {
         "hovertemplate": "variable=coef_emploi_quelconque_t_plus_3<br>Months=%{x}<br>Estimates (in p.p.) =%{y}<extra></extra>",
         "legendgroup": "coef_emploi_quelconque_t_plus_3",
         "line": {
          "color": "red",
          "dash": "solid",
          "width": 1
         },
         "marker": {
          "symbol": "circle"
         },
         "mode": "lines",
         "name": "ATE",
         "orientation": "v",
         "showlegend": true,
         "type": "scatter",
         "x": [
          "2017-01-01",
          "2017-02-01",
          "2017-03-01",
          "2017-04-01",
          "2017-05-01",
          "2017-06-01",
          "2017-07-01",
          "2017-08-01",
          "2017-09-01",
          "2017-10-01",
          "2017-11-01",
          "2017-12-01",
          "2018-01-01",
          "2018-02-01",
          "2018-03-01",
          "2018-04-01",
          "2018-05-01",
          "2018-06-01",
          "2018-07-01",
          "2018-08-01",
          "2018-09-01",
          "2018-10-01",
          "2018-11-01",
          "2018-12-01",
          "2019-01-01",
          "2019-02-01",
          "2019-03-01",
          "2019-04-01",
          "2019-05-01",
          "2019-06-01",
          "2019-07-01",
          "2019-08-01",
          "2019-09-01",
          "2019-10-01",
          "2019-11-01",
          "2019-12-01",
          "2020-01-01",
          "2020-02-01",
          "2020-03-01",
          "2020-04-01",
          "2020-05-01",
          "2020-06-01",
          "2020-07-01",
          "2020-08-01",
          "2020-09-01",
          "2020-10-01",
          "2020-11-01",
          "2020-12-01",
          "2021-01-01",
          "2021-02-01",
          "2021-03-01",
          "2021-04-01",
          "2021-05-01",
          "2021-06-01"
         ],
         "xaxis": "x",
         "y": [
          -7753017.571478883,
          -5722517.928641088,
          -5893261.057641072,
          -5409409.314246747,
          -4380800.084853076,
          -4231738.251267259,
          -2174814.9016760057,
          -8449744.786120089,
          -11472687.386314986,
          -7508382.146115428,
          -6363078.671677887,
          -5995719.997448549,
          -8014963.489319209,
          -6443163.698300223,
          -5623761.247817345,
          -5074241.107608699,
          -6124497.794342036,
          -4472992.423328077,
          -4173141.282422283,
          -9273240.756887233,
          -12120790.076354701,
          -8926395.042698171,
          -7593735.631254336,
          -6981334.119580337,
          -9165663.97510762,
          -6869165.134430186,
          -7675846.511856293,
          -6469052.6400967,
          -3811309.436917214,
          -4958046.535069259,
          -3929134.8568232316,
          -10648733.550126947,
          -12598503.780541165,
          -9006426.785030345,
          -6389871.205600309,
          -4101182.58879037,
          -2289109.4567540186,
          -1615796.4518590784,
          -1137350.7688111314,
          -1486179.6701658259,
          -692407.1699230606,
          -2061707.001987399,
          -1744828.9361205185,
          -4339132.1727,
          -6680716.734342347,
          -4810205.4326880695,
          -5814686.867387544,
          -5185764.2710053045,
          -6010295.121031926,
          -4655911.630228592,
          -5066569.978999595,
          -4268352.736149594,
          -4194244.3939135484,
          -4654706.699814608
         ],
         "yaxis": "y"
        },
        {
         "hovertemplate": "variable=upp_emploi_quelconque_t_plus_3<br>Months=%{x}<br>Estimates (in p.p.) =%{y}<extra></extra>",
         "legendgroup": "upp_emploi_quelconque_t_plus_3",
         "line": {
          "color": "blue",
          "dash": "dash",
          "width": 0.5
         },
         "marker": {
          "symbol": "circle"
         },
         "mode": "lines",
         "name": "Upper 95% interval",
         "orientation": "v",
         "showlegend": true,
         "type": "scatter",
         "x": [
          "2017-01-01",
          "2017-02-01",
          "2017-03-01",
          "2017-04-01",
          "2017-05-01",
          "2017-06-01",
          "2017-07-01",
          "2017-08-01",
          "2017-09-01",
          "2017-10-01",
          "2017-11-01",
          "2017-12-01",
          "2018-01-01",
          "2018-02-01",
          "2018-03-01",
          "2018-04-01",
          "2018-05-01",
          "2018-06-01",
          "2018-07-01",
          "2018-08-01",
          "2018-09-01",
          "2018-10-01",
          "2018-11-01",
          "2018-12-01",
          "2019-01-01",
          "2019-02-01",
          "2019-03-01",
          "2019-04-01",
          "2019-05-01",
          "2019-06-01",
          "2019-07-01",
          "2019-08-01",
          "2019-09-01",
          "2019-10-01",
          "2019-11-01",
          "2019-12-01",
          "2020-01-01",
          "2020-02-01",
          "2020-03-01",
          "2020-04-01",
          "2020-05-01",
          "2020-06-01",
          "2020-07-01",
          "2020-08-01",
          "2020-09-01",
          "2020-10-01",
          "2020-11-01",
          "2020-12-01",
          "2021-01-01",
          "2021-02-01",
          "2021-03-01",
          "2021-04-01",
          "2021-05-01",
          "2021-06-01"
         ],
         "xaxis": "x",
         "y": [
          -7219541.889202985,
          -5023906.639314186,
          -5142994.507341286,
          -4531401.041031514,
          -3504476.398578576,
          -3395783.1807769137,
          -663917.496541656,
          -7318904.987178775,
          -11071525.389128627,
          -6979065.152295584,
          -5776288.729311167,
          -5268880.278890715,
          -7378019.605125951,
          -5699138.446339487,
          -4817517.05201024,
          -4175456.278238779,
          -5204005.500283579,
          -3550432.230038588,
          -2763416.916299043,
          -8242548.544191869,
          -11742307.396599047,
          -8432144.252817983,
          -6999571.283590074,
          -6270707.088814235,
          -8447986.323206091,
          -6108670.820906183,
          -6936208.742484018,
          -5717144.4675728,
          -2957339.9077529972,
          -4189934.6210002694,
          -2816081.6124852737,
          -9603685.61833467,
          -12267351.993298156,
          -8545426.026261782,
          -5921886.1917051505,
          -3609535.174712777,
          -1949195.122423561,
          -1310866.6912247625,
          -793435.8433196611,
          -687448.3677478406,
          -55325.84946534666,
          -1635502.85800365,
          -1106057.8263791457,
          -3795858.0244011353,
          -6408162.972626583,
          -4452666.011603288,
          -5385034.131955106,
          -4606348.314526472,
          -5481915.405514708,
          -4091018.931075032,
          -4544797.739561107,
          -3630710.0777958585,
          -3579356.699357854,
          -4003337.3428769205
         ],
         "yaxis": "y"
        },
        {
         "hovertemplate": "variable=low_emploi_quelconque_t_plus_3<br>Months=%{x}<br>Estimates (in p.p.) =%{y}<extra></extra>",
         "legendgroup": "low_emploi_quelconque_t_plus_3",
         "line": {
          "color": "blue",
          "dash": "dash",
          "width": 0.5
         },
         "marker": {
          "symbol": "circle"
         },
         "mode": "lines",
         "name": "Lower 95% interval",
         "orientation": "v",
         "showlegend": true,
         "type": "scatter",
         "x": [
          "2017-01-01",
          "2017-02-01",
          "2017-03-01",
          "2017-04-01",
          "2017-05-01",
          "2017-06-01",
          "2017-07-01",
          "2017-08-01",
          "2017-09-01",
          "2017-10-01",
          "2017-11-01",
          "2017-12-01",
          "2018-01-01",
          "2018-02-01",
          "2018-03-01",
          "2018-04-01",
          "2018-05-01",
          "2018-06-01",
          "2018-07-01",
          "2018-08-01",
          "2018-09-01",
          "2018-10-01",
          "2018-11-01",
          "2018-12-01",
          "2019-01-01",
          "2019-02-01",
          "2019-03-01",
          "2019-04-01",
          "2019-05-01",
          "2019-06-01",
          "2019-07-01",
          "2019-08-01",
          "2019-09-01",
          "2019-10-01",
          "2019-11-01",
          "2019-12-01",
          "2020-01-01",
          "2020-02-01",
          "2020-03-01",
          "2020-04-01",
          "2020-05-01",
          "2020-06-01",
          "2020-07-01",
          "2020-08-01",
          "2020-09-01",
          "2020-10-01",
          "2020-11-01",
          "2020-12-01",
          "2021-01-01",
          "2021-02-01",
          "2021-03-01",
          "2021-04-01",
          "2021-05-01",
          "2021-06-01"
         ],
         "xaxis": "x",
         "y": [
          -8286493.253754781,
          -6421129.21796799,
          -6643527.607940856,
          -6287417.587461977,
          -5257123.771127576,
          -5067693.321757605,
          -3685712.3068103557,
          -9580584.585061401,
          -11873849.383501342,
          -8037699.139935272,
          -6949868.6140446095,
          -6722559.716006381,
          -8651907.373512466,
          -7187188.950260961,
          -6430005.44362445,
          -5973025.9369786205,
          -7044990.088400492,
          -5395552.616617568,
          -5582865.648545523,
          -10303932.969582597,
          -12499272.756110355,
          -9420645.832578363,
          -8187899.9789186,
          -7691961.15034644,
          -9883341.627009148,
          -7629659.447954187,
          -8415484.281228568,
          -7220960.812620597,
          -4665278.96608143,
          -5726158.449138248,
          -5042188.101161189,
          -11693781.481919222,
          -12929655.567784172,
          -9467427.543798907,
          -6857856.219495466,
          -4592830.002867963,
          -2629023.7910844753,
          -1920726.2124933947,
          -1481265.6943026022,
          -2284910.9725838113,
          -1329488.4903807747,
          -2487911.1459711483,
          -2383600.0458618905,
          -4882406.320998865,
          -6953270.496058112,
          -5167744.85377285,
          -6244339.602819984,
          -5765180.22748414,
          -6538674.836549145,
          -5220804.329382154,
          -5588342.218438083,
          -4905995.394503333,
          -4809132.088469244,
          -5306076.056752296
         ],
         "yaxis": "y"
        },
        {
         "hovertemplate": "variable=coef_emploi_quelconque_t_plus_6<br>Months=%{x}<br>Estimates (in p.p.) =%{y}<extra></extra>",
         "legendgroup": "coef_emploi_quelconque_t_plus_6",
         "line": {
          "color": "red",
          "dash": "solid",
          "width": 1
         },
         "marker": {
          "symbol": "circle"
         },
         "mode": "lines",
         "name": "ATE",
         "orientation": "v",
         "showlegend": true,
         "type": "scatter",
         "x": [
          "2017-01-01",
          "2017-02-01",
          "2017-03-01",
          "2017-04-01",
          "2017-05-01",
          "2017-06-01",
          "2017-07-01",
          "2017-08-01",
          "2017-09-01",
          "2017-10-01",
          "2017-11-01",
          "2017-12-01",
          "2018-01-01",
          "2018-02-01",
          "2018-03-01",
          "2018-04-01",
          "2018-05-01",
          "2018-06-01",
          "2018-07-01",
          "2018-08-01",
          "2018-09-01",
          "2018-10-01",
          "2018-11-01",
          "2018-12-01",
          "2019-01-01",
          "2019-02-01",
          "2019-03-01",
          "2019-04-01",
          "2019-05-01",
          "2019-06-01",
          "2019-07-01",
          "2019-08-01",
          "2019-09-01",
          "2019-10-01",
          "2019-11-01",
          "2019-12-01",
          "2020-01-01",
          "2020-02-01",
          "2020-03-01",
          "2020-04-01",
          "2020-05-01",
          "2020-06-01",
          "2020-07-01",
          "2020-08-01",
          "2020-09-01",
          "2020-10-01",
          "2020-11-01",
          "2020-12-01",
          "2021-01-01",
          "2021-02-01",
          "2021-03-01",
          "2021-04-01",
          "2021-05-01",
          "2021-06-01"
         ],
         "xaxis": "x2",
         "y": [
          -5386804.795356196,
          1121861.3961397903,
          -164508.6943928541,
          -388955.5327549681,
          -2359814.890303367,
          -1473113.50472101,
          533249.8068464835,
          -7316176.169884523,
          -13479339.248337856,
          -6629504.304542093,
          -3502533.350918019,
          -1705879.6036617826,
          -6499521.753361021,
          -1300874.9634982217,
          -1869926.941639934,
          88253.90369365872,
          -3670584.674033259,
          -3256819.6085305214,
          -1984381.168698207,
          -9972826.837844053,
          -14803187.738652678,
          -9890486.501858456,
          -6292999.623330479,
          -4605036.426810473,
          -6664048.74264987,
          -206496.10477388106,
          -2760002.1871954496,
          -2639159.4119566698,
          -242108.67623622253,
          -2879913.3911397364,
          -907239.5971432525,
          -10320188.79285296,
          -13812244.189002402,
          -9275039.895034153,
          -6442968.712136395,
          -4636673.855089148,
          -2105316.7569266036,
          -575177.5959573373,
          -1426995.930148603,
          -1385380.6665013882,
          -806708.2430586598,
          -1495230.6292365394,
          315800.8153297383,
          -4918328.561422885,
          -9669081.337645015,
          -6401093.338460879,
          -5709049.229854949,
          -3920809.8239068976,
          -4214381.710929358,
          -513497.6084304006,
          -1937036.0945596225,
          -1002942.528698259,
          -3101618.221843908,
          -2712800.1819789684
         ],
         "yaxis": "y2"
        },
        {
         "hovertemplate": "variable=upp_emploi_quelconque_t_plus_6<br>Months=%{x}<br>Estimates (in p.p.) =%{y}<extra></extra>",
         "legendgroup": "upp_emploi_quelconque_t_plus_6",
         "line": {
          "color": "blue",
          "dash": "dash",
          "width": 0.5
         },
         "marker": {
          "symbol": "circle"
         },
         "mode": "lines",
         "name": "Upper 95% interval",
         "orientation": "v",
         "showlegend": true,
         "type": "scatter",
         "x": [
          "2017-01-01",
          "2017-02-01",
          "2017-03-01",
          "2017-04-01",
          "2017-05-01",
          "2017-06-01",
          "2017-07-01",
          "2017-08-01",
          "2017-09-01",
          "2017-10-01",
          "2017-11-01",
          "2017-12-01",
          "2018-01-01",
          "2018-02-01",
          "2018-03-01",
          "2018-04-01",
          "2018-05-01",
          "2018-06-01",
          "2018-07-01",
          "2018-08-01",
          "2018-09-01",
          "2018-10-01",
          "2018-11-01",
          "2018-12-01",
          "2019-01-01",
          "2019-02-01",
          "2019-03-01",
          "2019-04-01",
          "2019-05-01",
          "2019-06-01",
          "2019-07-01",
          "2019-08-01",
          "2019-09-01",
          "2019-10-01",
          "2019-11-01",
          "2019-12-01",
          "2020-01-01",
          "2020-02-01",
          "2020-03-01",
          "2020-04-01",
          "2020-05-01",
          "2020-06-01",
          "2020-07-01",
          "2020-08-01",
          "2020-09-01",
          "2020-10-01",
          "2020-11-01",
          "2020-12-01",
          "2021-01-01",
          "2021-02-01",
          "2021-03-01",
          "2021-04-01",
          "2021-05-01",
          "2021-06-01"
         ],
         "xaxis": "x2",
         "y": [
          -4645857.641139652,
          2090833.2844278514,
          831391.178422291,
          751064.903380538,
          -1234329.4104307925,
          -354557.6239665584,
          2438390.2312646694,
          -5857411.415876563,
          -12964514.88791616,
          -5910279.818369963,
          -2704443.4434991973,
          -710175.8428967625,
          -5630818.3833844075,
          -274482.3067902927,
          -818190.9686987603,
          1265617.593618768,
          -2477624.197509461,
          -2040532.5945741858,
          -227061.60852064213,
          -8614053.880210385,
          -14318885.126382947,
          -9217871.043258501,
          -5477634.958310972,
          -3600669.0879351445,
          -5696184.029120451,
          836073.6701232434,
          -1780103.660755196,
          -1659704.492323607,
          859380.5904976953,
          -1845704.2462953872,
          456172.9898774266,
          -8986101.520733345,
          -13426875.29270548,
          -8747275.652323999,
          -5910664.809276716,
          -4063727.9227243955,
          -1643531.648101291,
          -28949.744340119396,
          -775144.9966708297,
          34684.583986266916,
          259954.72299735842,
          -788546.965599433,
          1257201.9074251095,
          -4079793.5243035303,
          -9265220.566154204,
          -5859361.708777902,
          -5122451.085491883,
          -3125981.936204658,
          -3501221.7374883415,
          272902.40872496914,
          -1267056.8785798422,
          -209819.4883842119,
          -2334865.192412124,
          -1863388.745994564
         ],
         "yaxis": "y2"
        },
        {
         "hovertemplate": "variable=low_emploi_quelconque_t_plus_6<br>Months=%{x}<br>Estimates (in p.p.) =%{y}<extra></extra>",
         "legendgroup": "low_emploi_quelconque_t_plus_6",
         "line": {
          "color": "blue",
          "dash": "dash",
          "width": 0.5
         },
         "marker": {
          "symbol": "circle"
         },
         "mode": "lines",
         "name": "Lower 95% interval",
         "orientation": "v",
         "showlegend": true,
         "type": "scatter",
         "x": [
          "2017-01-01",
          "2017-02-01",
          "2017-03-01",
          "2017-04-01",
          "2017-05-01",
          "2017-06-01",
          "2017-07-01",
          "2017-08-01",
          "2017-09-01",
          "2017-10-01",
          "2017-11-01",
          "2017-12-01",
          "2018-01-01",
          "2018-02-01",
          "2018-03-01",
          "2018-04-01",
          "2018-05-01",
          "2018-06-01",
          "2018-07-01",
          "2018-08-01",
          "2018-09-01",
          "2018-10-01",
          "2018-11-01",
          "2018-12-01",
          "2019-01-01",
          "2019-02-01",
          "2019-03-01",
          "2019-04-01",
          "2019-05-01",
          "2019-06-01",
          "2019-07-01",
          "2019-08-01",
          "2019-09-01",
          "2019-10-01",
          "2019-11-01",
          "2019-12-01",
          "2020-01-01",
          "2020-02-01",
          "2020-03-01",
          "2020-04-01",
          "2020-05-01",
          "2020-06-01",
          "2020-07-01",
          "2020-08-01",
          "2020-09-01",
          "2020-10-01",
          "2020-11-01",
          "2020-12-01",
          "2021-01-01",
          "2021-02-01",
          "2021-03-01",
          "2021-04-01",
          "2021-05-01",
          "2021-06-01"
         ],
         "xaxis": "x2",
         "y": [
          -6127751.949572743,
          152889.50785172923,
          -1160408.5672079993,
          -1528975.9688904744,
          -3485300.370175941,
          -2591669.3854754614,
          -1371890.6175717025,
          -8774940.923892485,
          -13994163.608759552,
          -7348728.790714224,
          -4300623.258336843,
          -2701583.364426803,
          -7368225.123337633,
          -2327267.620206151,
          -2921662.914581108,
          -1089109.7862314507,
          -4863545.150557057,
          -4473106.622486857,
          -3741700.728875772,
          -11331599.795477722,
          -15287490.35092241,
          -10563101.96045841,
          -7108364.288349988,
          -5609403.7656857995,
          -7631913.456179289,
          -1249065.8796710055,
          -3739900.7136357045,
          -3618614.3315897323,
          -1343597.9429701401,
          -3914122.535984086,
          -2270652.1841639313,
          -11654276.064972574,
          -14197613.085299322,
          -9802804.137744308,
          -6975272.614996074,
          -5209619.787453897,
          -2567101.865751917,
          -1121405.4475745552,
          -2078846.8636263763,
          -2805445.9169890424,
          -1873371.2091146775,
          -2201914.292873645,
          -625600.2767656328,
          -5756863.5985422395,
          -10072942.109135827,
          -6942824.968143857,
          -6295647.374218015,
          -4715637.711609136,
          -4927541.684370375,
          -1299897.6255857705,
          -2607015.3105394025,
          -1796065.5690123069,
          -3868371.251275692,
          -3562211.617963374
         ],
         "yaxis": "y2"
        },
        {
         "hovertemplate": "variable=coef_emploi_quelconque_t_plus_12<br>Months=%{x}<br>Estimates (in p.p.) =%{y}<extra></extra>",
         "legendgroup": "coef_emploi_quelconque_t_plus_12",
         "line": {
          "color": "red",
          "dash": "solid",
          "width": 1
         },
         "marker": {
          "symbol": "circle"
         },
         "mode": "lines",
         "name": "ATE",
         "orientation": "v",
         "showlegend": true,
         "type": "scatter",
         "x": [
          "2017-01-01",
          "2017-02-01",
          "2017-03-01",
          "2017-04-01",
          "2017-05-01",
          "2017-06-01",
          "2017-07-01",
          "2017-08-01",
          "2017-09-01",
          "2017-10-01",
          "2017-11-01",
          "2017-12-01",
          "2018-01-01",
          "2018-02-01",
          "2018-03-01",
          "2018-04-01",
          "2018-05-01",
          "2018-06-01",
          "2018-07-01",
          "2018-08-01",
          "2018-09-01",
          "2018-10-01",
          "2018-11-01",
          "2018-12-01",
          "2019-01-01",
          "2019-02-01",
          "2019-03-01",
          "2019-04-01",
          "2019-05-01",
          "2019-06-01",
          "2019-07-01",
          "2019-08-01",
          "2019-09-01",
          "2019-10-01",
          "2019-11-01",
          "2019-12-01",
          "2020-01-01",
          "2020-02-01",
          "2020-03-01",
          "2020-04-01",
          "2020-05-01",
          "2020-06-01",
          "2020-07-01",
          "2020-08-01",
          "2020-09-01",
          "2020-10-01",
          "2020-11-01",
          "2020-12-01",
          "2021-01-01",
          "2021-02-01",
          "2021-03-01",
          "2021-04-01",
          "2021-05-01",
          "2021-06-01"
         ],
         "xaxis": "x3",
         "y": [
          6035972.817286472,
          11809809.681779431,
          11616845.08154022,
          12425716.85617122,
          8791623.318170547,
          10384673.336092811,
          10991863.325062927,
          1908815.5893787611,
          -3024277.315943784,
          8257022.961478347,
          9876280.22673791,
          11521333.679640109,
          4434108.014913962,
          10373136.052351845,
          11107304.03309183,
          12775227.178780349,
          9337268.8299879,
          9176158.50163695,
          7927651.945579301,
          1253256.7054408619,
          -3601952.750059798,
          6690315.18310962,
          8689044.076077301,
          9404758.093659317,
          5304432.531571472,
          10839176.893265182,
          7452365.749536248,
          6059603.691424978,
          5880077.119715457,
          1919604.8149674064,
          2923775.258566612,
          -5493447.017452072,
          -8650951.884211518,
          -2236472.642827264,
          1190773.7055938174,
          3481424.891369164,
          5303236.673423237,
          9166464.697855199,
          7278846.213526398,
          5574443.714816041,
          9675128.489707258,
          10278708.292567683,
          10280469.610880112,
          3787709.74971769,
          1222677.6196682146,
          6330069.440972314,
          7033371.539466303,
          7117737.999338083,
          5386002.156752304,
          8902138.53287702,
          8899956.231577104,
          8618817.28855968,
          6741925.5581635535,
          6336717.688325274
         ],
         "yaxis": "y3"
        },
        {
         "hovertemplate": "variable=upp_emploi_quelconque_t_plus_12<br>Months=%{x}<br>Estimates (in p.p.) =%{y}<extra></extra>",
         "legendgroup": "upp_emploi_quelconque_t_plus_12",
         "line": {
          "color": "blue",
          "dash": "dash",
          "width": 0.5
         },
         "marker": {
          "symbol": "circle"
         },
         "mode": "lines",
         "name": "Upper 95% interval",
         "orientation": "v",
         "showlegend": true,
         "type": "scatter",
         "x": [
          "2017-01-01",
          "2017-02-01",
          "2017-03-01",
          "2017-04-01",
          "2017-05-01",
          "2017-06-01",
          "2017-07-01",
          "2017-08-01",
          "2017-09-01",
          "2017-10-01",
          "2017-11-01",
          "2017-12-01",
          "2018-01-01",
          "2018-02-01",
          "2018-03-01",
          "2018-04-01",
          "2018-05-01",
          "2018-06-01",
          "2018-07-01",
          "2018-08-01",
          "2018-09-01",
          "2018-10-01",
          "2018-11-01",
          "2018-12-01",
          "2019-01-01",
          "2019-02-01",
          "2019-03-01",
          "2019-04-01",
          "2019-05-01",
          "2019-06-01",
          "2019-07-01",
          "2019-08-01",
          "2019-09-01",
          "2019-10-01",
          "2019-11-01",
          "2019-12-01",
          "2020-01-01",
          "2020-02-01",
          "2020-03-01",
          "2020-04-01",
          "2020-05-01",
          "2020-06-01",
          "2020-07-01",
          "2020-08-01",
          "2020-09-01",
          "2020-10-01",
          "2020-11-01",
          "2020-12-01",
          "2021-01-01",
          "2021-02-01",
          "2021-03-01",
          "2021-04-01",
          "2021-05-01",
          "2021-06-01"
         ],
         "xaxis": "x3",
         "y": [
          6907573.045238892,
          12892420.751043012,
          12743821.668918261,
          13713452.065742016,
          10088779.1690889,
          11677122.328307673,
          13179078.939193062,
          3663140.6990539073,
          -2365469.305790347,
          9136623.937965235,
          10817595.826284405,
          12664104.425743781,
          5461828.301953311,
          11537301.260056537,
          12303543.391430479,
          14082094.275863262,
          10717249.497213665,
          10575417.896615844,
          9952012.491796648,
          2940229.8136789063,
          -2970292.8838428943,
          7533578.504462683,
          9671917.496535,
          10595159.322942834,
          6430565.190951541,
          12006219.51400577,
          8575494.027314505,
          7152413.362988597,
          7090852.294749505,
          3043766.5903874566,
          4390334.711703421,
          -3970725.4623844717,
          -8183437.051308024,
          -1544941.0505341229,
          1969132.6389429488,
          4461419.688969242,
          6127328.290628322,
          10175015.009174148,
          8434790.563505352,
          7750934.696161463,
          11253141.533550557,
          11265434.979499983,
          11518589.97384191,
          4862580.770496304,
          1765162.8838595902,
          7027804.726932109,
          7787342.384454883,
          8076637.846151454,
          6214322.616712694,
          9794016.222141044,
          9664442.222963078,
          9505092.51129534,
          7609952.032241391,
          7299319.516604358
         ],
         "yaxis": "y3"
        },
        {
         "hovertemplate": "variable=low_emploi_quelconque_t_plus_12<br>Months=%{x}<br>Estimates (in p.p.) =%{y}<extra></extra>",
         "legendgroup": "low_emploi_quelconque_t_plus_12",
         "line": {
          "color": "blue",
          "dash": "dash",
          "width": 0.5
         },
         "marker": {
          "symbol": "circle"
         },
         "mode": "lines",
         "name": "Lower 95% interval",
         "orientation": "v",
         "showlegend": true,
         "type": "scatter",
         "x": [
          "2017-01-01",
          "2017-02-01",
          "2017-03-01",
          "2017-04-01",
          "2017-05-01",
          "2017-06-01",
          "2017-07-01",
          "2017-08-01",
          "2017-09-01",
          "2017-10-01",
          "2017-11-01",
          "2017-12-01",
          "2018-01-01",
          "2018-02-01",
          "2018-03-01",
          "2018-04-01",
          "2018-05-01",
          "2018-06-01",
          "2018-07-01",
          "2018-08-01",
          "2018-09-01",
          "2018-10-01",
          "2018-11-01",
          "2018-12-01",
          "2019-01-01",
          "2019-02-01",
          "2019-03-01",
          "2019-04-01",
          "2019-05-01",
          "2019-06-01",
          "2019-07-01",
          "2019-08-01",
          "2019-09-01",
          "2019-10-01",
          "2019-11-01",
          "2019-12-01",
          "2020-01-01",
          "2020-02-01",
          "2020-03-01",
          "2020-04-01",
          "2020-05-01",
          "2020-06-01",
          "2020-07-01",
          "2020-08-01",
          "2020-09-01",
          "2020-10-01",
          "2020-11-01",
          "2020-12-01",
          "2021-01-01",
          "2021-02-01",
          "2021-03-01",
          "2021-04-01",
          "2021-05-01",
          "2021-06-01"
         ],
         "xaxis": "x3",
         "y": [
          5164372.589334052,
          10727198.612515846,
          10489868.494162176,
          11137981.646600427,
          7494467.467252193,
          9092224.343877945,
          8804647.710932791,
          154490.47970361484,
          -3683085.3260972216,
          7377421.984991459,
          8934964.627191417,
          10378562.933536436,
          3406387.727874612,
          9208970.844647152,
          9911064.674753182,
          11468360.081697436,
          7957288.162762136,
          7776899.106658055,
          5903291.399361955,
          -433716.4027971822,
          -4233612.616276702,
          5847051.861756556,
          7706170.655619602,
          8214356.864375803,
          4178299.8721914017,
          9672134.272524597,
          6329237.471757991,
          4966794.019861358,
          4669301.944681409,
          795443.0395473567,
          1457215.8054298023,
          -7016168.572519671,
          -9118466.717115013,
          -2928004.2351204045,
          412414.7722446861,
          2501430.0937690865,
          4479145.056218151,
          8157914.386536253,
          6122901.863547446,
          3397952.7334706215,
          8097115.445863957,
          9291981.605635386,
          9042349.247918319,
          2712838.728939077,
          680192.3554768392,
          5632334.15501252,
          6279400.694477724,
          6158838.15252471,
          4557681.696791914,
          8010260.843612994,
          8135470.240191132,
          7732542.0658240225,
          5873899.084085717,
          5374115.860046188
         ],
         "yaxis": "y3"
        },
        {
         "hovertemplate": "variable=coef_emploi_quelconque_t_plus_24<br>Months=%{x}<br>Estimates (in p.p.) =%{y}<extra></extra>",
         "legendgroup": "coef_emploi_quelconque_t_plus_24",
         "line": {
          "color": "red",
          "dash": "solid",
          "width": 1
         },
         "marker": {
          "symbol": "circle"
         },
         "mode": "lines",
         "name": "ATE",
         "orientation": "v",
         "showlegend": true,
         "type": "scatter",
         "x": [
          "2017-01-01",
          "2017-02-01",
          "2017-03-01",
          "2017-04-01",
          "2017-05-01",
          "2017-06-01",
          "2017-07-01",
          "2017-08-01",
          "2017-09-01",
          "2017-10-01",
          "2017-11-01",
          "2017-12-01",
          "2018-01-01",
          "2018-02-01",
          "2018-03-01",
          "2018-04-01",
          "2018-05-01",
          "2018-06-01",
          "2018-07-01",
          "2018-08-01",
          "2018-09-01",
          "2018-10-01",
          "2018-11-01",
          "2018-12-01",
          "2019-01-01",
          "2019-02-01",
          "2019-03-01",
          "2019-04-01",
          "2019-05-01",
          "2019-06-01",
          "2019-07-01",
          "2019-08-01",
          "2019-09-01",
          "2019-10-01",
          "2019-11-01",
          "2019-12-01",
          "2020-01-01",
          "2020-02-01",
          "2020-03-01",
          "2020-04-01",
          "2020-05-01",
          "2020-06-01",
          "2020-07-01",
          "2020-08-01",
          "2020-09-01",
          "2020-10-01",
          "2020-11-01",
          "2020-12-01",
          "2021-01-01",
          "2021-02-01",
          "2021-03-01",
          "2021-04-01",
          "2021-05-01",
          "2021-06-01"
         ],
         "xaxis": "x4",
         "y": [
          15340452.686471906,
          17042897.282826934,
          17591034.72185861,
          18525814.439657822,
          16116577.582327226,
          16902566.354411382,
          17323082.682743285,
          12424488.602252472,
          7506898.99500021,
          16172011.925121764,
          16770339.355974454,
          17995574.76350167,
          14608294.719654499,
          16729168.32208533,
          17359619.684543148,
          17423783.27152727,
          15886248.374347456,
          15864859.145458804,
          13854143.074091634,
          10439237.689904528,
          4821693.391110035,
          12949046.80314727,
          13268205.278060725,
          13452002.384345125,
          11394598.042404223,
          15905703.349018883,
          14117790.741391862,
          13906500.349214025,
          15156297.713976396,
          13963896.932488192,
          13309163.388764005,
          11474587.971164227,
          6869349.62064925,
          13032612.942216216,
          14536610.375633858,
          13547123.105578322,
          15814235.226301042,
          17028304.94877728,
          16023450.668668453,
          12052011.098141856,
          16932176.714419913,
          17442668.010476522,
          15892921.199481824,
          11771598.134394074,
          8729197.074341375,
          12502078.62825573,
          13157497.085307062,
          12262886.566880552,
          10439887.576053139,
          12211178.222343257,
          12245896.530574778,
          11285740.071815062,
          8631073.543706028,
          7200650.57350536
         ],
         "yaxis": "y4"
        },
        {
         "hovertemplate": "variable=upp_emploi_quelconque_t_plus_24<br>Months=%{x}<br>Estimates (in p.p.) =%{y}<extra></extra>",
         "legendgroup": "upp_emploi_quelconque_t_plus_24",
         "line": {
          "color": "blue",
          "dash": "dash",
          "width": 0.5
         },
         "marker": {
          "symbol": "circle"
         },
         "mode": "lines",
         "name": "Upper 95% interval",
         "orientation": "v",
         "showlegend": true,
         "type": "scatter",
         "x": [
          "2017-01-01",
          "2017-02-01",
          "2017-03-01",
          "2017-04-01",
          "2017-05-01",
          "2017-06-01",
          "2017-07-01",
          "2017-08-01",
          "2017-09-01",
          "2017-10-01",
          "2017-11-01",
          "2017-12-01",
          "2018-01-01",
          "2018-02-01",
          "2018-03-01",
          "2018-04-01",
          "2018-05-01",
          "2018-06-01",
          "2018-07-01",
          "2018-08-01",
          "2018-09-01",
          "2018-10-01",
          "2018-11-01",
          "2018-12-01",
          "2019-01-01",
          "2019-02-01",
          "2019-03-01",
          "2019-04-01",
          "2019-05-01",
          "2019-06-01",
          "2019-07-01",
          "2019-08-01",
          "2019-09-01",
          "2019-10-01",
          "2019-11-01",
          "2019-12-01",
          "2020-01-01",
          "2020-02-01",
          "2020-03-01",
          "2020-04-01",
          "2020-05-01",
          "2020-06-01",
          "2020-07-01",
          "2020-08-01",
          "2020-09-01",
          "2020-10-01",
          "2020-11-01",
          "2020-12-01",
          "2021-01-01",
          "2021-02-01",
          "2021-03-01",
          "2021-04-01",
          "2021-05-01",
          "2021-06-01"
         ],
         "xaxis": "x4",
         "y": [
          16184614.688385634,
          18076631.747687362,
          18668741.89053165,
          19749561.939833928,
          17372941.786047537,
          18162929.76294529,
          19425040.7423793,
          14161204.496399011,
          8173930.8467658525,
          17015981.45690097,
          17676040.291169424,
          19087062.134516854,
          15605861.033594666,
          17849076.422050245,
          18506025.041554183,
          18685984.28150735,
          17237428.40464228,
          17238060.946005337,
          15864582.262581125,
          12153748.12159625,
          5474753.997043877,
          13787399.309633119,
          14248354.254613694,
          14636365.03825451,
          12522128.684178589,
          17059928.765788514,
          15237565.670714239,
          15013545.660588672,
          16403447.360425401,
          15148931.211470382,
          14882040.00331274,
          13227743.9723078,
          7433360.081937886,
          13837244.191789277,
          15442035.447642237,
          14686641.843887558,
          16754045.087454405,
          18109657.706244096,
          17246075.900341094,
          14336222.810293254,
          18526626.108382348,
          18417416.308987904,
          17113388.623456832,
          12866123.952777201,
          9283523.104025353,
          13196952.970600298,
          13910229.94855578,
          13222848.412268154,
          11275047.218439173,
          13104330.329426853,
          13010806.46148954,
          12175546.258161783,
          9504018.243624996,
          8168145.34389911
         ],
         "yaxis": "y4"
        },
        {
         "hovertemplate": "variable=low_emploi_quelconque_t_plus_24<br>Months=%{x}<br>Estimates (in p.p.) =%{y}<extra></extra>",
         "legendgroup": "low_emploi_quelconque_t_plus_24",
         "line": {
          "color": "blue",
          "dash": "dash",
          "width": 0.5
         },
         "marker": {
          "symbol": "circle"
         },
         "mode": "lines",
         "name": "Lower 95% interval",
         "orientation": "v",
         "showlegend": true,
         "type": "scatter",
         "x": [
          "2017-01-01",
          "2017-02-01",
          "2017-03-01",
          "2017-04-01",
          "2017-05-01",
          "2017-06-01",
          "2017-07-01",
          "2017-08-01",
          "2017-09-01",
          "2017-10-01",
          "2017-11-01",
          "2017-12-01",
          "2018-01-01",
          "2018-02-01",
          "2018-03-01",
          "2018-04-01",
          "2018-05-01",
          "2018-06-01",
          "2018-07-01",
          "2018-08-01",
          "2018-09-01",
          "2018-10-01",
          "2018-11-01",
          "2018-12-01",
          "2019-01-01",
          "2019-02-01",
          "2019-03-01",
          "2019-04-01",
          "2019-05-01",
          "2019-06-01",
          "2019-07-01",
          "2019-08-01",
          "2019-09-01",
          "2019-10-01",
          "2019-11-01",
          "2019-12-01",
          "2020-01-01",
          "2020-02-01",
          "2020-03-01",
          "2020-04-01",
          "2020-05-01",
          "2020-06-01",
          "2020-07-01",
          "2020-08-01",
          "2020-09-01",
          "2020-10-01",
          "2020-11-01",
          "2020-12-01",
          "2021-01-01",
          "2021-02-01",
          "2021-03-01",
          "2021-04-01",
          "2021-05-01",
          "2021-06-01"
         ],
         "xaxis": "x4",
         "y": [
          14496290.684558181,
          16009162.817966508,
          16513327.553185573,
          17302066.939481713,
          14860213.378606914,
          15642202.945877468,
          15221124.623107264,
          10687772.708105933,
          6839867.143234567,
          15328042.393342556,
          15864638.420779487,
          16904087.392486494,
          13610728.405714326,
          15609260.222120417,
          16213214.327532103,
          16161582.26154719,
          14535068.344052633,
          14491657.344912278,
          11843703.885602146,
          8724727.258212805,
          4168632.7851761924,
          12110694.296661414,
          12288056.301507754,
          12267639.730435735,
          10267067.400629858,
          14751477.932249248,
          12998015.812069481,
          12799455.03783938,
          13909148.067527393,
          12778862.653505996,
          11736286.774215272,
          9721431.970020654,
          6305339.159360614,
          12227981.692643153,
          13631185.303625485,
          12407604.367269091,
          14874425.365147684,
          15946952.191310463,
          14800825.436995815,
          9767799.385990461,
          15337727.320457479,
          16467919.711965142,
          14672453.775506817,
          10677072.316010945,
          8174871.044657398,
          11807204.285911167,
          12404764.222058337,
          11302924.721492952,
          9604727.933667105,
          11318026.115259668,
          11480986.59966002,
          10395933.88546834,
          7758128.843787056,
          6233155.80311161
         ],
         "yaxis": "y4"
        }
       ],
       "layout": {
        "annotations": [
         {
          "font": {
           "size": 16
          },
          "showarrow": false,
          "text": "3 months horizon",
          "x": 0.5,
          "xanchor": "center",
          "xref": "paper",
          "y": 1,
          "yanchor": "bottom",
          "yref": "paper"
         },
         {
          "font": {
           "size": 16
          },
          "showarrow": false,
          "text": "6 months horizon",
          "x": 0.5,
          "xanchor": "center",
          "xref": "paper",
          "y": 0.71875,
          "yanchor": "bottom",
          "yref": "paper"
         },
         {
          "font": {
           "size": 16
          },
          "showarrow": false,
          "text": "12 months horizon",
          "x": 0.5,
          "xanchor": "center",
          "xref": "paper",
          "y": 0.4375,
          "yanchor": "bottom",
          "yref": "paper"
         },
         {
          "font": {
           "size": 16
          },
          "showarrow": false,
          "text": "24 months horizon",
          "x": 0.5,
          "xanchor": "center",
          "xref": "paper",
          "y": 0.15625,
          "yanchor": "bottom",
          "yref": "paper"
         }
        ],
        "shapes": [
         {
          "line": {
           "color": "#000000",
           "width": 0.5
          },
          "type": "line",
          "x0": 0,
          "x1": 1,
          "xref": "x domain",
          "y0": 0,
          "y1": 0,
          "yref": "y"
         },
         {
          "line": {
           "color": "#000000",
           "width": 0.5
          },
          "type": "line",
          "x0": 0,
          "x1": 1,
          "xref": "x2 domain",
          "y0": 0,
          "y1": 0,
          "yref": "y2"
         },
         {
          "line": {
           "color": "#000000",
           "width": 0.5
          },
          "type": "line",
          "x0": 0,
          "x1": 1,
          "xref": "x3 domain",
          "y0": 0,
          "y1": 0,
          "yref": "y3"
         },
         {
          "line": {
           "color": "#000000",
           "width": 0.5
          },
          "type": "line",
          "x0": 0,
          "x1": 1,
          "xref": "x4 domain",
          "y0": 0,
          "y1": 0,
          "yref": "y4"
         }
        ],
        "template": {
         "data": {
          "bar": [
           {
            "error_x": {
             "color": "#2a3f5f"
            },
            "error_y": {
             "color": "#2a3f5f"
            },
            "marker": {
             "line": {
              "color": "#E5ECF6",
              "width": 0.5
             },
             "pattern": {
              "fillmode": "overlay",
              "size": 10,
              "solidity": 0.2
             }
            },
            "type": "bar"
           }
          ],
          "barpolar": [
           {
            "marker": {
             "line": {
              "color": "#E5ECF6",
              "width": 0.5
             },
             "pattern": {
              "fillmode": "overlay",
              "size": 10,
              "solidity": 0.2
             }
            },
            "type": "barpolar"
           }
          ],
          "carpet": [
           {
            "aaxis": {
             "endlinecolor": "#2a3f5f",
             "gridcolor": "white",
             "linecolor": "white",
             "minorgridcolor": "white",
             "startlinecolor": "#2a3f5f"
            },
            "baxis": {
             "endlinecolor": "#2a3f5f",
             "gridcolor": "white",
             "linecolor": "white",
             "minorgridcolor": "white",
             "startlinecolor": "#2a3f5f"
            },
            "type": "carpet"
           }
          ],
          "choropleth": [
           {
            "colorbar": {
             "outlinewidth": 0,
             "ticks": ""
            },
            "type": "choropleth"
           }
          ],
          "contour": [
           {
            "colorbar": {
             "outlinewidth": 0,
             "ticks": ""
            },
            "colorscale": [
             [
              0,
              "#0d0887"
             ],
             [
              0.1111111111111111,
              "#46039f"
             ],
             [
              0.2222222222222222,
              "#7201a8"
             ],
             [
              0.3333333333333333,
              "#9c179e"
             ],
             [
              0.4444444444444444,
              "#bd3786"
             ],
             [
              0.5555555555555556,
              "#d8576b"
             ],
             [
              0.6666666666666666,
              "#ed7953"
             ],
             [
              0.7777777777777778,
              "#fb9f3a"
             ],
             [
              0.8888888888888888,
              "#fdca26"
             ],
             [
              1,
              "#f0f921"
             ]
            ],
            "type": "contour"
           }
          ],
          "contourcarpet": [
           {
            "colorbar": {
             "outlinewidth": 0,
             "ticks": ""
            },
            "type": "contourcarpet"
           }
          ],
          "heatmap": [
           {
            "colorbar": {
             "outlinewidth": 0,
             "ticks": ""
            },
            "colorscale": [
             [
              0,
              "#0d0887"
             ],
             [
              0.1111111111111111,
              "#46039f"
             ],
             [
              0.2222222222222222,
              "#7201a8"
             ],
             [
              0.3333333333333333,
              "#9c179e"
             ],
             [
              0.4444444444444444,
              "#bd3786"
             ],
             [
              0.5555555555555556,
              "#d8576b"
             ],
             [
              0.6666666666666666,
              "#ed7953"
             ],
             [
              0.7777777777777778,
              "#fb9f3a"
             ],
             [
              0.8888888888888888,
              "#fdca26"
             ],
             [
              1,
              "#f0f921"
             ]
            ],
            "type": "heatmap"
           }
          ],
          "heatmapgl": [
           {
            "colorbar": {
             "outlinewidth": 0,
             "ticks": ""
            },
            "colorscale": [
             [
              0,
              "#0d0887"
             ],
             [
              0.1111111111111111,
              "#46039f"
             ],
             [
              0.2222222222222222,
              "#7201a8"
             ],
             [
              0.3333333333333333,
              "#9c179e"
             ],
             [
              0.4444444444444444,
              "#bd3786"
             ],
             [
              0.5555555555555556,
              "#d8576b"
             ],
             [
              0.6666666666666666,
              "#ed7953"
             ],
             [
              0.7777777777777778,
              "#fb9f3a"
             ],
             [
              0.8888888888888888,
              "#fdca26"
             ],
             [
              1,
              "#f0f921"
             ]
            ],
            "type": "heatmapgl"
           }
          ],
          "histogram": [
           {
            "marker": {
             "pattern": {
              "fillmode": "overlay",
              "size": 10,
              "solidity": 0.2
             }
            },
            "type": "histogram"
           }
          ],
          "histogram2d": [
           {
            "colorbar": {
             "outlinewidth": 0,
             "ticks": ""
            },
            "colorscale": [
             [
              0,
              "#0d0887"
             ],
             [
              0.1111111111111111,
              "#46039f"
             ],
             [
              0.2222222222222222,
              "#7201a8"
             ],
             [
              0.3333333333333333,
              "#9c179e"
             ],
             [
              0.4444444444444444,
              "#bd3786"
             ],
             [
              0.5555555555555556,
              "#d8576b"
             ],
             [
              0.6666666666666666,
              "#ed7953"
             ],
             [
              0.7777777777777778,
              "#fb9f3a"
             ],
             [
              0.8888888888888888,
              "#fdca26"
             ],
             [
              1,
              "#f0f921"
             ]
            ],
            "type": "histogram2d"
           }
          ],
          "histogram2dcontour": [
           {
            "colorbar": {
             "outlinewidth": 0,
             "ticks": ""
            },
            "colorscale": [
             [
              0,
              "#0d0887"
             ],
             [
              0.1111111111111111,
              "#46039f"
             ],
             [
              0.2222222222222222,
              "#7201a8"
             ],
             [
              0.3333333333333333,
              "#9c179e"
             ],
             [
              0.4444444444444444,
              "#bd3786"
             ],
             [
              0.5555555555555556,
              "#d8576b"
             ],
             [
              0.6666666666666666,
              "#ed7953"
             ],
             [
              0.7777777777777778,
              "#fb9f3a"
             ],
             [
              0.8888888888888888,
              "#fdca26"
             ],
             [
              1,
              "#f0f921"
             ]
            ],
            "type": "histogram2dcontour"
           }
          ],
          "mesh3d": [
           {
            "colorbar": {
             "outlinewidth": 0,
             "ticks": ""
            },
            "type": "mesh3d"
           }
          ],
          "parcoords": [
           {
            "line": {
             "colorbar": {
              "outlinewidth": 0,
              "ticks": ""
             }
            },
            "type": "parcoords"
           }
          ],
          "pie": [
           {
            "automargin": true,
            "type": "pie"
           }
          ],
          "scatter": [
           {
            "fillpattern": {
             "fillmode": "overlay",
             "size": 10,
             "solidity": 0.2
            },
            "type": "scatter"
           }
          ],
          "scatter3d": [
           {
            "line": {
             "colorbar": {
              "outlinewidth": 0,
              "ticks": ""
             }
            },
            "marker": {
             "colorbar": {
              "outlinewidth": 0,
              "ticks": ""
             }
            },
            "type": "scatter3d"
           }
          ],
          "scattercarpet": [
           {
            "marker": {
             "colorbar": {
              "outlinewidth": 0,
              "ticks": ""
             }
            },
            "type": "scattercarpet"
           }
          ],
          "scattergeo": [
           {
            "marker": {
             "colorbar": {
              "outlinewidth": 0,
              "ticks": ""
             }
            },
            "type": "scattergeo"
           }
          ],
          "scattergl": [
           {
            "marker": {
             "colorbar": {
              "outlinewidth": 0,
              "ticks": ""
             }
            },
            "type": "scattergl"
           }
          ],
          "scattermapbox": [
           {
            "marker": {
             "colorbar": {
              "outlinewidth": 0,
              "ticks": ""
             }
            },
            "type": "scattermapbox"
           }
          ],
          "scatterpolar": [
           {
            "marker": {
             "colorbar": {
              "outlinewidth": 0,
              "ticks": ""
             }
            },
            "type": "scatterpolar"
           }
          ],
          "scatterpolargl": [
           {
            "marker": {
             "colorbar": {
              "outlinewidth": 0,
              "ticks": ""
             }
            },
            "type": "scatterpolargl"
           }
          ],
          "scatterternary": [
           {
            "marker": {
             "colorbar": {
              "outlinewidth": 0,
              "ticks": ""
             }
            },
            "type": "scatterternary"
           }
          ],
          "surface": [
           {
            "colorbar": {
             "outlinewidth": 0,
             "ticks": ""
            },
            "colorscale": [
             [
              0,
              "#0d0887"
             ],
             [
              0.1111111111111111,
              "#46039f"
             ],
             [
              0.2222222222222222,
              "#7201a8"
             ],
             [
              0.3333333333333333,
              "#9c179e"
             ],
             [
              0.4444444444444444,
              "#bd3786"
             ],
             [
              0.5555555555555556,
              "#d8576b"
             ],
             [
              0.6666666666666666,
              "#ed7953"
             ],
             [
              0.7777777777777778,
              "#fb9f3a"
             ],
             [
              0.8888888888888888,
              "#fdca26"
             ],
             [
              1,
              "#f0f921"
             ]
            ],
            "type": "surface"
           }
          ],
          "table": [
           {
            "cells": {
             "fill": {
              "color": "#EBF0F8"
             },
             "line": {
              "color": "white"
             }
            },
            "header": {
             "fill": {
              "color": "#C8D4E3"
             },
             "line": {
              "color": "white"
             }
            },
            "type": "table"
           }
          ]
         },
         "layout": {
          "annotationdefaults": {
           "arrowcolor": "#2a3f5f",
           "arrowhead": 0,
           "arrowwidth": 1
          },
          "autotypenumbers": "strict",
          "coloraxis": {
           "colorbar": {
            "outlinewidth": 0,
            "ticks": ""
           }
          },
          "colorscale": {
           "diverging": [
            [
             0,
             "#8e0152"
            ],
            [
             0.1,
             "#c51b7d"
            ],
            [
             0.2,
             "#de77ae"
            ],
            [
             0.3,
             "#f1b6da"
            ],
            [
             0.4,
             "#fde0ef"
            ],
            [
             0.5,
             "#f7f7f7"
            ],
            [
             0.6,
             "#e6f5d0"
            ],
            [
             0.7,
             "#b8e186"
            ],
            [
             0.8,
             "#7fbc41"
            ],
            [
             0.9,
             "#4d9221"
            ],
            [
             1,
             "#276419"
            ]
           ],
           "sequential": [
            [
             0,
             "#0d0887"
            ],
            [
             0.1111111111111111,
             "#46039f"
            ],
            [
             0.2222222222222222,
             "#7201a8"
            ],
            [
             0.3333333333333333,
             "#9c179e"
            ],
            [
             0.4444444444444444,
             "#bd3786"
            ],
            [
             0.5555555555555556,
             "#d8576b"
            ],
            [
             0.6666666666666666,
             "#ed7953"
            ],
            [
             0.7777777777777778,
             "#fb9f3a"
            ],
            [
             0.8888888888888888,
             "#fdca26"
            ],
            [
             1,
             "#f0f921"
            ]
           ],
           "sequentialminus": [
            [
             0,
             "#0d0887"
            ],
            [
             0.1111111111111111,
             "#46039f"
            ],
            [
             0.2222222222222222,
             "#7201a8"
            ],
            [
             0.3333333333333333,
             "#9c179e"
            ],
            [
             0.4444444444444444,
             "#bd3786"
            ],
            [
             0.5555555555555556,
             "#d8576b"
            ],
            [
             0.6666666666666666,
             "#ed7953"
            ],
            [
             0.7777777777777778,
             "#fb9f3a"
            ],
            [
             0.8888888888888888,
             "#fdca26"
            ],
            [
             1,
             "#f0f921"
            ]
           ]
          },
          "colorway": [
           "#636efa",
           "#EF553B",
           "#00cc96",
           "#ab63fa",
           "#FFA15A",
           "#19d3f3",
           "#FF6692",
           "#B6E880",
           "#FF97FF",
           "#FECB52"
          ],
          "font": {
           "color": "#2a3f5f"
          },
          "geo": {
           "bgcolor": "white",
           "lakecolor": "white",
           "landcolor": "#E5ECF6",
           "showlakes": true,
           "showland": true,
           "subunitcolor": "white"
          },
          "hoverlabel": {
           "align": "left"
          },
          "hovermode": "closest",
          "mapbox": {
           "style": "light"
          },
          "paper_bgcolor": "white",
          "plot_bgcolor": "#E5ECF6",
          "polar": {
           "angularaxis": {
            "gridcolor": "white",
            "linecolor": "white",
            "ticks": ""
           },
           "bgcolor": "#E5ECF6",
           "radialaxis": {
            "gridcolor": "white",
            "linecolor": "white",
            "ticks": ""
           }
          },
          "scene": {
           "xaxis": {
            "backgroundcolor": "#E5ECF6",
            "gridcolor": "white",
            "gridwidth": 2,
            "linecolor": "white",
            "showbackground": true,
            "ticks": "",
            "zerolinecolor": "white"
           },
           "yaxis": {
            "backgroundcolor": "#E5ECF6",
            "gridcolor": "white",
            "gridwidth": 2,
            "linecolor": "white",
            "showbackground": true,
            "ticks": "",
            "zerolinecolor": "white"
           },
           "zaxis": {
            "backgroundcolor": "#E5ECF6",
            "gridcolor": "white",
            "gridwidth": 2,
            "linecolor": "white",
            "showbackground": true,
            "ticks": "",
            "zerolinecolor": "white"
           }
          },
          "shapedefaults": {
           "line": {
            "color": "#2a3f5f"
           }
          },
          "ternary": {
           "aaxis": {
            "gridcolor": "white",
            "linecolor": "white",
            "ticks": ""
           },
           "baxis": {
            "gridcolor": "white",
            "linecolor": "white",
            "ticks": ""
           },
           "bgcolor": "#E5ECF6",
           "caxis": {
            "gridcolor": "white",
            "linecolor": "white",
            "ticks": ""
           }
          },
          "title": {
           "x": 0.05
          },
          "xaxis": {
           "automargin": true,
           "gridcolor": "white",
           "linecolor": "white",
           "ticks": "",
           "title": {
            "standoff": 15
           },
           "zerolinecolor": "white",
           "zerolinewidth": 2
          },
          "yaxis": {
           "automargin": true,
           "gridcolor": "white",
           "linecolor": "white",
           "ticks": "",
           "title": {
            "standoff": 15
           },
           "zerolinecolor": "white",
           "zerolinewidth": 2
          }
         }
        },
        "xaxis": {
         "anchor": "y",
         "domain": [
          0,
          1
         ]
        },
        "xaxis2": {
         "anchor": "y2",
         "domain": [
          0,
          1
         ]
        },
        "xaxis3": {
         "anchor": "y3",
         "domain": [
          0,
          1
         ]
        },
        "xaxis4": {
         "anchor": "y4",
         "domain": [
          0,
          1
         ]
        },
        "yaxis": {
         "anchor": "x",
         "domain": [
          0.84375,
          1
         ],
         "range": [
          -15,
          20
         ]
        },
        "yaxis2": {
         "anchor": "x2",
         "domain": [
          0.5625,
          0.71875
         ],
         "range": [
          -15,
          20
         ]
        },
        "yaxis3": {
         "anchor": "x3",
         "domain": [
          0.28125,
          0.4375
         ],
         "range": [
          -15,
          20
         ]
        },
        "yaxis4": {
         "anchor": "x4",
         "domain": [
          0,
          0.15625
         ],
         "range": [
          -15,
          20
         ]
        }
       }
      },
      "text/html": [
       "<div>                            <div id=\"28d47fc1-149f-47aa-9554-a8b0f4eeca7d\" class=\"plotly-graph-div\" style=\"height:525px; width:100%;\"></div>            <script type=\"text/javascript\">                require([\"plotly\"], function(Plotly) {                    window.PLOTLYENV=window.PLOTLYENV || {};                                    if (document.getElementById(\"28d47fc1-149f-47aa-9554-a8b0f4eeca7d\")) {                    Plotly.newPlot(                        \"28d47fc1-149f-47aa-9554-a8b0f4eeca7d\",                        [{\"hovertemplate\":\"variable=coef_emploi_quelconque_t_plus_3\\u003cbr\\u003eMonths=%{x}\\u003cbr\\u003eEstimates (in p.p.) =%{y}\\u003cextra\\u003e\\u003c\\u002fextra\\u003e\",\"legendgroup\":\"coef_emploi_quelconque_t_plus_3\",\"line\":{\"color\":\"red\",\"dash\":\"solid\",\"width\":1},\"marker\":{\"symbol\":\"circle\"},\"mode\":\"lines\",\"name\":\"ATE\",\"orientation\":\"v\",\"showlegend\":true,\"x\":[\"2017-01-01\",\"2017-02-01\",\"2017-03-01\",\"2017-04-01\",\"2017-05-01\",\"2017-06-01\",\"2017-07-01\",\"2017-08-01\",\"2017-09-01\",\"2017-10-01\",\"2017-11-01\",\"2017-12-01\",\"2018-01-01\",\"2018-02-01\",\"2018-03-01\",\"2018-04-01\",\"2018-05-01\",\"2018-06-01\",\"2018-07-01\",\"2018-08-01\",\"2018-09-01\",\"2018-10-01\",\"2018-11-01\",\"2018-12-01\",\"2019-01-01\",\"2019-02-01\",\"2019-03-01\",\"2019-04-01\",\"2019-05-01\",\"2019-06-01\",\"2019-07-01\",\"2019-08-01\",\"2019-09-01\",\"2019-10-01\",\"2019-11-01\",\"2019-12-01\",\"2020-01-01\",\"2020-02-01\",\"2020-03-01\",\"2020-04-01\",\"2020-05-01\",\"2020-06-01\",\"2020-07-01\",\"2020-08-01\",\"2020-09-01\",\"2020-10-01\",\"2020-11-01\",\"2020-12-01\",\"2021-01-01\",\"2021-02-01\",\"2021-03-01\",\"2021-04-01\",\"2021-05-01\",\"2021-06-01\"],\"xaxis\":\"x\",\"y\":[-7753017.571478883,-5722517.928641088,-5893261.057641072,-5409409.314246747,-4380800.084853076,-4231738.251267259,-2174814.9016760057,-8449744.786120089,-11472687.386314986,-7508382.146115428,-6363078.671677887,-5995719.997448549,-8014963.489319209,-6443163.698300223,-5623761.247817345,-5074241.107608699,-6124497.794342036,-4472992.423328077,-4173141.282422283,-9273240.756887233,-12120790.076354701,-8926395.042698171,-7593735.631254336,-6981334.119580337,-9165663.97510762,-6869165.134430186,-7675846.511856293,-6469052.6400967,-3811309.436917214,-4958046.535069259,-3929134.8568232316,-10648733.550126947,-12598503.780541165,-9006426.785030345,-6389871.205600309,-4101182.58879037,-2289109.4567540186,-1615796.4518590784,-1137350.7688111314,-1486179.6701658259,-692407.1699230606,-2061707.001987399,-1744828.9361205185,-4339132.1727,-6680716.734342347,-4810205.4326880695,-5814686.867387544,-5185764.2710053045,-6010295.121031926,-4655911.630228592,-5066569.978999595,-4268352.736149594,-4194244.3939135484,-4654706.699814608],\"yaxis\":\"y\",\"type\":\"scatter\"},{\"hovertemplate\":\"variable=upp_emploi_quelconque_t_plus_3\\u003cbr\\u003eMonths=%{x}\\u003cbr\\u003eEstimates (in p.p.) =%{y}\\u003cextra\\u003e\\u003c\\u002fextra\\u003e\",\"legendgroup\":\"upp_emploi_quelconque_t_plus_3\",\"line\":{\"color\":\"blue\",\"dash\":\"dash\",\"width\":0.5},\"marker\":{\"symbol\":\"circle\"},\"mode\":\"lines\",\"name\":\"Upper 95% interval\",\"orientation\":\"v\",\"showlegend\":true,\"x\":[\"2017-01-01\",\"2017-02-01\",\"2017-03-01\",\"2017-04-01\",\"2017-05-01\",\"2017-06-01\",\"2017-07-01\",\"2017-08-01\",\"2017-09-01\",\"2017-10-01\",\"2017-11-01\",\"2017-12-01\",\"2018-01-01\",\"2018-02-01\",\"2018-03-01\",\"2018-04-01\",\"2018-05-01\",\"2018-06-01\",\"2018-07-01\",\"2018-08-01\",\"2018-09-01\",\"2018-10-01\",\"2018-11-01\",\"2018-12-01\",\"2019-01-01\",\"2019-02-01\",\"2019-03-01\",\"2019-04-01\",\"2019-05-01\",\"2019-06-01\",\"2019-07-01\",\"2019-08-01\",\"2019-09-01\",\"2019-10-01\",\"2019-11-01\",\"2019-12-01\",\"2020-01-01\",\"2020-02-01\",\"2020-03-01\",\"2020-04-01\",\"2020-05-01\",\"2020-06-01\",\"2020-07-01\",\"2020-08-01\",\"2020-09-01\",\"2020-10-01\",\"2020-11-01\",\"2020-12-01\",\"2021-01-01\",\"2021-02-01\",\"2021-03-01\",\"2021-04-01\",\"2021-05-01\",\"2021-06-01\"],\"xaxis\":\"x\",\"y\":[-7219541.889202985,-5023906.639314186,-5142994.507341286,-4531401.041031514,-3504476.398578576,-3395783.1807769137,-663917.496541656,-7318904.987178775,-11071525.389128627,-6979065.152295584,-5776288.729311167,-5268880.278890715,-7378019.605125951,-5699138.446339487,-4817517.05201024,-4175456.278238779,-5204005.500283579,-3550432.230038588,-2763416.916299043,-8242548.544191869,-11742307.396599047,-8432144.252817983,-6999571.283590074,-6270707.088814235,-8447986.323206091,-6108670.820906183,-6936208.742484018,-5717144.4675728,-2957339.9077529972,-4189934.6210002694,-2816081.6124852737,-9603685.61833467,-12267351.993298156,-8545426.026261782,-5921886.1917051505,-3609535.174712777,-1949195.122423561,-1310866.6912247625,-793435.8433196611,-687448.3677478406,-55325.84946534666,-1635502.85800365,-1106057.8263791457,-3795858.0244011353,-6408162.972626583,-4452666.011603288,-5385034.131955106,-4606348.314526472,-5481915.405514708,-4091018.931075032,-4544797.739561107,-3630710.0777958585,-3579356.699357854,-4003337.3428769205],\"yaxis\":\"y\",\"type\":\"scatter\"},{\"hovertemplate\":\"variable=low_emploi_quelconque_t_plus_3\\u003cbr\\u003eMonths=%{x}\\u003cbr\\u003eEstimates (in p.p.) =%{y}\\u003cextra\\u003e\\u003c\\u002fextra\\u003e\",\"legendgroup\":\"low_emploi_quelconque_t_plus_3\",\"line\":{\"color\":\"blue\",\"dash\":\"dash\",\"width\":0.5},\"marker\":{\"symbol\":\"circle\"},\"mode\":\"lines\",\"name\":\"Lower 95% interval\",\"orientation\":\"v\",\"showlegend\":true,\"x\":[\"2017-01-01\",\"2017-02-01\",\"2017-03-01\",\"2017-04-01\",\"2017-05-01\",\"2017-06-01\",\"2017-07-01\",\"2017-08-01\",\"2017-09-01\",\"2017-10-01\",\"2017-11-01\",\"2017-12-01\",\"2018-01-01\",\"2018-02-01\",\"2018-03-01\",\"2018-04-01\",\"2018-05-01\",\"2018-06-01\",\"2018-07-01\",\"2018-08-01\",\"2018-09-01\",\"2018-10-01\",\"2018-11-01\",\"2018-12-01\",\"2019-01-01\",\"2019-02-01\",\"2019-03-01\",\"2019-04-01\",\"2019-05-01\",\"2019-06-01\",\"2019-07-01\",\"2019-08-01\",\"2019-09-01\",\"2019-10-01\",\"2019-11-01\",\"2019-12-01\",\"2020-01-01\",\"2020-02-01\",\"2020-03-01\",\"2020-04-01\",\"2020-05-01\",\"2020-06-01\",\"2020-07-01\",\"2020-08-01\",\"2020-09-01\",\"2020-10-01\",\"2020-11-01\",\"2020-12-01\",\"2021-01-01\",\"2021-02-01\",\"2021-03-01\",\"2021-04-01\",\"2021-05-01\",\"2021-06-01\"],\"xaxis\":\"x\",\"y\":[-8286493.253754781,-6421129.21796799,-6643527.607940856,-6287417.587461977,-5257123.771127576,-5067693.321757605,-3685712.3068103557,-9580584.585061401,-11873849.383501342,-8037699.139935272,-6949868.6140446095,-6722559.716006381,-8651907.373512466,-7187188.950260961,-6430005.44362445,-5973025.9369786205,-7044990.088400492,-5395552.616617568,-5582865.648545523,-10303932.969582597,-12499272.756110355,-9420645.832578363,-8187899.9789186,-7691961.15034644,-9883341.627009148,-7629659.447954187,-8415484.281228568,-7220960.812620597,-4665278.96608143,-5726158.449138248,-5042188.101161189,-11693781.481919222,-12929655.567784172,-9467427.543798907,-6857856.219495466,-4592830.002867963,-2629023.7910844753,-1920726.2124933947,-1481265.6943026022,-2284910.9725838113,-1329488.4903807747,-2487911.1459711483,-2383600.0458618905,-4882406.320998865,-6953270.496058112,-5167744.85377285,-6244339.602819984,-5765180.22748414,-6538674.836549145,-5220804.329382154,-5588342.218438083,-4905995.394503333,-4809132.088469244,-5306076.056752296],\"yaxis\":\"y\",\"type\":\"scatter\"},{\"hovertemplate\":\"variable=coef_emploi_quelconque_t_plus_6\\u003cbr\\u003eMonths=%{x}\\u003cbr\\u003eEstimates (in p.p.) =%{y}\\u003cextra\\u003e\\u003c\\u002fextra\\u003e\",\"legendgroup\":\"coef_emploi_quelconque_t_plus_6\",\"line\":{\"color\":\"red\",\"dash\":\"solid\",\"width\":1},\"marker\":{\"symbol\":\"circle\"},\"mode\":\"lines\",\"name\":\"ATE\",\"orientation\":\"v\",\"showlegend\":true,\"x\":[\"2017-01-01\",\"2017-02-01\",\"2017-03-01\",\"2017-04-01\",\"2017-05-01\",\"2017-06-01\",\"2017-07-01\",\"2017-08-01\",\"2017-09-01\",\"2017-10-01\",\"2017-11-01\",\"2017-12-01\",\"2018-01-01\",\"2018-02-01\",\"2018-03-01\",\"2018-04-01\",\"2018-05-01\",\"2018-06-01\",\"2018-07-01\",\"2018-08-01\",\"2018-09-01\",\"2018-10-01\",\"2018-11-01\",\"2018-12-01\",\"2019-01-01\",\"2019-02-01\",\"2019-03-01\",\"2019-04-01\",\"2019-05-01\",\"2019-06-01\",\"2019-07-01\",\"2019-08-01\",\"2019-09-01\",\"2019-10-01\",\"2019-11-01\",\"2019-12-01\",\"2020-01-01\",\"2020-02-01\",\"2020-03-01\",\"2020-04-01\",\"2020-05-01\",\"2020-06-01\",\"2020-07-01\",\"2020-08-01\",\"2020-09-01\",\"2020-10-01\",\"2020-11-01\",\"2020-12-01\",\"2021-01-01\",\"2021-02-01\",\"2021-03-01\",\"2021-04-01\",\"2021-05-01\",\"2021-06-01\"],\"xaxis\":\"x2\",\"y\":[-5386804.795356196,1121861.3961397903,-164508.6943928541,-388955.5327549681,-2359814.890303367,-1473113.50472101,533249.8068464835,-7316176.169884523,-13479339.248337856,-6629504.304542093,-3502533.350918019,-1705879.6036617826,-6499521.753361021,-1300874.9634982217,-1869926.941639934,88253.90369365872,-3670584.674033259,-3256819.6085305214,-1984381.168698207,-9972826.837844053,-14803187.738652678,-9890486.501858456,-6292999.623330479,-4605036.426810473,-6664048.74264987,-206496.10477388106,-2760002.1871954496,-2639159.4119566698,-242108.67623622253,-2879913.3911397364,-907239.5971432525,-10320188.79285296,-13812244.189002402,-9275039.895034153,-6442968.712136395,-4636673.855089148,-2105316.7569266036,-575177.5959573373,-1426995.930148603,-1385380.6665013882,-806708.2430586598,-1495230.6292365394,315800.8153297383,-4918328.561422885,-9669081.337645015,-6401093.338460879,-5709049.229854949,-3920809.8239068976,-4214381.710929358,-513497.6084304006,-1937036.0945596225,-1002942.528698259,-3101618.221843908,-2712800.1819789684],\"yaxis\":\"y2\",\"type\":\"scatter\"},{\"hovertemplate\":\"variable=upp_emploi_quelconque_t_plus_6\\u003cbr\\u003eMonths=%{x}\\u003cbr\\u003eEstimates (in p.p.) =%{y}\\u003cextra\\u003e\\u003c\\u002fextra\\u003e\",\"legendgroup\":\"upp_emploi_quelconque_t_plus_6\",\"line\":{\"color\":\"blue\",\"dash\":\"dash\",\"width\":0.5},\"marker\":{\"symbol\":\"circle\"},\"mode\":\"lines\",\"name\":\"Upper 95% interval\",\"orientation\":\"v\",\"showlegend\":true,\"x\":[\"2017-01-01\",\"2017-02-01\",\"2017-03-01\",\"2017-04-01\",\"2017-05-01\",\"2017-06-01\",\"2017-07-01\",\"2017-08-01\",\"2017-09-01\",\"2017-10-01\",\"2017-11-01\",\"2017-12-01\",\"2018-01-01\",\"2018-02-01\",\"2018-03-01\",\"2018-04-01\",\"2018-05-01\",\"2018-06-01\",\"2018-07-01\",\"2018-08-01\",\"2018-09-01\",\"2018-10-01\",\"2018-11-01\",\"2018-12-01\",\"2019-01-01\",\"2019-02-01\",\"2019-03-01\",\"2019-04-01\",\"2019-05-01\",\"2019-06-01\",\"2019-07-01\",\"2019-08-01\",\"2019-09-01\",\"2019-10-01\",\"2019-11-01\",\"2019-12-01\",\"2020-01-01\",\"2020-02-01\",\"2020-03-01\",\"2020-04-01\",\"2020-05-01\",\"2020-06-01\",\"2020-07-01\",\"2020-08-01\",\"2020-09-01\",\"2020-10-01\",\"2020-11-01\",\"2020-12-01\",\"2021-01-01\",\"2021-02-01\",\"2021-03-01\",\"2021-04-01\",\"2021-05-01\",\"2021-06-01\"],\"xaxis\":\"x2\",\"y\":[-4645857.641139652,2090833.2844278514,831391.178422291,751064.903380538,-1234329.4104307925,-354557.6239665584,2438390.2312646694,-5857411.415876563,-12964514.88791616,-5910279.818369963,-2704443.4434991973,-710175.8428967625,-5630818.3833844075,-274482.3067902927,-818190.9686987603,1265617.593618768,-2477624.197509461,-2040532.5945741858,-227061.60852064213,-8614053.880210385,-14318885.126382947,-9217871.043258501,-5477634.958310972,-3600669.0879351445,-5696184.029120451,836073.6701232434,-1780103.660755196,-1659704.492323607,859380.5904976953,-1845704.2462953872,456172.9898774266,-8986101.520733345,-13426875.29270548,-8747275.652323999,-5910664.809276716,-4063727.9227243955,-1643531.648101291,-28949.744340119396,-775144.9966708297,34684.583986266916,259954.72299735842,-788546.965599433,1257201.9074251095,-4079793.5243035303,-9265220.566154204,-5859361.708777902,-5122451.085491883,-3125981.936204658,-3501221.7374883415,272902.40872496914,-1267056.8785798422,-209819.4883842119,-2334865.192412124,-1863388.745994564],\"yaxis\":\"y2\",\"type\":\"scatter\"},{\"hovertemplate\":\"variable=low_emploi_quelconque_t_plus_6\\u003cbr\\u003eMonths=%{x}\\u003cbr\\u003eEstimates (in p.p.) =%{y}\\u003cextra\\u003e\\u003c\\u002fextra\\u003e\",\"legendgroup\":\"low_emploi_quelconque_t_plus_6\",\"line\":{\"color\":\"blue\",\"dash\":\"dash\",\"width\":0.5},\"marker\":{\"symbol\":\"circle\"},\"mode\":\"lines\",\"name\":\"Lower 95% interval\",\"orientation\":\"v\",\"showlegend\":true,\"x\":[\"2017-01-01\",\"2017-02-01\",\"2017-03-01\",\"2017-04-01\",\"2017-05-01\",\"2017-06-01\",\"2017-07-01\",\"2017-08-01\",\"2017-09-01\",\"2017-10-01\",\"2017-11-01\",\"2017-12-01\",\"2018-01-01\",\"2018-02-01\",\"2018-03-01\",\"2018-04-01\",\"2018-05-01\",\"2018-06-01\",\"2018-07-01\",\"2018-08-01\",\"2018-09-01\",\"2018-10-01\",\"2018-11-01\",\"2018-12-01\",\"2019-01-01\",\"2019-02-01\",\"2019-03-01\",\"2019-04-01\",\"2019-05-01\",\"2019-06-01\",\"2019-07-01\",\"2019-08-01\",\"2019-09-01\",\"2019-10-01\",\"2019-11-01\",\"2019-12-01\",\"2020-01-01\",\"2020-02-01\",\"2020-03-01\",\"2020-04-01\",\"2020-05-01\",\"2020-06-01\",\"2020-07-01\",\"2020-08-01\",\"2020-09-01\",\"2020-10-01\",\"2020-11-01\",\"2020-12-01\",\"2021-01-01\",\"2021-02-01\",\"2021-03-01\",\"2021-04-01\",\"2021-05-01\",\"2021-06-01\"],\"xaxis\":\"x2\",\"y\":[-6127751.949572743,152889.50785172923,-1160408.5672079993,-1528975.9688904744,-3485300.370175941,-2591669.3854754614,-1371890.6175717025,-8774940.923892485,-13994163.608759552,-7348728.790714224,-4300623.258336843,-2701583.364426803,-7368225.123337633,-2327267.620206151,-2921662.914581108,-1089109.7862314507,-4863545.150557057,-4473106.622486857,-3741700.728875772,-11331599.795477722,-15287490.35092241,-10563101.96045841,-7108364.288349988,-5609403.7656857995,-7631913.456179289,-1249065.8796710055,-3739900.7136357045,-3618614.3315897323,-1343597.9429701401,-3914122.535984086,-2270652.1841639313,-11654276.064972574,-14197613.085299322,-9802804.137744308,-6975272.614996074,-5209619.787453897,-2567101.865751917,-1121405.4475745552,-2078846.8636263763,-2805445.9169890424,-1873371.2091146775,-2201914.292873645,-625600.2767656328,-5756863.5985422395,-10072942.109135827,-6942824.968143857,-6295647.374218015,-4715637.711609136,-4927541.684370375,-1299897.6255857705,-2607015.3105394025,-1796065.5690123069,-3868371.251275692,-3562211.617963374],\"yaxis\":\"y2\",\"type\":\"scatter\"},{\"hovertemplate\":\"variable=coef_emploi_quelconque_t_plus_12\\u003cbr\\u003eMonths=%{x}\\u003cbr\\u003eEstimates (in p.p.) =%{y}\\u003cextra\\u003e\\u003c\\u002fextra\\u003e\",\"legendgroup\":\"coef_emploi_quelconque_t_plus_12\",\"line\":{\"color\":\"red\",\"dash\":\"solid\",\"width\":1},\"marker\":{\"symbol\":\"circle\"},\"mode\":\"lines\",\"name\":\"ATE\",\"orientation\":\"v\",\"showlegend\":true,\"x\":[\"2017-01-01\",\"2017-02-01\",\"2017-03-01\",\"2017-04-01\",\"2017-05-01\",\"2017-06-01\",\"2017-07-01\",\"2017-08-01\",\"2017-09-01\",\"2017-10-01\",\"2017-11-01\",\"2017-12-01\",\"2018-01-01\",\"2018-02-01\",\"2018-03-01\",\"2018-04-01\",\"2018-05-01\",\"2018-06-01\",\"2018-07-01\",\"2018-08-01\",\"2018-09-01\",\"2018-10-01\",\"2018-11-01\",\"2018-12-01\",\"2019-01-01\",\"2019-02-01\",\"2019-03-01\",\"2019-04-01\",\"2019-05-01\",\"2019-06-01\",\"2019-07-01\",\"2019-08-01\",\"2019-09-01\",\"2019-10-01\",\"2019-11-01\",\"2019-12-01\",\"2020-01-01\",\"2020-02-01\",\"2020-03-01\",\"2020-04-01\",\"2020-05-01\",\"2020-06-01\",\"2020-07-01\",\"2020-08-01\",\"2020-09-01\",\"2020-10-01\",\"2020-11-01\",\"2020-12-01\",\"2021-01-01\",\"2021-02-01\",\"2021-03-01\",\"2021-04-01\",\"2021-05-01\",\"2021-06-01\"],\"xaxis\":\"x3\",\"y\":[6035972.817286472,11809809.681779431,11616845.08154022,12425716.85617122,8791623.318170547,10384673.336092811,10991863.325062927,1908815.5893787611,-3024277.315943784,8257022.961478347,9876280.22673791,11521333.679640109,4434108.014913962,10373136.052351845,11107304.03309183,12775227.178780349,9337268.8299879,9176158.50163695,7927651.945579301,1253256.7054408619,-3601952.750059798,6690315.18310962,8689044.076077301,9404758.093659317,5304432.531571472,10839176.893265182,7452365.749536248,6059603.691424978,5880077.119715457,1919604.8149674064,2923775.258566612,-5493447.017452072,-8650951.884211518,-2236472.642827264,1190773.7055938174,3481424.891369164,5303236.673423237,9166464.697855199,7278846.213526398,5574443.714816041,9675128.489707258,10278708.292567683,10280469.610880112,3787709.74971769,1222677.6196682146,6330069.440972314,7033371.539466303,7117737.999338083,5386002.156752304,8902138.53287702,8899956.231577104,8618817.28855968,6741925.5581635535,6336717.688325274],\"yaxis\":\"y3\",\"type\":\"scatter\"},{\"hovertemplate\":\"variable=upp_emploi_quelconque_t_plus_12\\u003cbr\\u003eMonths=%{x}\\u003cbr\\u003eEstimates (in p.p.) =%{y}\\u003cextra\\u003e\\u003c\\u002fextra\\u003e\",\"legendgroup\":\"upp_emploi_quelconque_t_plus_12\",\"line\":{\"color\":\"blue\",\"dash\":\"dash\",\"width\":0.5},\"marker\":{\"symbol\":\"circle\"},\"mode\":\"lines\",\"name\":\"Upper 95% interval\",\"orientation\":\"v\",\"showlegend\":true,\"x\":[\"2017-01-01\",\"2017-02-01\",\"2017-03-01\",\"2017-04-01\",\"2017-05-01\",\"2017-06-01\",\"2017-07-01\",\"2017-08-01\",\"2017-09-01\",\"2017-10-01\",\"2017-11-01\",\"2017-12-01\",\"2018-01-01\",\"2018-02-01\",\"2018-03-01\",\"2018-04-01\",\"2018-05-01\",\"2018-06-01\",\"2018-07-01\",\"2018-08-01\",\"2018-09-01\",\"2018-10-01\",\"2018-11-01\",\"2018-12-01\",\"2019-01-01\",\"2019-02-01\",\"2019-03-01\",\"2019-04-01\",\"2019-05-01\",\"2019-06-01\",\"2019-07-01\",\"2019-08-01\",\"2019-09-01\",\"2019-10-01\",\"2019-11-01\",\"2019-12-01\",\"2020-01-01\",\"2020-02-01\",\"2020-03-01\",\"2020-04-01\",\"2020-05-01\",\"2020-06-01\",\"2020-07-01\",\"2020-08-01\",\"2020-09-01\",\"2020-10-01\",\"2020-11-01\",\"2020-12-01\",\"2021-01-01\",\"2021-02-01\",\"2021-03-01\",\"2021-04-01\",\"2021-05-01\",\"2021-06-01\"],\"xaxis\":\"x3\",\"y\":[6907573.045238892,12892420.751043012,12743821.668918261,13713452.065742016,10088779.1690889,11677122.328307673,13179078.939193062,3663140.6990539073,-2365469.305790347,9136623.937965235,10817595.826284405,12664104.425743781,5461828.301953311,11537301.260056537,12303543.391430479,14082094.275863262,10717249.497213665,10575417.896615844,9952012.491796648,2940229.8136789063,-2970292.8838428943,7533578.504462683,9671917.496535,10595159.322942834,6430565.190951541,12006219.51400577,8575494.027314505,7152413.362988597,7090852.294749505,3043766.5903874566,4390334.711703421,-3970725.4623844717,-8183437.051308024,-1544941.0505341229,1969132.6389429488,4461419.688969242,6127328.290628322,10175015.009174148,8434790.563505352,7750934.696161463,11253141.533550557,11265434.979499983,11518589.97384191,4862580.770496304,1765162.8838595902,7027804.726932109,7787342.384454883,8076637.846151454,6214322.616712694,9794016.222141044,9664442.222963078,9505092.51129534,7609952.032241391,7299319.516604358],\"yaxis\":\"y3\",\"type\":\"scatter\"},{\"hovertemplate\":\"variable=low_emploi_quelconque_t_plus_12\\u003cbr\\u003eMonths=%{x}\\u003cbr\\u003eEstimates (in p.p.) =%{y}\\u003cextra\\u003e\\u003c\\u002fextra\\u003e\",\"legendgroup\":\"low_emploi_quelconque_t_plus_12\",\"line\":{\"color\":\"blue\",\"dash\":\"dash\",\"width\":0.5},\"marker\":{\"symbol\":\"circle\"},\"mode\":\"lines\",\"name\":\"Lower 95% interval\",\"orientation\":\"v\",\"showlegend\":true,\"x\":[\"2017-01-01\",\"2017-02-01\",\"2017-03-01\",\"2017-04-01\",\"2017-05-01\",\"2017-06-01\",\"2017-07-01\",\"2017-08-01\",\"2017-09-01\",\"2017-10-01\",\"2017-11-01\",\"2017-12-01\",\"2018-01-01\",\"2018-02-01\",\"2018-03-01\",\"2018-04-01\",\"2018-05-01\",\"2018-06-01\",\"2018-07-01\",\"2018-08-01\",\"2018-09-01\",\"2018-10-01\",\"2018-11-01\",\"2018-12-01\",\"2019-01-01\",\"2019-02-01\",\"2019-03-01\",\"2019-04-01\",\"2019-05-01\",\"2019-06-01\",\"2019-07-01\",\"2019-08-01\",\"2019-09-01\",\"2019-10-01\",\"2019-11-01\",\"2019-12-01\",\"2020-01-01\",\"2020-02-01\",\"2020-03-01\",\"2020-04-01\",\"2020-05-01\",\"2020-06-01\",\"2020-07-01\",\"2020-08-01\",\"2020-09-01\",\"2020-10-01\",\"2020-11-01\",\"2020-12-01\",\"2021-01-01\",\"2021-02-01\",\"2021-03-01\",\"2021-04-01\",\"2021-05-01\",\"2021-06-01\"],\"xaxis\":\"x3\",\"y\":[5164372.589334052,10727198.612515846,10489868.494162176,11137981.646600427,7494467.467252193,9092224.343877945,8804647.710932791,154490.47970361484,-3683085.3260972216,7377421.984991459,8934964.627191417,10378562.933536436,3406387.727874612,9208970.844647152,9911064.674753182,11468360.081697436,7957288.162762136,7776899.106658055,5903291.399361955,-433716.4027971822,-4233612.616276702,5847051.861756556,7706170.655619602,8214356.864375803,4178299.8721914017,9672134.272524597,6329237.471757991,4966794.019861358,4669301.944681409,795443.0395473567,1457215.8054298023,-7016168.572519671,-9118466.717115013,-2928004.2351204045,412414.7722446861,2501430.0937690865,4479145.056218151,8157914.386536253,6122901.863547446,3397952.7334706215,8097115.445863957,9291981.605635386,9042349.247918319,2712838.728939077,680192.3554768392,5632334.15501252,6279400.694477724,6158838.15252471,4557681.696791914,8010260.843612994,8135470.240191132,7732542.0658240225,5873899.084085717,5374115.860046188],\"yaxis\":\"y3\",\"type\":\"scatter\"},{\"hovertemplate\":\"variable=coef_emploi_quelconque_t_plus_24\\u003cbr\\u003eMonths=%{x}\\u003cbr\\u003eEstimates (in p.p.) =%{y}\\u003cextra\\u003e\\u003c\\u002fextra\\u003e\",\"legendgroup\":\"coef_emploi_quelconque_t_plus_24\",\"line\":{\"color\":\"red\",\"dash\":\"solid\",\"width\":1},\"marker\":{\"symbol\":\"circle\"},\"mode\":\"lines\",\"name\":\"ATE\",\"orientation\":\"v\",\"showlegend\":true,\"x\":[\"2017-01-01\",\"2017-02-01\",\"2017-03-01\",\"2017-04-01\",\"2017-05-01\",\"2017-06-01\",\"2017-07-01\",\"2017-08-01\",\"2017-09-01\",\"2017-10-01\",\"2017-11-01\",\"2017-12-01\",\"2018-01-01\",\"2018-02-01\",\"2018-03-01\",\"2018-04-01\",\"2018-05-01\",\"2018-06-01\",\"2018-07-01\",\"2018-08-01\",\"2018-09-01\",\"2018-10-01\",\"2018-11-01\",\"2018-12-01\",\"2019-01-01\",\"2019-02-01\",\"2019-03-01\",\"2019-04-01\",\"2019-05-01\",\"2019-06-01\",\"2019-07-01\",\"2019-08-01\",\"2019-09-01\",\"2019-10-01\",\"2019-11-01\",\"2019-12-01\",\"2020-01-01\",\"2020-02-01\",\"2020-03-01\",\"2020-04-01\",\"2020-05-01\",\"2020-06-01\",\"2020-07-01\",\"2020-08-01\",\"2020-09-01\",\"2020-10-01\",\"2020-11-01\",\"2020-12-01\",\"2021-01-01\",\"2021-02-01\",\"2021-03-01\",\"2021-04-01\",\"2021-05-01\",\"2021-06-01\"],\"xaxis\":\"x4\",\"y\":[15340452.686471906,17042897.282826934,17591034.72185861,18525814.439657822,16116577.582327226,16902566.354411382,17323082.682743285,12424488.602252472,7506898.99500021,16172011.925121764,16770339.355974454,17995574.76350167,14608294.719654499,16729168.32208533,17359619.684543148,17423783.27152727,15886248.374347456,15864859.145458804,13854143.074091634,10439237.689904528,4821693.391110035,12949046.80314727,13268205.278060725,13452002.384345125,11394598.042404223,15905703.349018883,14117790.741391862,13906500.349214025,15156297.713976396,13963896.932488192,13309163.388764005,11474587.971164227,6869349.62064925,13032612.942216216,14536610.375633858,13547123.105578322,15814235.226301042,17028304.94877728,16023450.668668453,12052011.098141856,16932176.714419913,17442668.010476522,15892921.199481824,11771598.134394074,8729197.074341375,12502078.62825573,13157497.085307062,12262886.566880552,10439887.576053139,12211178.222343257,12245896.530574778,11285740.071815062,8631073.543706028,7200650.57350536],\"yaxis\":\"y4\",\"type\":\"scatter\"},{\"hovertemplate\":\"variable=upp_emploi_quelconque_t_plus_24\\u003cbr\\u003eMonths=%{x}\\u003cbr\\u003eEstimates (in p.p.) =%{y}\\u003cextra\\u003e\\u003c\\u002fextra\\u003e\",\"legendgroup\":\"upp_emploi_quelconque_t_plus_24\",\"line\":{\"color\":\"blue\",\"dash\":\"dash\",\"width\":0.5},\"marker\":{\"symbol\":\"circle\"},\"mode\":\"lines\",\"name\":\"Upper 95% interval\",\"orientation\":\"v\",\"showlegend\":true,\"x\":[\"2017-01-01\",\"2017-02-01\",\"2017-03-01\",\"2017-04-01\",\"2017-05-01\",\"2017-06-01\",\"2017-07-01\",\"2017-08-01\",\"2017-09-01\",\"2017-10-01\",\"2017-11-01\",\"2017-12-01\",\"2018-01-01\",\"2018-02-01\",\"2018-03-01\",\"2018-04-01\",\"2018-05-01\",\"2018-06-01\",\"2018-07-01\",\"2018-08-01\",\"2018-09-01\",\"2018-10-01\",\"2018-11-01\",\"2018-12-01\",\"2019-01-01\",\"2019-02-01\",\"2019-03-01\",\"2019-04-01\",\"2019-05-01\",\"2019-06-01\",\"2019-07-01\",\"2019-08-01\",\"2019-09-01\",\"2019-10-01\",\"2019-11-01\",\"2019-12-01\",\"2020-01-01\",\"2020-02-01\",\"2020-03-01\",\"2020-04-01\",\"2020-05-01\",\"2020-06-01\",\"2020-07-01\",\"2020-08-01\",\"2020-09-01\",\"2020-10-01\",\"2020-11-01\",\"2020-12-01\",\"2021-01-01\",\"2021-02-01\",\"2021-03-01\",\"2021-04-01\",\"2021-05-01\",\"2021-06-01\"],\"xaxis\":\"x4\",\"y\":[16184614.688385634,18076631.747687362,18668741.89053165,19749561.939833928,17372941.786047537,18162929.76294529,19425040.7423793,14161204.496399011,8173930.8467658525,17015981.45690097,17676040.291169424,19087062.134516854,15605861.033594666,17849076.422050245,18506025.041554183,18685984.28150735,17237428.40464228,17238060.946005337,15864582.262581125,12153748.12159625,5474753.997043877,13787399.309633119,14248354.254613694,14636365.03825451,12522128.684178589,17059928.765788514,15237565.670714239,15013545.660588672,16403447.360425401,15148931.211470382,14882040.00331274,13227743.9723078,7433360.081937886,13837244.191789277,15442035.447642237,14686641.843887558,16754045.087454405,18109657.706244096,17246075.900341094,14336222.810293254,18526626.108382348,18417416.308987904,17113388.623456832,12866123.952777201,9283523.104025353,13196952.970600298,13910229.94855578,13222848.412268154,11275047.218439173,13104330.329426853,13010806.46148954,12175546.258161783,9504018.243624996,8168145.34389911],\"yaxis\":\"y4\",\"type\":\"scatter\"},{\"hovertemplate\":\"variable=low_emploi_quelconque_t_plus_24\\u003cbr\\u003eMonths=%{x}\\u003cbr\\u003eEstimates (in p.p.) =%{y}\\u003cextra\\u003e\\u003c\\u002fextra\\u003e\",\"legendgroup\":\"low_emploi_quelconque_t_plus_24\",\"line\":{\"color\":\"blue\",\"dash\":\"dash\",\"width\":0.5},\"marker\":{\"symbol\":\"circle\"},\"mode\":\"lines\",\"name\":\"Lower 95% interval\",\"orientation\":\"v\",\"showlegend\":true,\"x\":[\"2017-01-01\",\"2017-02-01\",\"2017-03-01\",\"2017-04-01\",\"2017-05-01\",\"2017-06-01\",\"2017-07-01\",\"2017-08-01\",\"2017-09-01\",\"2017-10-01\",\"2017-11-01\",\"2017-12-01\",\"2018-01-01\",\"2018-02-01\",\"2018-03-01\",\"2018-04-01\",\"2018-05-01\",\"2018-06-01\",\"2018-07-01\",\"2018-08-01\",\"2018-09-01\",\"2018-10-01\",\"2018-11-01\",\"2018-12-01\",\"2019-01-01\",\"2019-02-01\",\"2019-03-01\",\"2019-04-01\",\"2019-05-01\",\"2019-06-01\",\"2019-07-01\",\"2019-08-01\",\"2019-09-01\",\"2019-10-01\",\"2019-11-01\",\"2019-12-01\",\"2020-01-01\",\"2020-02-01\",\"2020-03-01\",\"2020-04-01\",\"2020-05-01\",\"2020-06-01\",\"2020-07-01\",\"2020-08-01\",\"2020-09-01\",\"2020-10-01\",\"2020-11-01\",\"2020-12-01\",\"2021-01-01\",\"2021-02-01\",\"2021-03-01\",\"2021-04-01\",\"2021-05-01\",\"2021-06-01\"],\"xaxis\":\"x4\",\"y\":[14496290.684558181,16009162.817966508,16513327.553185573,17302066.939481713,14860213.378606914,15642202.945877468,15221124.623107264,10687772.708105933,6839867.143234567,15328042.393342556,15864638.420779487,16904087.392486494,13610728.405714326,15609260.222120417,16213214.327532103,16161582.26154719,14535068.344052633,14491657.344912278,11843703.885602146,8724727.258212805,4168632.7851761924,12110694.296661414,12288056.301507754,12267639.730435735,10267067.400629858,14751477.932249248,12998015.812069481,12799455.03783938,13909148.067527393,12778862.653505996,11736286.774215272,9721431.970020654,6305339.159360614,12227981.692643153,13631185.303625485,12407604.367269091,14874425.365147684,15946952.191310463,14800825.436995815,9767799.385990461,15337727.320457479,16467919.711965142,14672453.775506817,10677072.316010945,8174871.044657398,11807204.285911167,12404764.222058337,11302924.721492952,9604727.933667105,11318026.115259668,11480986.59966002,10395933.88546834,7758128.843787056,6233155.80311161],\"yaxis\":\"y4\",\"type\":\"scatter\"}],                        {\"template\":{\"data\":{\"histogram2dcontour\":[{\"type\":\"histogram2dcontour\",\"colorbar\":{\"outlinewidth\":0,\"ticks\":\"\"},\"colorscale\":[[0.0,\"#0d0887\"],[0.1111111111111111,\"#46039f\"],[0.2222222222222222,\"#7201a8\"],[0.3333333333333333,\"#9c179e\"],[0.4444444444444444,\"#bd3786\"],[0.5555555555555556,\"#d8576b\"],[0.6666666666666666,\"#ed7953\"],[0.7777777777777778,\"#fb9f3a\"],[0.8888888888888888,\"#fdca26\"],[1.0,\"#f0f921\"]]}],\"choropleth\":[{\"type\":\"choropleth\",\"colorbar\":{\"outlinewidth\":0,\"ticks\":\"\"}}],\"histogram2d\":[{\"type\":\"histogram2d\",\"colorbar\":{\"outlinewidth\":0,\"ticks\":\"\"},\"colorscale\":[[0.0,\"#0d0887\"],[0.1111111111111111,\"#46039f\"],[0.2222222222222222,\"#7201a8\"],[0.3333333333333333,\"#9c179e\"],[0.4444444444444444,\"#bd3786\"],[0.5555555555555556,\"#d8576b\"],[0.6666666666666666,\"#ed7953\"],[0.7777777777777778,\"#fb9f3a\"],[0.8888888888888888,\"#fdca26\"],[1.0,\"#f0f921\"]]}],\"heatmap\":[{\"type\":\"heatmap\",\"colorbar\":{\"outlinewidth\":0,\"ticks\":\"\"},\"colorscale\":[[0.0,\"#0d0887\"],[0.1111111111111111,\"#46039f\"],[0.2222222222222222,\"#7201a8\"],[0.3333333333333333,\"#9c179e\"],[0.4444444444444444,\"#bd3786\"],[0.5555555555555556,\"#d8576b\"],[0.6666666666666666,\"#ed7953\"],[0.7777777777777778,\"#fb9f3a\"],[0.8888888888888888,\"#fdca26\"],[1.0,\"#f0f921\"]]}],\"heatmapgl\":[{\"type\":\"heatmapgl\",\"colorbar\":{\"outlinewidth\":0,\"ticks\":\"\"},\"colorscale\":[[0.0,\"#0d0887\"],[0.1111111111111111,\"#46039f\"],[0.2222222222222222,\"#7201a8\"],[0.3333333333333333,\"#9c179e\"],[0.4444444444444444,\"#bd3786\"],[0.5555555555555556,\"#d8576b\"],[0.6666666666666666,\"#ed7953\"],[0.7777777777777778,\"#fb9f3a\"],[0.8888888888888888,\"#fdca26\"],[1.0,\"#f0f921\"]]}],\"contourcarpet\":[{\"type\":\"contourcarpet\",\"colorbar\":{\"outlinewidth\":0,\"ticks\":\"\"}}],\"contour\":[{\"type\":\"contour\",\"colorbar\":{\"outlinewidth\":0,\"ticks\":\"\"},\"colorscale\":[[0.0,\"#0d0887\"],[0.1111111111111111,\"#46039f\"],[0.2222222222222222,\"#7201a8\"],[0.3333333333333333,\"#9c179e\"],[0.4444444444444444,\"#bd3786\"],[0.5555555555555556,\"#d8576b\"],[0.6666666666666666,\"#ed7953\"],[0.7777777777777778,\"#fb9f3a\"],[0.8888888888888888,\"#fdca26\"],[1.0,\"#f0f921\"]]}],\"surface\":[{\"type\":\"surface\",\"colorbar\":{\"outlinewidth\":0,\"ticks\":\"\"},\"colorscale\":[[0.0,\"#0d0887\"],[0.1111111111111111,\"#46039f\"],[0.2222222222222222,\"#7201a8\"],[0.3333333333333333,\"#9c179e\"],[0.4444444444444444,\"#bd3786\"],[0.5555555555555556,\"#d8576b\"],[0.6666666666666666,\"#ed7953\"],[0.7777777777777778,\"#fb9f3a\"],[0.8888888888888888,\"#fdca26\"],[1.0,\"#f0f921\"]]}],\"mesh3d\":[{\"type\":\"mesh3d\",\"colorbar\":{\"outlinewidth\":0,\"ticks\":\"\"}}],\"scatter\":[{\"fillpattern\":{\"fillmode\":\"overlay\",\"size\":10,\"solidity\":0.2},\"type\":\"scatter\"}],\"parcoords\":[{\"type\":\"parcoords\",\"line\":{\"colorbar\":{\"outlinewidth\":0,\"ticks\":\"\"}}}],\"scatterpolargl\":[{\"type\":\"scatterpolargl\",\"marker\":{\"colorbar\":{\"outlinewidth\":0,\"ticks\":\"\"}}}],\"bar\":[{\"error_x\":{\"color\":\"#2a3f5f\"},\"error_y\":{\"color\":\"#2a3f5f\"},\"marker\":{\"line\":{\"color\":\"#E5ECF6\",\"width\":0.5},\"pattern\":{\"fillmode\":\"overlay\",\"size\":10,\"solidity\":0.2}},\"type\":\"bar\"}],\"scattergeo\":[{\"type\":\"scattergeo\",\"marker\":{\"colorbar\":{\"outlinewidth\":0,\"ticks\":\"\"}}}],\"scatterpolar\":[{\"type\":\"scatterpolar\",\"marker\":{\"colorbar\":{\"outlinewidth\":0,\"ticks\":\"\"}}}],\"histogram\":[{\"marker\":{\"pattern\":{\"fillmode\":\"overlay\",\"size\":10,\"solidity\":0.2}},\"type\":\"histogram\"}],\"scattergl\":[{\"type\":\"scattergl\",\"marker\":{\"colorbar\":{\"outlinewidth\":0,\"ticks\":\"\"}}}],\"scatter3d\":[{\"type\":\"scatter3d\",\"line\":{\"colorbar\":{\"outlinewidth\":0,\"ticks\":\"\"}},\"marker\":{\"colorbar\":{\"outlinewidth\":0,\"ticks\":\"\"}}}],\"scattermapbox\":[{\"type\":\"scattermapbox\",\"marker\":{\"colorbar\":{\"outlinewidth\":0,\"ticks\":\"\"}}}],\"scatterternary\":[{\"type\":\"scatterternary\",\"marker\":{\"colorbar\":{\"outlinewidth\":0,\"ticks\":\"\"}}}],\"scattercarpet\":[{\"type\":\"scattercarpet\",\"marker\":{\"colorbar\":{\"outlinewidth\":0,\"ticks\":\"\"}}}],\"carpet\":[{\"aaxis\":{\"endlinecolor\":\"#2a3f5f\",\"gridcolor\":\"white\",\"linecolor\":\"white\",\"minorgridcolor\":\"white\",\"startlinecolor\":\"#2a3f5f\"},\"baxis\":{\"endlinecolor\":\"#2a3f5f\",\"gridcolor\":\"white\",\"linecolor\":\"white\",\"minorgridcolor\":\"white\",\"startlinecolor\":\"#2a3f5f\"},\"type\":\"carpet\"}],\"table\":[{\"cells\":{\"fill\":{\"color\":\"#EBF0F8\"},\"line\":{\"color\":\"white\"}},\"header\":{\"fill\":{\"color\":\"#C8D4E3\"},\"line\":{\"color\":\"white\"}},\"type\":\"table\"}],\"barpolar\":[{\"marker\":{\"line\":{\"color\":\"#E5ECF6\",\"width\":0.5},\"pattern\":{\"fillmode\":\"overlay\",\"size\":10,\"solidity\":0.2}},\"type\":\"barpolar\"}],\"pie\":[{\"automargin\":true,\"type\":\"pie\"}]},\"layout\":{\"autotypenumbers\":\"strict\",\"colorway\":[\"#636efa\",\"#EF553B\",\"#00cc96\",\"#ab63fa\",\"#FFA15A\",\"#19d3f3\",\"#FF6692\",\"#B6E880\",\"#FF97FF\",\"#FECB52\"],\"font\":{\"color\":\"#2a3f5f\"},\"hovermode\":\"closest\",\"hoverlabel\":{\"align\":\"left\"},\"paper_bgcolor\":\"white\",\"plot_bgcolor\":\"#E5ECF6\",\"polar\":{\"bgcolor\":\"#E5ECF6\",\"angularaxis\":{\"gridcolor\":\"white\",\"linecolor\":\"white\",\"ticks\":\"\"},\"radialaxis\":{\"gridcolor\":\"white\",\"linecolor\":\"white\",\"ticks\":\"\"}},\"ternary\":{\"bgcolor\":\"#E5ECF6\",\"aaxis\":{\"gridcolor\":\"white\",\"linecolor\":\"white\",\"ticks\":\"\"},\"baxis\":{\"gridcolor\":\"white\",\"linecolor\":\"white\",\"ticks\":\"\"},\"caxis\":{\"gridcolor\":\"white\",\"linecolor\":\"white\",\"ticks\":\"\"}},\"coloraxis\":{\"colorbar\":{\"outlinewidth\":0,\"ticks\":\"\"}},\"colorscale\":{\"sequential\":[[0.0,\"#0d0887\"],[0.1111111111111111,\"#46039f\"],[0.2222222222222222,\"#7201a8\"],[0.3333333333333333,\"#9c179e\"],[0.4444444444444444,\"#bd3786\"],[0.5555555555555556,\"#d8576b\"],[0.6666666666666666,\"#ed7953\"],[0.7777777777777778,\"#fb9f3a\"],[0.8888888888888888,\"#fdca26\"],[1.0,\"#f0f921\"]],\"sequentialminus\":[[0.0,\"#0d0887\"],[0.1111111111111111,\"#46039f\"],[0.2222222222222222,\"#7201a8\"],[0.3333333333333333,\"#9c179e\"],[0.4444444444444444,\"#bd3786\"],[0.5555555555555556,\"#d8576b\"],[0.6666666666666666,\"#ed7953\"],[0.7777777777777778,\"#fb9f3a\"],[0.8888888888888888,\"#fdca26\"],[1.0,\"#f0f921\"]],\"diverging\":[[0,\"#8e0152\"],[0.1,\"#c51b7d\"],[0.2,\"#de77ae\"],[0.3,\"#f1b6da\"],[0.4,\"#fde0ef\"],[0.5,\"#f7f7f7\"],[0.6,\"#e6f5d0\"],[0.7,\"#b8e186\"],[0.8,\"#7fbc41\"],[0.9,\"#4d9221\"],[1,\"#276419\"]]},\"xaxis\":{\"gridcolor\":\"white\",\"linecolor\":\"white\",\"ticks\":\"\",\"title\":{\"standoff\":15},\"zerolinecolor\":\"white\",\"automargin\":true,\"zerolinewidth\":2},\"yaxis\":{\"gridcolor\":\"white\",\"linecolor\":\"white\",\"ticks\":\"\",\"title\":{\"standoff\":15},\"zerolinecolor\":\"white\",\"automargin\":true,\"zerolinewidth\":2},\"scene\":{\"xaxis\":{\"backgroundcolor\":\"#E5ECF6\",\"gridcolor\":\"white\",\"linecolor\":\"white\",\"showbackground\":true,\"ticks\":\"\",\"zerolinecolor\":\"white\",\"gridwidth\":2},\"yaxis\":{\"backgroundcolor\":\"#E5ECF6\",\"gridcolor\":\"white\",\"linecolor\":\"white\",\"showbackground\":true,\"ticks\":\"\",\"zerolinecolor\":\"white\",\"gridwidth\":2},\"zaxis\":{\"backgroundcolor\":\"#E5ECF6\",\"gridcolor\":\"white\",\"linecolor\":\"white\",\"showbackground\":true,\"ticks\":\"\",\"zerolinecolor\":\"white\",\"gridwidth\":2}},\"shapedefaults\":{\"line\":{\"color\":\"#2a3f5f\"}},\"annotationdefaults\":{\"arrowcolor\":\"#2a3f5f\",\"arrowhead\":0,\"arrowwidth\":1},\"geo\":{\"bgcolor\":\"white\",\"landcolor\":\"#E5ECF6\",\"subunitcolor\":\"white\",\"showland\":true,\"showlakes\":true,\"lakecolor\":\"white\"},\"title\":{\"x\":0.05},\"mapbox\":{\"style\":\"light\"}}},\"xaxis\":{\"anchor\":\"y\",\"domain\":[0.0,1.0]},\"yaxis\":{\"anchor\":\"x\",\"domain\":[0.84375,1.0],\"range\":[-15,20]},\"xaxis2\":{\"anchor\":\"y2\",\"domain\":[0.0,1.0]},\"yaxis2\":{\"anchor\":\"x2\",\"domain\":[0.5625,0.71875],\"range\":[-15,20]},\"xaxis3\":{\"anchor\":\"y3\",\"domain\":[0.0,1.0]},\"yaxis3\":{\"anchor\":\"x3\",\"domain\":[0.28125,0.4375],\"range\":[-15,20]},\"xaxis4\":{\"anchor\":\"y4\",\"domain\":[0.0,1.0]},\"yaxis4\":{\"anchor\":\"x4\",\"domain\":[0.0,0.15625],\"range\":[-15,20]},\"annotations\":[{\"font\":{\"size\":16},\"showarrow\":false,\"text\":\"3 months horizon\",\"x\":0.5,\"xanchor\":\"center\",\"xref\":\"paper\",\"y\":1.0,\"yanchor\":\"bottom\",\"yref\":\"paper\"},{\"font\":{\"size\":16},\"showarrow\":false,\"text\":\"6 months horizon\",\"x\":0.5,\"xanchor\":\"center\",\"xref\":\"paper\",\"y\":0.71875,\"yanchor\":\"bottom\",\"yref\":\"paper\"},{\"font\":{\"size\":16},\"showarrow\":false,\"text\":\"12 months horizon\",\"x\":0.5,\"xanchor\":\"center\",\"xref\":\"paper\",\"y\":0.4375,\"yanchor\":\"bottom\",\"yref\":\"paper\"},{\"font\":{\"size\":16},\"showarrow\":false,\"text\":\"24 months horizon\",\"x\":0.5,\"xanchor\":\"center\",\"xref\":\"paper\",\"y\":0.15625,\"yanchor\":\"bottom\",\"yref\":\"paper\"}],\"shapes\":[{\"line\":{\"color\":\"#000000\",\"width\":0.5},\"type\":\"line\",\"x0\":0,\"x1\":1,\"xref\":\"x domain\",\"y0\":0,\"y1\":0,\"yref\":\"y\"},{\"line\":{\"color\":\"#000000\",\"width\":0.5},\"type\":\"line\",\"x0\":0,\"x1\":1,\"xref\":\"x2 domain\",\"y0\":0,\"y1\":0,\"yref\":\"y2\"},{\"line\":{\"color\":\"#000000\",\"width\":0.5},\"type\":\"line\",\"x0\":0,\"x1\":1,\"xref\":\"x3 domain\",\"y0\":0,\"y1\":0,\"yref\":\"y3\"},{\"line\":{\"color\":\"#000000\",\"width\":0.5},\"type\":\"line\",\"x0\":0,\"x1\":1,\"xref\":\"x4 domain\",\"y0\":0,\"y1\":0,\"yref\":\"y4\"}]},                        {\"responsive\": true}                    ).then(function(){\n",
       "                            \n",
       "var gd = document.getElementById('28d47fc1-149f-47aa-9554-a8b0f4eeca7d');\n",
       "var x = new MutationObserver(function (mutations, observer) {{\n",
       "        var display = window.getComputedStyle(gd).display;\n",
       "        if (!display || display === 'none') {{\n",
       "            console.log([gd, 'removed!']);\n",
       "            Plotly.purge(gd);\n",
       "            observer.disconnect();\n",
       "        }}\n",
       "}});\n",
       "\n",
       "// Listen for the removal of the full notebook cells\n",
       "var notebookContainer = gd.closest('#notebook-container');\n",
       "if (notebookContainer) {{\n",
       "    x.observe(notebookContainer, {childList: true});\n",
       "}}\n",
       "\n",
       "// Listen for the clearing of the current output cell\n",
       "var outputEl = gd.closest('.output');\n",
       "if (outputEl) {{\n",
       "    x.observe(outputEl, {childList: true});\n",
       "}}\n",
       "\n",
       "                        })                };                });            </script>        </div>"
      ]
     },
     "metadata": {},
     "output_type": "display_data"
    }
   ],
   "source": [
    "df_irm*=100\n",
    "df_irm[\"cohorte\"]=dates\n",
    "hor_li=[\"3\",\"6\",\"12\",\"24\"]\n",
    "li_fig=[]\n",
    "\n",
    "\n",
    "for hor in hor_li:\n",
    "\n",
    "\n",
    "\n",
    "    color_dict={\"coef_emploi_quelconque_t_plus_\"+hor:'red',\"low_emploi_quelconque_t_plus_\"+hor:\"blue\",\"upp_emploi_quelconque_t_plus_\"+hor:\"blue\"}\n",
    "\n",
    "    fig=px.line(df_irm, x=\"cohorte\",y= [\"coef_emploi_quelconque_t_plus_\"+hor,\"upp_emploi_quelconque_t_plus_\"+hor,\"low_emploi_quelconque_t_plus_\"+hor]\n",
    "\n",
    "               ,color_discrete_map = color_dict\n",
    "               ,labels={\"cohorte\":\"Months\",\"value\": \"Estimates (in p.p.) \"} ,title=\"Horizon t plus \"+hor+ \" months\")\n",
    "\n",
    "    fig.add_hline(y=0, line_width=1, line_color=\"black\")\n",
    "\n",
    "\n",
    "\n",
    "\n",
    "    fig['data'][2]['line']['width']=0.5\n",
    "    fig['data'][1]['line']['width']=0.5\n",
    "    fig['data'][2]['line']['dash']=\"dash\"\n",
    "    fig['data'][1]['line']['dash']=\"dash\"\n",
    "\n",
    "    fig['data'][0]['line']['width']=1\n",
    "\n",
    "\n",
    "    newnames={ \"coef_emploi_quelconque_t_plus_\"+hor: \"ATE\",\n",
    "                         \"upp_emploi_quelconque_t_plus_\"+hor: \"Upper 95% interval\",\n",
    "                         \"low_emploi_quelconque_t_plus_\"+hor:\"Lower 95% interval\" }\n",
    "\n",
    "    fig.for_each_trace(lambda t: t.update(name = newnames[t.name]))\n",
    "\n",
    "\n",
    "\n",
    "\n",
    "    li_fig.append(fig)\n",
    "    \n",
    "    \n",
    "    \n",
    "    \n",
    "\n",
    "fig = make_subplots(rows=len(li_fig), cols=1,subplot_titles=(\"3 months horizon\",\"6 months horizon\",\"12 months horizon\",\"24 months horizon\")) \n",
    "\n",
    "for i, figure in enumerate(li_fig):\n",
    "    for trace in range(len(figure[\"data\"])):\n",
    "        z=figure[\"data\"][trace]\n",
    "\n",
    "         \n",
    "        fig.append_trace(z, row=i+1, col=1)\n",
    "        \n",
    "fig.update_layout(yaxis = dict(range=[-15, 20]))\n",
    "fig.update_layout(yaxis2 = dict(range=[-15, 20]))\n",
    "fig.update_layout(yaxis3 = dict(range=[-15, 20]))\n",
    "fig.update_layout(yaxis4 = dict(range=[-15, 20]))\n",
    "            \n",
    "    \n",
    "    \n",
    "    \n",
    "fig.add_hline(y=0, row=1, line_color=\"#000000\", line_width=0.5)     \n",
    "fig.add_hline(y=0, row=2, line_color=\"#000000\", line_width=0.5)   \n",
    "fig.add_hline(y=0, row=3, line_color=\"#000000\", line_width=0.5) \n",
    "fig.add_hline(y=0, row=4, line_color=\"#000000\", line_width=0.5) \n",
    "fig.show()"
   ]
  },
  {
   "cell_type": "code",
   "execution_count": 34,
   "metadata": {},
   "outputs": [
    {
     "data": {
      "image/png": "[encoded data removed]",
      "text/plain": [
       "<Figure size 720x720 with 3 Axes>"
      ]
     },
     "metadata": {
      "needs_background": "light"
     },
     "output_type": "display_data"
    }
   ],
   "source": [
    "\n",
    "time=pd.date_range('2017-01-01','2021-07-01' , freq='1M')-pd.offsets.MonthBegin(1)\n",
    "data=df_irm[\"coef_emploi_quelconque_t_plus_12\"]\n",
    "\n",
    "data.index=time\n",
    "\n",
    "result1 = seasonal_decompose(data, model='additive')\n",
    "\n",
    "data=df_irm[\"coef_emploi_quelconque_t_plus_6\"]\n",
    "\n",
    "data.index=time\n",
    "\n",
    "result2 = seasonal_decompose(data, model='additive')\n",
    "\n",
    "\n",
    "data=df_irm[\"coef_emploi_quelconque_t_plus_24\"]\n",
    "\n",
    "data.index=time\n",
    "\n",
    "result3 = seasonal_decompose(data, model='additive')\n",
    "\n",
    "fig, axs = plt.subplots(3,sharex=True, sharey=True)\n",
    "\n",
    "fig.set_figheight(10)\n",
    "fig.set_figwidth(10)\n",
    "\n",
    "axs[0].plot(result1.trend)\n",
    "axs[0].plot(result1.seasonal)\n",
    "axs[0].legend(loc='upper left')\n",
    "axs[0].set_title('6 months horizon')\n",
    "axs[0].axhline(y = 0, color = 'black', linestyle = '-')\n",
    "axs[1].plot(result2.trend)\n",
    "axs[1].plot(result2.seasonal)\n",
    "axs[1].set_title('12 months horizon')\n",
    "axs[1].axhline(y = 0, color = 'black', linestyle = '-')\n",
    "axs[2].plot(result3.trend)\n",
    "axs[2].plot(result3.seasonal)\n",
    "axs[2].axhline(y = 0, color = 'black', linestyle = '-')\n",
    "axs[2].set_title('24 months horizon')\n",
    "\n",
    "\n",
    "plt.savefig(\"C:/Users/dalil.youcefi/Desktop/time_ser_decomposition.png\")\n",
    "\n"
   ]
  }
 ],
 "metadata": {
  "kernelspec": {
   "display_name": "Python 3",
   "language": "python",
   "name": "python3"
  },
  "language_info": {
   "codemirror_mode": {
    "name": "ipython",
    "version": 3
   },
   "file_extension": ".py",
   "mimetype": "text/x-python",
   "name": "python",
   "nbconvert_exporter": "python",
   "pygments_lexer": "ipython3",
   "version": "3.7.0"
  }
 },
 "nbformat": 4,
 "nbformat_minor": 2
}
