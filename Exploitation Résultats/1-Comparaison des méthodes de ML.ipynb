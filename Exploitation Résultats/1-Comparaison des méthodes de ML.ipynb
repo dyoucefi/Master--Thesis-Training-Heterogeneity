{
 "cells": [
  {
   "cell_type": "code",
   "execution_count": 26,
   "metadata": {},
   "outputs": [],
   "source": [
    "# -*- coding: utf-8 -*-\n",
    "\"\"\"\n",
    "Created on Tue Jul 18 09:38:31 2023\n",
    "\n",
    "@author: dalil.youcefi\n",
    "\"\"\"\n",
    "\n",
    "import pandas as pd\n",
    "import numpy as np\n",
    "from sklearn.ensemble import RandomForestRegressor, RandomForestClassifier\n",
    "from sklearn.base import clone\n",
    "import joblib\n",
    "import pickle\n",
    "import patsy\n",
    "import doubleml as dml\n",
    "\n",
    "from statsmodels.tsa.seasonal import seasonal_decompose\n",
    "\n",
    "import matplotlib.pyplot as plt\n",
    "\n",
    "path=\"C:/Users/dalil.youcefi/Documents/Formation et retour à l'emploi/Données\"\n",
    "dates= pd.date_range('2017-01-01','2021-07-01' , freq='1M')-pd.offsets.MonthBegin(1)\n",
    "dates=[date_obj.strftime('%Y-%m-%d') for date_obj in dates]\n",
    "\n",
    "var_quel=[\"emploi_quelconque_t_plus_3\",\"emploi_quelconque_t_plus_6\",  \"emploi_quelconque_t_plus_12\" ,\"emploi_quelconque_t_plus_18\" ,\"emploi_quelconque_t_plus_24\",\"emploi_quelconque_t_plus_36\"]\n",
    "\n",
    "\n",
    "variables=[\"emploi_quelconque_t_plus_3\",\"emploi_quelconque_t_plus_6\",  \"emploi_quelconque_t_plus_12\" ,\"emploi_quelconque_t_plus_18\" ,\"emploi_quelconque_t_plus_24\",\"emploi_quelconque_t_plus_36\",\n",
    "            \n",
    "            \"emploi_durable_t_plus_3\",\"emploi_durable_t_plus_6\", \"emploi_durable_t_plus_12\" , \"emploi_durable_t_plus_18\" ,\"emploi_durable_t_plus_24\" ,\"emploi_durable_t_plus_36\"]\n",
    "\n",
    "\n",
    "df_cf=pd.read_csv(path+\"/Résultats/tab_toutes_form_cf.csv\")"
   ]
  },
  {
   "cell_type": "code",
   "execution_count": 2,
   "metadata": {},
   "outputs": [],
   "source": [
    "li_poids=[]\n",
    "for cohorte in dates:\n",
    "    df=pd.read_parquet(path+\"/Prepro/Toutes Form/prepro_data_\"+cohorte+\".parquet\",engine='pyarrow')\n",
    "    li_poids.append(df.shape[0])\n"
   ]
  },
  {
   "cell_type": "code",
   "execution_count": 3,
   "metadata": {},
   "outputs": [],
   "source": [
    "for var in var_quel:\n",
    "    \n",
    "    \n",
    "    df_cf[\"upp_\"+var]=df_cf[\"ate_\"+var]+1.96*df_cf[\"std_\"+var]\n",
    "    df_cf[\"low_\"+var]=df_cf[\"ate_\"+var]-1.96*df_cf[\"std_\"+var]\n",
    "    \n",
    "df_cf[\"poids\"]=li_poids"
   ]
  },
  {
   "cell_type": "code",
   "execution_count": 4,
   "metadata": {},
   "outputs": [],
   "source": [
    "li_poids=[1 for c in dates]"
   ]
  },
  {
   "cell_type": "code",
   "execution_count": 18,
   "metadata": {},
   "outputs": [],
   "source": [
    "\n",
    "\n",
    "\n",
    "dic_irm={}\n",
    "dic_plr={}\n",
    "\n",
    "\n",
    "\n",
    "\n",
    "dic_irm[\"cohorte\"]=dates\n",
    "dic_plr[\"cohorte\"]=dates\n",
    "dic_irm[\"poids\"]=li_poids\n",
    "dic_plr[\"poids\"]=li_poids\n",
    "df_cf[\"poids\"]=li_poids\n",
    "\n",
    "for var in var_quel:\n",
    "    irm_coef=[]\n",
    "    plr_coef=[]\n",
    "    irm_upp=[]\n",
    "    irm_low=[]\n",
    "    plr_upp=[]\n",
    "    plr_low=[]\n",
    "\n",
    "    \n",
    "        \n",
    "    \n",
    "    \n",
    "    for cohorte in dates:\n",
    "     \n",
    "      \n",
    "        \n",
    "        dml_irm_obj=joblib.load( path+\"/Résultats/Python/IRM/Toutes Form/dml_irm_\"+cohorte+\"_\"+var+\".joblib\")\n",
    "        irm_coef.append(dml_irm_obj.summary.coef)\n",
    "        irm_low.append(dml_irm_obj.confint()[\"2.5 %\"])\n",
    "        irm_upp.append(dml_irm_obj.confint()[\"97.5 %\"])\n",
    "        \n",
    "        \n",
    "        \n",
    "        dml_plr_obj=joblib.load( path+\"/Résultats/Python/PLR/Toutes Form/dml_PLR_\"+cohorte+\"_\"+var+\".joblib\")\n",
    "        plr_coef.append(dml_plr_obj.summary.coef)\n",
    "        plr_low.append(dml_plr_obj.confint()[\"2.5 %\"])\n",
    "        plr_upp.append(dml_plr_obj.confint()[\"97.5 %\"])\n",
    "   \n",
    "    dic_irm[\"coef_\"+var]=irm_coef\n",
    "    dic_irm[\"upp_\"+var]=irm_upp\n",
    "    dic_irm[\"low_\"+var]=irm_low\n",
    "    \n",
    "    \n",
    "    dic_plr[\"coef_\"+var]=plr_coef\n",
    "    dic_plr[\"upp_\"+var]=plr_upp\n",
    "    dic_plr[\"low_\"+var]=plr_low\n",
    "    \n",
    "\n",
    "\n",
    "\n",
    "\n",
    "   \n",
    "df_irm=pd.DataFrame.from_dict(dic_irm,orient=\"columns\")\n",
    "df_plr=pd.DataFrame.from_dict(dic_plr,orient=\"columns\")\n",
    "\n",
    "  \n",
    "\n",
    "var_float= list(df_plr.columns)\n",
    "var_float.remove(\"cohorte\")\n",
    "  \n",
    "df_irm[var_float]=df_irm[var_float].astype(float)\n",
    "df_plr[var_float]=df_plr[var_float].astype(float)\n",
    "\n",
    "\n",
    "\n",
    "\n"
   ]
  },
  {
   "cell_type": "code",
   "execution_count": 9,
   "metadata": {},
   "outputs": [],
   "source": [
    "\n",
    "\n",
    "\n",
    "\n",
    "dic_avg={}\n",
    "\n",
    "\n",
    "\n",
    "irm_coef=[]\n",
    "plr_coef=[]\n",
    "irm_upp=[]\n",
    "irm_low=[]\n",
    "plr_upp=[]\n",
    "plr_low=[]\n",
    "\n",
    "\n",
    "\n",
    "\n",
    "def weighted_average(dataframe, value, weight):\n",
    "    val = dataframe[value]\n",
    "    wt = dataframe[weight]\n",
    "    return (val * wt).sum() / wt.sum()\n",
    " \n",
    "\n",
    "\n",
    "dic_avg={}\n",
    "\n",
    "\n",
    "dic_avg[\"temps\"]=[\"3\",\"6\",\"12\",\"18\",\"24\",\"36\"]\n",
    "\n",
    "cf_coef=[]\n",
    "cf_upp=[]\n",
    "cf_low=[]\n",
    "\n",
    "\n",
    "\n",
    "for var in var_quel:\n",
    "    \n",
    "    cf_coef.append(weighted_average(df_cf,\"ate_\"+var,\"poids\"))\n",
    "\n",
    "    cf_upp.append(weighted_average(df_cf,\"upp_\"+var,\"poids\"))\n",
    "\n",
    "    \n",
    "    cf_low.append(weighted_average(df_cf,\"low_\"+var,\"poids\"))\n",
    "  \n",
    "    \n",
    "\n",
    "\n",
    "dic_avg[\"cf_coef\"]=cf_coef\n",
    "dic_avg[\"cf_upp\"]=cf_upp\n",
    "dic_avg[\"cf_low\"]=cf_low\n",
    "\n",
    "\n",
    "\n",
    "    \n",
    "\n",
    "\n",
    "for var in var_quel:\n",
    "    \n",
    "    irm_coef.append(weighted_average(df_irm,\"coef_\"+var,\"poids\"))\n",
    "    plr_coef.append(weighted_average(df_plr,\"coef_\"+var,\"poids\"))\n",
    "    \n",
    "    irm_upp.append(weighted_average(df_irm,\"upp_\"+var,\"poids\"))\n",
    "  \n",
    "    \n",
    "    irm_low.append(weighted_average(df_irm,\"low_\"+var,\"poids\"))\n",
    "    \n",
    "    plr_upp.append(weighted_average(df_plr,\"upp_\"+var,\"poids\"))\n",
    "  \n",
    "    \n",
    "    plr_low.append(weighted_average(df_plr,\"low_\"+var,\"poids\"))\n",
    "    \n",
    "\n",
    "    \n",
    "    \n",
    "\n",
    "\n",
    "dic_avg[\"irm_coef\"]=irm_coef\n",
    "dic_avg[\"irm_upp\"]=irm_upp\n",
    "dic_avg[\"irm_low\"]=irm_low\n",
    "\n",
    "\n",
    "\n",
    "\n",
    "dic_avg[\"plr_coef\"]=plr_coef\n",
    "dic_avg[\"plr_upp\"]=plr_upp\n",
    "dic_avg[\"plr_low\"]=plr_low\n",
    "    "
   ]
  },
  {
   "cell_type": "code",
   "execution_count": 10,
   "metadata": {},
   "outputs": [],
   "source": [
    "df_avg=pd.DataFrame.from_dict(dic_avg,orient=\"columns\")"
   ]
  },
  {
   "cell_type": "code",
   "execution_count": 11,
   "metadata": {},
   "outputs": [],
   "source": [
    "df_avg=df_avg*100"
   ]
  },
  {
   "cell_type": "code",
   "execution_count": 19,
   "metadata": {},
   "outputs": [],
   "source": [
    "df_avg[\"temps\"]=[\"3\",\"6\",\"12\",\"18\",\"24\",\"36\"]    "
   ]
  },
  {
   "cell_type": "code",
   "execution_count": 20,
   "metadata": {},
   "outputs": [
    {
     "data": {
      "text/html": [
       "<div>\n",
       "<style scoped>\n",
       "    .dataframe tbody tr th:only-of-type {\n",
       "        vertical-align: middle;\n",
       "    }\n",
       "\n",
       "    .dataframe tbody tr th {\n",
       "        vertical-align: top;\n",
       "    }\n",
       "\n",
       "    .dataframe thead th {\n",
       "        text-align: right;\n",
       "    }\n",
       "</style>\n",
       "<table border=\"1\" class=\"dataframe\">\n",
       "  <thead>\n",
       "    <tr style=\"text-align: right;\">\n",
       "      <th></th>\n",
       "      <th>temps</th>\n",
       "      <th>cf_coef</th>\n",
       "      <th>cf_upp</th>\n",
       "      <th>cf_low</th>\n",
       "      <th>irm_coef</th>\n",
       "      <th>irm_upp</th>\n",
       "      <th>irm_low</th>\n",
       "      <th>plr_coef</th>\n",
       "      <th>plr_upp</th>\n",
       "      <th>plr_low</th>\n",
       "    </tr>\n",
       "  </thead>\n",
       "  <tbody>\n",
       "    <tr>\n",
       "      <th>0</th>\n",
       "      <td>3</td>\n",
       "      <td>-0.196362</td>\n",
       "      <td>0.549159</td>\n",
       "      <td>-0.941882</td>\n",
       "      <td>-0.071658</td>\n",
       "      <td>0.450600</td>\n",
       "      <td>-0.593917</td>\n",
       "      <td>-0.174369</td>\n",
       "      <td>0.391478</td>\n",
       "      <td>-0.740216</td>\n",
       "    </tr>\n",
       "    <tr>\n",
       "      <th>1</th>\n",
       "      <td>6</td>\n",
       "      <td>4.404306</td>\n",
       "      <td>5.343894</td>\n",
       "      <td>3.464717</td>\n",
       "      <td>4.647702</td>\n",
       "      <td>5.305258</td>\n",
       "      <td>3.990147</td>\n",
       "      <td>4.507333</td>\n",
       "      <td>5.219210</td>\n",
       "      <td>3.795455</td>\n",
       "    </tr>\n",
       "    <tr>\n",
       "      <th>2</th>\n",
       "      <td>12</td>\n",
       "      <td>9.777048</td>\n",
       "      <td>10.837772</td>\n",
       "      <td>8.716323</td>\n",
       "      <td>10.178550</td>\n",
       "      <td>10.921665</td>\n",
       "      <td>9.435436</td>\n",
       "      <td>9.933583</td>\n",
       "      <td>10.737378</td>\n",
       "      <td>9.129789</td>\n",
       "    </tr>\n",
       "    <tr>\n",
       "      <th>3</th>\n",
       "      <td>18</td>\n",
       "      <td>12.340257</td>\n",
       "      <td>13.417547</td>\n",
       "      <td>11.262966</td>\n",
       "      <td>12.943647</td>\n",
       "      <td>13.699445</td>\n",
       "      <td>12.187850</td>\n",
       "      <td>12.641916</td>\n",
       "      <td>13.458743</td>\n",
       "      <td>11.825089</td>\n",
       "    </tr>\n",
       "    <tr>\n",
       "      <th>4</th>\n",
       "      <td>24</td>\n",
       "      <td>12.957769</td>\n",
       "      <td>14.025387</td>\n",
       "      <td>11.890151</td>\n",
       "      <td>13.698629</td>\n",
       "      <td>14.448647</td>\n",
       "      <td>12.948611</td>\n",
       "      <td>13.345651</td>\n",
       "      <td>14.155881</td>\n",
       "      <td>12.535421</td>\n",
       "    </tr>\n",
       "    <tr>\n",
       "      <th>5</th>\n",
       "      <td>36</td>\n",
       "      <td>13.006415</td>\n",
       "      <td>14.051913</td>\n",
       "      <td>11.960916</td>\n",
       "      <td>13.851886</td>\n",
       "      <td>14.587342</td>\n",
       "      <td>13.116430</td>\n",
       "      <td>13.452692</td>\n",
       "      <td>14.246564</td>\n",
       "      <td>12.658821</td>\n",
       "    </tr>\n",
       "  </tbody>\n",
       "</table>\n",
       "</div>"
      ],
      "text/plain": [
       "  temps    cf_coef     cf_upp     cf_low   irm_coef    irm_upp    irm_low  \\\n",
       "0     3  -0.196362   0.549159  -0.941882  -0.071658   0.450600  -0.593917   \n",
       "1     6   4.404306   5.343894   3.464717   4.647702   5.305258   3.990147   \n",
       "2    12   9.777048  10.837772   8.716323  10.178550  10.921665   9.435436   \n",
       "3    18  12.340257  13.417547  11.262966  12.943647  13.699445  12.187850   \n",
       "4    24  12.957769  14.025387  11.890151  13.698629  14.448647  12.948611   \n",
       "5    36  13.006415  14.051913  11.960916  13.851886  14.587342  13.116430   \n",
       "\n",
       "    plr_coef    plr_upp    plr_low  \n",
       "0  -0.174369   0.391478  -0.740216  \n",
       "1   4.507333   5.219210   3.795455  \n",
       "2   9.933583  10.737378   9.129789  \n",
       "3  12.641916  13.458743  11.825089  \n",
       "4  13.345651  14.155881  12.535421  \n",
       "5  13.452692  14.246564  12.658821  "
      ]
     },
     "execution_count": 20,
     "metadata": {},
     "output_type": "execute_result"
    }
   ],
   "source": [
    "df_avg"
   ]
  },
  {
   "cell_type": "code",
   "execution_count": 21,
   "metadata": {},
   "outputs": [
    {
     "data": {
      "application/vnd.plotly.v1+json": {
       "config": {
        "plotlyServerURL": "https://plot.ly"
       },
       "data": [
        {
         "hovertemplate": "variable=irm_coef<br>Months after entering into training=%{x}<br>value=%{y}<extra></extra>",
         "legendgroup": "irm_coef",
         "line": {
          "color": "#636efa",
          "dash": "solid"
         },
         "marker": {
          "symbol": "circle"
         },
         "mode": "markers+lines",
         "name": "IRM",
         "orientation": "v",
         "showlegend": true,
         "type": "scatter",
         "x": [
          "3",
          "6",
          "12",
          "18",
          "24",
          "36"
         ],
         "xaxis": "x",
         "y": [
          -0.07165830001194702,
          4.647702311300434,
          10.178550367231292,
          12.943647216491824,
          13.698629093997287,
          13.851886070598207
         ],
         "yaxis": "y"
        },
        {
         "hovertemplate": "variable=plr_coef<br>Months after entering into training=%{x}<br>value=%{y}<extra></extra>",
         "legendgroup": "plr_coef",
         "line": {
          "color": "#EF553B",
          "dash": "solid"
         },
         "marker": {
          "symbol": "circle"
         },
         "mode": "markers+lines",
         "name": "PLR",
         "orientation": "v",
         "showlegend": true,
         "type": "scatter",
         "x": [
          "3",
          "6",
          "12",
          "18",
          "24",
          "36"
         ],
         "xaxis": "x",
         "y": [
          -0.17436886159688897,
          4.5073325389445875,
          9.933583440592802,
          12.641915822814468,
          13.345651250813795,
          13.452692291947882
         ],
         "yaxis": "y"
        },
        {
         "hovertemplate": "variable=cf_coef<br>Months after entering into training=%{x}<br>value=%{y}<extra></extra>",
         "legendgroup": "cf_coef",
         "line": {
          "color": "#00cc96",
          "dash": "solid"
         },
         "marker": {
          "symbol": "circle"
         },
         "mode": "markers+lines",
         "name": "CF",
         "orientation": "v",
         "showlegend": true,
         "type": "scatter",
         "x": [
          "3",
          "6",
          "12",
          "18",
          "24",
          "36"
         ],
         "xaxis": "x",
         "y": [
          -0.19636150062665136,
          4.404305620836526,
          9.777047561192775,
          12.340256610258693,
          12.957768889986564,
          13.006414542314374
         ],
         "yaxis": "y"
        }
       ],
       "layout": {
        "legend": {
         "title": {
          "text": ""
         },
         "tracegroupgap": 0
        },
        "margin": {
         "t": 60
        },
        "shapes": [
         {
          "line": {
           "color": "black",
           "width": 1
          },
          "type": "line",
          "x0": 0,
          "x1": 1,
          "xref": "x domain",
          "y0": 0,
          "y1": 0,
          "yref": "y"
         }
        ],
        "template": {
         "data": {
          "bar": [
           {
            "error_x": {
             "color": "#2a3f5f"
            },
            "error_y": {
             "color": "#2a3f5f"
            },
            "marker": {
             "line": {
              "color": "#E5ECF6",
              "width": 0.5
             },
             "pattern": {
              "fillmode": "overlay",
              "size": 10,
              "solidity": 0.2
             }
            },
            "type": "bar"
           }
          ],
          "barpolar": [
           {
            "marker": {
             "line": {
              "color": "#E5ECF6",
              "width": 0.5
             },
             "pattern": {
              "fillmode": "overlay",
              "size": 10,
              "solidity": 0.2
             }
            },
            "type": "barpolar"
           }
          ],
          "carpet": [
           {
            "aaxis": {
             "endlinecolor": "#2a3f5f",
             "gridcolor": "white",
             "linecolor": "white",
             "minorgridcolor": "white",
             "startlinecolor": "#2a3f5f"
            },
            "baxis": {
             "endlinecolor": "#2a3f5f",
             "gridcolor": "white",
             "linecolor": "white",
             "minorgridcolor": "white",
             "startlinecolor": "#2a3f5f"
            },
            "type": "carpet"
           }
          ],
          "choropleth": [
           {
            "colorbar": {
             "outlinewidth": 0,
             "ticks": ""
            },
            "type": "choropleth"
           }
          ],
          "contour": [
           {
            "colorbar": {
             "outlinewidth": 0,
             "ticks": ""
            },
            "colorscale": [
             [
              0,
              "#0d0887"
             ],
             [
              0.1111111111111111,
              "#46039f"
             ],
             [
              0.2222222222222222,
              "#7201a8"
             ],
             [
              0.3333333333333333,
              "#9c179e"
             ],
             [
              0.4444444444444444,
              "#bd3786"
             ],
             [
              0.5555555555555556,
              "#d8576b"
             ],
             [
              0.6666666666666666,
              "#ed7953"
             ],
             [
              0.7777777777777778,
              "#fb9f3a"
             ],
             [
              0.8888888888888888,
              "#fdca26"
             ],
             [
              1,
              "#f0f921"
             ]
            ],
            "type": "contour"
           }
          ],
          "contourcarpet": [
           {
            "colorbar": {
             "outlinewidth": 0,
             "ticks": ""
            },
            "type": "contourcarpet"
           }
          ],
          "heatmap": [
           {
            "colorbar": {
             "outlinewidth": 0,
             "ticks": ""
            },
            "colorscale": [
             [
              0,
              "#0d0887"
             ],
             [
              0.1111111111111111,
              "#46039f"
             ],
             [
              0.2222222222222222,
              "#7201a8"
             ],
             [
              0.3333333333333333,
              "#9c179e"
             ],
             [
              0.4444444444444444,
              "#bd3786"
             ],
             [
              0.5555555555555556,
              "#d8576b"
             ],
             [
              0.6666666666666666,
              "#ed7953"
             ],
             [
              0.7777777777777778,
              "#fb9f3a"
             ],
             [
              0.8888888888888888,
              "#fdca26"
             ],
             [
              1,
              "#f0f921"
             ]
            ],
            "type": "heatmap"
           }
          ],
          "heatmapgl": [
           {
            "colorbar": {
             "outlinewidth": 0,
             "ticks": ""
            },
            "colorscale": [
             [
              0,
              "#0d0887"
             ],
             [
              0.1111111111111111,
              "#46039f"
             ],
             [
              0.2222222222222222,
              "#7201a8"
             ],
             [
              0.3333333333333333,
              "#9c179e"
             ],
             [
              0.4444444444444444,
              "#bd3786"
             ],
             [
              0.5555555555555556,
              "#d8576b"
             ],
             [
              0.6666666666666666,
              "#ed7953"
             ],
             [
              0.7777777777777778,
              "#fb9f3a"
             ],
             [
              0.8888888888888888,
              "#fdca26"
             ],
             [
              1,
              "#f0f921"
             ]
            ],
            "type": "heatmapgl"
           }
          ],
          "histogram": [
           {
            "marker": {
             "pattern": {
              "fillmode": "overlay",
              "size": 10,
              "solidity": 0.2
             }
            },
            "type": "histogram"
           }
          ],
          "histogram2d": [
           {
            "colorbar": {
             "outlinewidth": 0,
             "ticks": ""
            },
            "colorscale": [
             [
              0,
              "#0d0887"
             ],
             [
              0.1111111111111111,
              "#46039f"
             ],
             [
              0.2222222222222222,
              "#7201a8"
             ],
             [
              0.3333333333333333,
              "#9c179e"
             ],
             [
              0.4444444444444444,
              "#bd3786"
             ],
             [
              0.5555555555555556,
              "#d8576b"
             ],
             [
              0.6666666666666666,
              "#ed7953"
             ],
             [
              0.7777777777777778,
              "#fb9f3a"
             ],
             [
              0.8888888888888888,
              "#fdca26"
             ],
             [
              1,
              "#f0f921"
             ]
            ],
            "type": "histogram2d"
           }
          ],
          "histogram2dcontour": [
           {
            "colorbar": {
             "outlinewidth": 0,
             "ticks": ""
            },
            "colorscale": [
             [
              0,
              "#0d0887"
             ],
             [
              0.1111111111111111,
              "#46039f"
             ],
             [
              0.2222222222222222,
              "#7201a8"
             ],
             [
              0.3333333333333333,
              "#9c179e"
             ],
             [
              0.4444444444444444,
              "#bd3786"
             ],
             [
              0.5555555555555556,
              "#d8576b"
             ],
             [
              0.6666666666666666,
              "#ed7953"
             ],
             [
              0.7777777777777778,
              "#fb9f3a"
             ],
             [
              0.8888888888888888,
              "#fdca26"
             ],
             [
              1,
              "#f0f921"
             ]
            ],
            "type": "histogram2dcontour"
           }
          ],
          "mesh3d": [
           {
            "colorbar": {
             "outlinewidth": 0,
             "ticks": ""
            },
            "type": "mesh3d"
           }
          ],
          "parcoords": [
           {
            "line": {
             "colorbar": {
              "outlinewidth": 0,
              "ticks": ""
             }
            },
            "type": "parcoords"
           }
          ],
          "pie": [
           {
            "automargin": true,
            "type": "pie"
           }
          ],
          "scatter": [
           {
            "fillpattern": {
             "fillmode": "overlay",
             "size": 10,
             "solidity": 0.2
            },
            "type": "scatter"
           }
          ],
          "scatter3d": [
           {
            "line": {
             "colorbar": {
              "outlinewidth": 0,
              "ticks": ""
             }
            },
            "marker": {
             "colorbar": {
              "outlinewidth": 0,
              "ticks": ""
             }
            },
            "type": "scatter3d"
           }
          ],
          "scattercarpet": [
           {
            "marker": {
             "colorbar": {
              "outlinewidth": 0,
              "ticks": ""
             }
            },
            "type": "scattercarpet"
           }
          ],
          "scattergeo": [
           {
            "marker": {
             "colorbar": {
              "outlinewidth": 0,
              "ticks": ""
             }
            },
            "type": "scattergeo"
           }
          ],
          "scattergl": [
           {
            "marker": {
             "colorbar": {
              "outlinewidth": 0,
              "ticks": ""
             }
            },
            "type": "scattergl"
           }
          ],
          "scattermapbox": [
           {
            "marker": {
             "colorbar": {
              "outlinewidth": 0,
              "ticks": ""
             }
            },
            "type": "scattermapbox"
           }
          ],
          "scatterpolar": [
           {
            "marker": {
             "colorbar": {
              "outlinewidth": 0,
              "ticks": ""
             }
            },
            "type": "scatterpolar"
           }
          ],
          "scatterpolargl": [
           {
            "marker": {
             "colorbar": {
              "outlinewidth": 0,
              "ticks": ""
             }
            },
            "type": "scatterpolargl"
           }
          ],
          "scatterternary": [
           {
            "marker": {
             "colorbar": {
              "outlinewidth": 0,
              "ticks": ""
             }
            },
            "type": "scatterternary"
           }
          ],
          "surface": [
           {
            "colorbar": {
             "outlinewidth": 0,
             "ticks": ""
            },
            "colorscale": [
             [
              0,
              "#0d0887"
             ],
             [
              0.1111111111111111,
              "#46039f"
             ],
             [
              0.2222222222222222,
              "#7201a8"
             ],
             [
              0.3333333333333333,
              "#9c179e"
             ],
             [
              0.4444444444444444,
              "#bd3786"
             ],
             [
              0.5555555555555556,
              "#d8576b"
             ],
             [
              0.6666666666666666,
              "#ed7953"
             ],
             [
              0.7777777777777778,
              "#fb9f3a"
             ],
             [
              0.8888888888888888,
              "#fdca26"
             ],
             [
              1,
              "#f0f921"
             ]
            ],
            "type": "surface"
           }
          ],
          "table": [
           {
            "cells": {
             "fill": {
              "color": "#EBF0F8"
             },
             "line": {
              "color": "white"
             }
            },
            "header": {
             "fill": {
              "color": "#C8D4E3"
             },
             "line": {
              "color": "white"
             }
            },
            "type": "table"
           }
          ]
         },
         "layout": {
          "annotationdefaults": {
           "arrowcolor": "#2a3f5f",
           "arrowhead": 0,
           "arrowwidth": 1
          },
          "autotypenumbers": "strict",
          "coloraxis": {
           "colorbar": {
            "outlinewidth": 0,
            "ticks": ""
           }
          },
          "colorscale": {
           "diverging": [
            [
             0,
             "#8e0152"
            ],
            [
             0.1,
             "#c51b7d"
            ],
            [
             0.2,
             "#de77ae"
            ],
            [
             0.3,
             "#f1b6da"
            ],
            [
             0.4,
             "#fde0ef"
            ],
            [
             0.5,
             "#f7f7f7"
            ],
            [
             0.6,
             "#e6f5d0"
            ],
            [
             0.7,
             "#b8e186"
            ],
            [
             0.8,
             "#7fbc41"
            ],
            [
             0.9,
             "#4d9221"
            ],
            [
             1,
             "#276419"
            ]
           ],
           "sequential": [
            [
             0,
             "#0d0887"
            ],
            [
             0.1111111111111111,
             "#46039f"
            ],
            [
             0.2222222222222222,
             "#7201a8"
            ],
            [
             0.3333333333333333,
             "#9c179e"
            ],
            [
             0.4444444444444444,
             "#bd3786"
            ],
            [
             0.5555555555555556,
             "#d8576b"
            ],
            [
             0.6666666666666666,
             "#ed7953"
            ],
            [
             0.7777777777777778,
             "#fb9f3a"
            ],
            [
             0.8888888888888888,
             "#fdca26"
            ],
            [
             1,
             "#f0f921"
            ]
           ],
           "sequentialminus": [
            [
             0,
             "#0d0887"
            ],
            [
             0.1111111111111111,
             "#46039f"
            ],
            [
             0.2222222222222222,
             "#7201a8"
            ],
            [
             0.3333333333333333,
             "#9c179e"
            ],
            [
             0.4444444444444444,
             "#bd3786"
            ],
            [
             0.5555555555555556,
             "#d8576b"
            ],
            [
             0.6666666666666666,
             "#ed7953"
            ],
            [
             0.7777777777777778,
             "#fb9f3a"
            ],
            [
             0.8888888888888888,
             "#fdca26"
            ],
            [
             1,
             "#f0f921"
            ]
           ]
          },
          "colorway": [
           "#636efa",
           "#EF553B",
           "#00cc96",
           "#ab63fa",
           "#FFA15A",
           "#19d3f3",
           "#FF6692",
           "#B6E880",
           "#FF97FF",
           "#FECB52"
          ],
          "font": {
           "color": "#2a3f5f"
          },
          "geo": {
           "bgcolor": "white",
           "lakecolor": "white",
           "landcolor": "#E5ECF6",
           "showlakes": true,
           "showland": true,
           "subunitcolor": "white"
          },
          "hoverlabel": {
           "align": "left"
          },
          "hovermode": "closest",
          "mapbox": {
           "style": "light"
          },
          "paper_bgcolor": "white",
          "plot_bgcolor": "#E5ECF6",
          "polar": {
           "angularaxis": {
            "gridcolor": "white",
            "linecolor": "white",
            "ticks": ""
           },
           "bgcolor": "#E5ECF6",
           "radialaxis": {
            "gridcolor": "white",
            "linecolor": "white",
            "ticks": ""
           }
          },
          "scene": {
           "xaxis": {
            "backgroundcolor": "#E5ECF6",
            "gridcolor": "white",
            "gridwidth": 2,
            "linecolor": "white",
            "showbackground": true,
            "ticks": "",
            "zerolinecolor": "white"
           },
           "yaxis": {
            "backgroundcolor": "#E5ECF6",
            "gridcolor": "white",
            "gridwidth": 2,
            "linecolor": "white",
            "showbackground": true,
            "ticks": "",
            "zerolinecolor": "white"
           },
           "zaxis": {
            "backgroundcolor": "#E5ECF6",
            "gridcolor": "white",
            "gridwidth": 2,
            "linecolor": "white",
            "showbackground": true,
            "ticks": "",
            "zerolinecolor": "white"
           }
          },
          "shapedefaults": {
           "line": {
            "color": "#2a3f5f"
           }
          },
          "ternary": {
           "aaxis": {
            "gridcolor": "white",
            "linecolor": "white",
            "ticks": ""
           },
           "baxis": {
            "gridcolor": "white",
            "linecolor": "white",
            "ticks": ""
           },
           "bgcolor": "#E5ECF6",
           "caxis": {
            "gridcolor": "white",
            "linecolor": "white",
            "ticks": ""
           }
          },
          "title": {
           "x": 0.05
          },
          "xaxis": {
           "automargin": true,
           "gridcolor": "white",
           "linecolor": "white",
           "ticks": "",
           "title": {
            "standoff": 15
           },
           "zerolinecolor": "white",
           "zerolinewidth": 2
          },
          "yaxis": {
           "automargin": true,
           "gridcolor": "white",
           "linecolor": "white",
           "ticks": "",
           "title": {
            "standoff": 15
           },
           "zerolinecolor": "white",
           "zerolinewidth": 2
          }
         }
        },
        "xaxis": {
         "anchor": "y",
         "domain": [
          0,
          1
         ],
         "title": {
          "text": "Months after entering into training"
         }
        },
        "yaxis": {
         "anchor": "x",
         "domain": [
          0,
          1
         ],
         "title": {
          "text": "value"
         }
        }
       }
      },
      "text/html": [
       "<div>                            <div id=\"6353e282-8bdb-4374-85a8-f6dd03cff338\" class=\"plotly-graph-div\" style=\"height:525px; width:100%;\"></div>            <script type=\"text/javascript\">                require([\"plotly\"], function(Plotly) {                    window.PLOTLYENV=window.PLOTLYENV || {};                                    if (document.getElementById(\"6353e282-8bdb-4374-85a8-f6dd03cff338\")) {                    Plotly.newPlot(                        \"6353e282-8bdb-4374-85a8-f6dd03cff338\",                        [{\"hovertemplate\":\"variable=irm_coef\\u003cbr\\u003eMonths after entering into training=%{x}\\u003cbr\\u003evalue=%{y}\\u003cextra\\u003e\\u003c\\u002fextra\\u003e\",\"legendgroup\":\"irm_coef\",\"line\":{\"color\":\"#636efa\",\"dash\":\"solid\"},\"marker\":{\"symbol\":\"circle\"},\"mode\":\"markers+lines\",\"name\":\"IRM\",\"orientation\":\"v\",\"showlegend\":true,\"x\":[\"3\",\"6\",\"12\",\"18\",\"24\",\"36\"],\"xaxis\":\"x\",\"y\":[-0.07165830001194702,4.647702311300434,10.178550367231292,12.943647216491824,13.698629093997287,13.851886070598207],\"yaxis\":\"y\",\"type\":\"scatter\"},{\"hovertemplate\":\"variable=plr_coef\\u003cbr\\u003eMonths after entering into training=%{x}\\u003cbr\\u003evalue=%{y}\\u003cextra\\u003e\\u003c\\u002fextra\\u003e\",\"legendgroup\":\"plr_coef\",\"line\":{\"color\":\"#EF553B\",\"dash\":\"solid\"},\"marker\":{\"symbol\":\"circle\"},\"mode\":\"markers+lines\",\"name\":\"PLR\",\"orientation\":\"v\",\"showlegend\":true,\"x\":[\"3\",\"6\",\"12\",\"18\",\"24\",\"36\"],\"xaxis\":\"x\",\"y\":[-0.17436886159688897,4.5073325389445875,9.933583440592802,12.641915822814468,13.345651250813795,13.452692291947882],\"yaxis\":\"y\",\"type\":\"scatter\"},{\"hovertemplate\":\"variable=cf_coef\\u003cbr\\u003eMonths after entering into training=%{x}\\u003cbr\\u003evalue=%{y}\\u003cextra\\u003e\\u003c\\u002fextra\\u003e\",\"legendgroup\":\"cf_coef\",\"line\":{\"color\":\"#00cc96\",\"dash\":\"solid\"},\"marker\":{\"symbol\":\"circle\"},\"mode\":\"markers+lines\",\"name\":\"CF\",\"orientation\":\"v\",\"showlegend\":true,\"x\":[\"3\",\"6\",\"12\",\"18\",\"24\",\"36\"],\"xaxis\":\"x\",\"y\":[-0.19636150062665136,4.404305620836526,9.777047561192775,12.340256610258693,12.957768889986564,13.006414542314374],\"yaxis\":\"y\",\"type\":\"scatter\"}],                        {\"template\":{\"data\":{\"histogram2dcontour\":[{\"type\":\"histogram2dcontour\",\"colorbar\":{\"outlinewidth\":0,\"ticks\":\"\"},\"colorscale\":[[0.0,\"#0d0887\"],[0.1111111111111111,\"#46039f\"],[0.2222222222222222,\"#7201a8\"],[0.3333333333333333,\"#9c179e\"],[0.4444444444444444,\"#bd3786\"],[0.5555555555555556,\"#d8576b\"],[0.6666666666666666,\"#ed7953\"],[0.7777777777777778,\"#fb9f3a\"],[0.8888888888888888,\"#fdca26\"],[1.0,\"#f0f921\"]]}],\"choropleth\":[{\"type\":\"choropleth\",\"colorbar\":{\"outlinewidth\":0,\"ticks\":\"\"}}],\"histogram2d\":[{\"type\":\"histogram2d\",\"colorbar\":{\"outlinewidth\":0,\"ticks\":\"\"},\"colorscale\":[[0.0,\"#0d0887\"],[0.1111111111111111,\"#46039f\"],[0.2222222222222222,\"#7201a8\"],[0.3333333333333333,\"#9c179e\"],[0.4444444444444444,\"#bd3786\"],[0.5555555555555556,\"#d8576b\"],[0.6666666666666666,\"#ed7953\"],[0.7777777777777778,\"#fb9f3a\"],[0.8888888888888888,\"#fdca26\"],[1.0,\"#f0f921\"]]}],\"heatmap\":[{\"type\":\"heatmap\",\"colorbar\":{\"outlinewidth\":0,\"ticks\":\"\"},\"colorscale\":[[0.0,\"#0d0887\"],[0.1111111111111111,\"#46039f\"],[0.2222222222222222,\"#7201a8\"],[0.3333333333333333,\"#9c179e\"],[0.4444444444444444,\"#bd3786\"],[0.5555555555555556,\"#d8576b\"],[0.6666666666666666,\"#ed7953\"],[0.7777777777777778,\"#fb9f3a\"],[0.8888888888888888,\"#fdca26\"],[1.0,\"#f0f921\"]]}],\"heatmapgl\":[{\"type\":\"heatmapgl\",\"colorbar\":{\"outlinewidth\":0,\"ticks\":\"\"},\"colorscale\":[[0.0,\"#0d0887\"],[0.1111111111111111,\"#46039f\"],[0.2222222222222222,\"#7201a8\"],[0.3333333333333333,\"#9c179e\"],[0.4444444444444444,\"#bd3786\"],[0.5555555555555556,\"#d8576b\"],[0.6666666666666666,\"#ed7953\"],[0.7777777777777778,\"#fb9f3a\"],[0.8888888888888888,\"#fdca26\"],[1.0,\"#f0f921\"]]}],\"contourcarpet\":[{\"type\":\"contourcarpet\",\"colorbar\":{\"outlinewidth\":0,\"ticks\":\"\"}}],\"contour\":[{\"type\":\"contour\",\"colorbar\":{\"outlinewidth\":0,\"ticks\":\"\"},\"colorscale\":[[0.0,\"#0d0887\"],[0.1111111111111111,\"#46039f\"],[0.2222222222222222,\"#7201a8\"],[0.3333333333333333,\"#9c179e\"],[0.4444444444444444,\"#bd3786\"],[0.5555555555555556,\"#d8576b\"],[0.6666666666666666,\"#ed7953\"],[0.7777777777777778,\"#fb9f3a\"],[0.8888888888888888,\"#fdca26\"],[1.0,\"#f0f921\"]]}],\"surface\":[{\"type\":\"surface\",\"colorbar\":{\"outlinewidth\":0,\"ticks\":\"\"},\"colorscale\":[[0.0,\"#0d0887\"],[0.1111111111111111,\"#46039f\"],[0.2222222222222222,\"#7201a8\"],[0.3333333333333333,\"#9c179e\"],[0.4444444444444444,\"#bd3786\"],[0.5555555555555556,\"#d8576b\"],[0.6666666666666666,\"#ed7953\"],[0.7777777777777778,\"#fb9f3a\"],[0.8888888888888888,\"#fdca26\"],[1.0,\"#f0f921\"]]}],\"mesh3d\":[{\"type\":\"mesh3d\",\"colorbar\":{\"outlinewidth\":0,\"ticks\":\"\"}}],\"scatter\":[{\"fillpattern\":{\"fillmode\":\"overlay\",\"size\":10,\"solidity\":0.2},\"type\":\"scatter\"}],\"parcoords\":[{\"type\":\"parcoords\",\"line\":{\"colorbar\":{\"outlinewidth\":0,\"ticks\":\"\"}}}],\"scatterpolargl\":[{\"type\":\"scatterpolargl\",\"marker\":{\"colorbar\":{\"outlinewidth\":0,\"ticks\":\"\"}}}],\"bar\":[{\"error_x\":{\"color\":\"#2a3f5f\"},\"error_y\":{\"color\":\"#2a3f5f\"},\"marker\":{\"line\":{\"color\":\"#E5ECF6\",\"width\":0.5},\"pattern\":{\"fillmode\":\"overlay\",\"size\":10,\"solidity\":0.2}},\"type\":\"bar\"}],\"scattergeo\":[{\"type\":\"scattergeo\",\"marker\":{\"colorbar\":{\"outlinewidth\":0,\"ticks\":\"\"}}}],\"scatterpolar\":[{\"type\":\"scatterpolar\",\"marker\":{\"colorbar\":{\"outlinewidth\":0,\"ticks\":\"\"}}}],\"histogram\":[{\"marker\":{\"pattern\":{\"fillmode\":\"overlay\",\"size\":10,\"solidity\":0.2}},\"type\":\"histogram\"}],\"scattergl\":[{\"type\":\"scattergl\",\"marker\":{\"colorbar\":{\"outlinewidth\":0,\"ticks\":\"\"}}}],\"scatter3d\":[{\"type\":\"scatter3d\",\"line\":{\"colorbar\":{\"outlinewidth\":0,\"ticks\":\"\"}},\"marker\":{\"colorbar\":{\"outlinewidth\":0,\"ticks\":\"\"}}}],\"scattermapbox\":[{\"type\":\"scattermapbox\",\"marker\":{\"colorbar\":{\"outlinewidth\":0,\"ticks\":\"\"}}}],\"scatterternary\":[{\"type\":\"scatterternary\",\"marker\":{\"colorbar\":{\"outlinewidth\":0,\"ticks\":\"\"}}}],\"scattercarpet\":[{\"type\":\"scattercarpet\",\"marker\":{\"colorbar\":{\"outlinewidth\":0,\"ticks\":\"\"}}}],\"carpet\":[{\"aaxis\":{\"endlinecolor\":\"#2a3f5f\",\"gridcolor\":\"white\",\"linecolor\":\"white\",\"minorgridcolor\":\"white\",\"startlinecolor\":\"#2a3f5f\"},\"baxis\":{\"endlinecolor\":\"#2a3f5f\",\"gridcolor\":\"white\",\"linecolor\":\"white\",\"minorgridcolor\":\"white\",\"startlinecolor\":\"#2a3f5f\"},\"type\":\"carpet\"}],\"table\":[{\"cells\":{\"fill\":{\"color\":\"#EBF0F8\"},\"line\":{\"color\":\"white\"}},\"header\":{\"fill\":{\"color\":\"#C8D4E3\"},\"line\":{\"color\":\"white\"}},\"type\":\"table\"}],\"barpolar\":[{\"marker\":{\"line\":{\"color\":\"#E5ECF6\",\"width\":0.5},\"pattern\":{\"fillmode\":\"overlay\",\"size\":10,\"solidity\":0.2}},\"type\":\"barpolar\"}],\"pie\":[{\"automargin\":true,\"type\":\"pie\"}]},\"layout\":{\"autotypenumbers\":\"strict\",\"colorway\":[\"#636efa\",\"#EF553B\",\"#00cc96\",\"#ab63fa\",\"#FFA15A\",\"#19d3f3\",\"#FF6692\",\"#B6E880\",\"#FF97FF\",\"#FECB52\"],\"font\":{\"color\":\"#2a3f5f\"},\"hovermode\":\"closest\",\"hoverlabel\":{\"align\":\"left\"},\"paper_bgcolor\":\"white\",\"plot_bgcolor\":\"#E5ECF6\",\"polar\":{\"bgcolor\":\"#E5ECF6\",\"angularaxis\":{\"gridcolor\":\"white\",\"linecolor\":\"white\",\"ticks\":\"\"},\"radialaxis\":{\"gridcolor\":\"white\",\"linecolor\":\"white\",\"ticks\":\"\"}},\"ternary\":{\"bgcolor\":\"#E5ECF6\",\"aaxis\":{\"gridcolor\":\"white\",\"linecolor\":\"white\",\"ticks\":\"\"},\"baxis\":{\"gridcolor\":\"white\",\"linecolor\":\"white\",\"ticks\":\"\"},\"caxis\":{\"gridcolor\":\"white\",\"linecolor\":\"white\",\"ticks\":\"\"}},\"coloraxis\":{\"colorbar\":{\"outlinewidth\":0,\"ticks\":\"\"}},\"colorscale\":{\"sequential\":[[0.0,\"#0d0887\"],[0.1111111111111111,\"#46039f\"],[0.2222222222222222,\"#7201a8\"],[0.3333333333333333,\"#9c179e\"],[0.4444444444444444,\"#bd3786\"],[0.5555555555555556,\"#d8576b\"],[0.6666666666666666,\"#ed7953\"],[0.7777777777777778,\"#fb9f3a\"],[0.8888888888888888,\"#fdca26\"],[1.0,\"#f0f921\"]],\"sequentialminus\":[[0.0,\"#0d0887\"],[0.1111111111111111,\"#46039f\"],[0.2222222222222222,\"#7201a8\"],[0.3333333333333333,\"#9c179e\"],[0.4444444444444444,\"#bd3786\"],[0.5555555555555556,\"#d8576b\"],[0.6666666666666666,\"#ed7953\"],[0.7777777777777778,\"#fb9f3a\"],[0.8888888888888888,\"#fdca26\"],[1.0,\"#f0f921\"]],\"diverging\":[[0,\"#8e0152\"],[0.1,\"#c51b7d\"],[0.2,\"#de77ae\"],[0.3,\"#f1b6da\"],[0.4,\"#fde0ef\"],[0.5,\"#f7f7f7\"],[0.6,\"#e6f5d0\"],[0.7,\"#b8e186\"],[0.8,\"#7fbc41\"],[0.9,\"#4d9221\"],[1,\"#276419\"]]},\"xaxis\":{\"gridcolor\":\"white\",\"linecolor\":\"white\",\"ticks\":\"\",\"title\":{\"standoff\":15},\"zerolinecolor\":\"white\",\"automargin\":true,\"zerolinewidth\":2},\"yaxis\":{\"gridcolor\":\"white\",\"linecolor\":\"white\",\"ticks\":\"\",\"title\":{\"standoff\":15},\"zerolinecolor\":\"white\",\"automargin\":true,\"zerolinewidth\":2},\"scene\":{\"xaxis\":{\"backgroundcolor\":\"#E5ECF6\",\"gridcolor\":\"white\",\"linecolor\":\"white\",\"showbackground\":true,\"ticks\":\"\",\"zerolinecolor\":\"white\",\"gridwidth\":2},\"yaxis\":{\"backgroundcolor\":\"#E5ECF6\",\"gridcolor\":\"white\",\"linecolor\":\"white\",\"showbackground\":true,\"ticks\":\"\",\"zerolinecolor\":\"white\",\"gridwidth\":2},\"zaxis\":{\"backgroundcolor\":\"#E5ECF6\",\"gridcolor\":\"white\",\"linecolor\":\"white\",\"showbackground\":true,\"ticks\":\"\",\"zerolinecolor\":\"white\",\"gridwidth\":2}},\"shapedefaults\":{\"line\":{\"color\":\"#2a3f5f\"}},\"annotationdefaults\":{\"arrowcolor\":\"#2a3f5f\",\"arrowhead\":0,\"arrowwidth\":1},\"geo\":{\"bgcolor\":\"white\",\"landcolor\":\"#E5ECF6\",\"subunitcolor\":\"white\",\"showland\":true,\"showlakes\":true,\"lakecolor\":\"white\"},\"title\":{\"x\":0.05},\"mapbox\":{\"style\":\"light\"}}},\"xaxis\":{\"anchor\":\"y\",\"domain\":[0.0,1.0],\"title\":{\"text\":\"Months after entering into training\"}},\"yaxis\":{\"anchor\":\"x\",\"domain\":[0.0,1.0],\"title\":{\"text\":\"value\"}},\"legend\":{\"title\":{\"text\":\"\"},\"tracegroupgap\":0},\"margin\":{\"t\":60},\"shapes\":[{\"line\":{\"color\":\"black\",\"width\":1},\"type\":\"line\",\"x0\":0,\"x1\":1,\"xref\":\"x domain\",\"y0\":0,\"y1\":0,\"yref\":\"y\"}]},                        {\"responsive\": true}                    ).then(function(){\n",
       "                            \n",
       "var gd = document.getElementById('6353e282-8bdb-4374-85a8-f6dd03cff338');\n",
       "var x = new MutationObserver(function (mutations, observer) {{\n",
       "        var display = window.getComputedStyle(gd).display;\n",
       "        if (!display || display === 'none') {{\n",
       "            console.log([gd, 'removed!']);\n",
       "            Plotly.purge(gd);\n",
       "            observer.disconnect();\n",
       "        }}\n",
       "}});\n",
       "\n",
       "// Listen for the removal of the full notebook cells\n",
       "var notebookContainer = gd.closest('#notebook-container');\n",
       "if (notebookContainer) {{\n",
       "    x.observe(notebookContainer, {childList: true});\n",
       "}}\n",
       "\n",
       "// Listen for the clearing of the current output cell\n",
       "var outputEl = gd.closest('.output');\n",
       "if (outputEl) {{\n",
       "    x.observe(outputEl, {childList: true});\n",
       "}}\n",
       "\n",
       "                        })                };                });            </script>        </div>"
      ]
     },
     "metadata": {},
     "output_type": "display_data"
    }
   ],
   "source": [
    "import plotly.express as px\n",
    "newnames={ \"irm_coef\": \"IRM\",\n",
    "                     \"plr_coef\": \"PLR\",\n",
    "                     \"cf_coef\": \"CF\"}\n",
    "\n",
    "fig = px.line(df_avg, x='temps', y=['irm_coef','plr_coef','cf_coef'],markers=True, labels={\n",
    "                  \n",
    "                    \"temps\":\"Months after entering into training\"\n",
    "                 })\n",
    "fig.add_hline(y=0, line_width=1, line_color=\"black\")\n",
    "\n",
    "fig.for_each_trace(lambda t: t.update(name = newnames[t.name]))\n",
    "fig.update_layout(legend={'title_text':''})\n",
    "# Display the plot\n",
    "fig.show()\n",
    "    \n",
    "    "
   ]
  },
  {
   "cell_type": "code",
   "execution_count": 24,
   "metadata": {},
   "outputs": [
    {
     "data": {
      "image/png": "[encoded data removed]",
      "text/plain": [
       "<Figure size 720x540 with 1 Axes>"
      ]
     },
     "metadata": {
      "needs_background": "light"
     },
     "output_type": "display_data"
    }
   ],
   "source": [
    "\n",
    "\n",
    "\n",
    "from matplotlib.transforms import Affine2D\n",
    "fig, ax = plt.subplots()\n",
    "\n",
    "plt.rcParams['figure.figsize'] = 10., 7.5\n",
    "\n",
    "trans1 = Affine2D().translate(-0.1, 0.0) + ax.transData\n",
    "trans2 = Affine2D().translate(+0., 0.0) + ax.transData\n",
    "trans3 = Affine2D().translate(+0.1, 0.0) + ax.transData\n",
    "\n",
    "errors = np.full((2, df_avg.shape[0]), np.nan)\n",
    "errors[0, :] = df_avg[\"irm_coef\"] - df_avg[\"irm_low\"]\n",
    "errors[1, :] =  df_avg[\"irm_upp\"]- df_avg[\"irm_coef\"]\n",
    "\n",
    "plt.errorbar(df_avg[\"temps\"],df_avg[\"irm_coef\"], fmt='o', yerr=errors, label='IRM ',transform=trans1)\n",
    "\n",
    "\n",
    "\n",
    "errors = np.full((2, df_avg.shape[0]), np.nan)\n",
    "errors[0, :] = df_avg[\"plr_coef\"] - df_avg[\"plr_low\"]\n",
    "errors[1, :] =  df_avg[\"plr_upp\"]- df_avg[\"plr_coef\"]\n",
    "\n",
    "plt.errorbar(df_avg[\"temps\"],df_avg[\"plr_coef\"], fmt='o', yerr=errors, label='PLR ',transform=trans2)\n",
    "\n",
    "\n",
    "errors = np.full((2, df_avg.shape[0]), np.nan)\n",
    "errors[0, :] = df_avg[\"cf_coef\"] - df_avg[\"cf_low\"]\n",
    "errors[1, :] =  df_avg[\"cf_upp\"]- df_avg[\"cf_coef\"]\n",
    "\n",
    "plt.errorbar(df_avg[\"temps\"],df_avg[\"cf_coef\"], fmt='o', yerr=errors, label='CF',transform=trans3)\n",
    "\n",
    "plt.axhline(y = 0., color = 'black', linestyle = '-')\n",
    "\n",
    "\n",
    "\n",
    "plt.xlabel('Horizon after entering in training')\n",
    "plt.legend()\n",
    "plt.ylabel('Mean ATE (in p.p.) and 95%-CI')\n",
    "\n",
    "plt.savefig(path+\"/ate_all_plot.png\")\n"
   ]
  },
  {
   "cell_type": "code",
   "execution_count": 41,
   "metadata": {},
   "outputs": [],
   "source": [
    "import matplotlib.pyplot as plt"
   ]
  },
  {
   "cell_type": "code",
   "execution_count": 27,
   "metadata": {},
   "outputs": [],
   "source": [
    "dml_irm_obj=joblib.load( path+\"/Résultats/Python/IRM/Toutes Form/dml_irm_\"+\"2017-09-01\"+\"_\"+\"emploi_quelconque_t_plus_18\"+\".joblib\")"
   ]
  },
  {
   "cell_type": "code",
   "execution_count": 30,
   "metadata": {},
   "outputs": [],
   "source": [
    "df=pd.read_parquet(path+\"/Prepro/Toutes Form/prepro_data_\"+\"2017-09-01\"+\".parquet\",engine='pyarrow')"
   ]
  },
  {
   "cell_type": "code",
   "execution_count": 31,
   "metadata": {},
   "outputs": [],
   "source": [
    "\n",
    "\n",
    "\n",
    "design_matrix=patsy.dmatrix(\"~age+anciennete+sexe+zone_urbaine+handicap\",data=df)\n",
    "\n",
    "\n",
    "\n",
    "spline_basis = pd.DataFrame(design_matrix)"
   ]
  },
  {
   "cell_type": "code",
   "execution_count": 32,
   "metadata": {},
   "outputs": [
    {
     "name": "stdout",
     "output_type": "stream",
     "text": [
      "================== DoubleMLBLP Object ==================\n",
      "\n",
      "------------------ Fit summary ------------------\n",
      "       coef   std err          t          P>|t|    [0.025    0.975]\n",
      "0 -0.169293  0.008860 -19.108200   2.807366e-81 -0.186657 -0.151928\n",
      "1  0.006728  0.000236  28.545940  1.161677e-178  0.006266  0.007190\n",
      "2  0.000023  0.000004   6.394858   1.612521e-10  0.000016  0.000030\n",
      "3 -0.040092  0.005305  -7.557142   4.147656e-14 -0.050490 -0.029694\n",
      "4  0.020843  0.008444   2.468415   1.357259e-02  0.004293  0.037394\n",
      "5 -0.032960  0.009748  -3.381055   7.222994e-04 -0.052066 -0.013853\n"
     ]
    }
   ],
   "source": [
    "cate = dml_irm_obj.cate(spline_basis)\n",
    "print(cate)"
   ]
  }
 ],
 "metadata": {
  "kernelspec": {
   "display_name": "Python 3",
   "language": "python",
   "name": "python3"
  },
  "language_info": {
   "codemirror_mode": {
    "name": "ipython",
    "version": 3
   },
   "file_extension": ".py",
   "mimetype": "text/x-python",
   "name": "python",
   "nbconvert_exporter": "python",
   "pygments_lexer": "ipython3",
   "version": "3.7.0"
  }
 },
 "nbformat": 4,
 "nbformat_minor": 2
}
