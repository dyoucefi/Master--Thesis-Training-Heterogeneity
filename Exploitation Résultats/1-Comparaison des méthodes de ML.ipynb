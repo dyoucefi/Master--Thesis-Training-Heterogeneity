{
 "cells": [
  {
   "cell_type": "code",
   "execution_count": 9,
   "metadata": {},
   "outputs": [],
   "source": [
    "# -*- coding: utf-8 -*-\n",
    "\"\"\"\n",
    "Created on Tue Jul 18 09:38:31 2023\n",
    "\n",
    "@author: dalil.youcefi\n",
    "\"\"\"\n",
    "\n",
    "import pandas as pd\n",
    "import numpy as np\n",
    "from sklearn.ensemble import RandomForestRegressor, RandomForestClassifier\n",
    "from sklearn.base import clone\n",
    "import joblib\n",
    "import pickle\n",
    "import patsy\n",
    "import doubleml as dml\n",
    "\n",
    "from statsmodels.tsa.seasonal import seasonal_decompose\n",
    "\n",
    "import matplotlib.pyplot as plt\n",
    "\n",
    "path=\"C:/Users/dalil.youcefi/Documents/Formation et retour à l'emploi/Données\"\n",
    "dates= pd.date_range('2017-01-01','2021-07-01' , freq='1M')-pd.offsets.MonthBegin(1)\n",
    "dates=[date_obj.strftime('%Y-%m-%d') for date_obj in dates]\n",
    "\n",
    "var_quel=[\"emploi_quelconque_t_plus_3\",\"emploi_quelconque_t_plus_6\",  \"emploi_quelconque_t_plus_12\" ,\"emploi_quelconque_t_plus_18\" ,\"emploi_quelconque_t_plus_24\",\"emploi_quelconque_t_plus_36\"]\n",
    "\n",
    "\n",
    "variables=[\"emploi_quelconque_t_plus_3\",\"emploi_quelconque_t_plus_6\",  \"emploi_quelconque_t_plus_12\" ,\"emploi_quelconque_t_plus_18\" ,\"emploi_quelconque_t_plus_24\",\"emploi_quelconque_t_plus_36\",\n",
    "            \n",
    "            \"emploi_durable_t_plus_3\",\"emploi_durable_t_plus_6\", \"emploi_durable_t_plus_12\" , \"emploi_durable_t_plus_18\" ,\"emploi_durable_t_plus_24\" ,\"emploi_durable_t_plus_36\"]\n",
    "\n",
    "\n",
    "df_cf=pd.read_csv(path+\"/Résultats/tab_toutes_form_cf.csv\")"
   ]
  },
  {
   "cell_type": "markdown",
   "metadata": {},
   "source": [
    "Recupérer le nombre de traiter"
   ]
  },
  {
   "cell_type": "code",
   "execution_count": 10,
   "metadata": {},
   "outputs": [],
   "source": [
    "li_poids=[]\n",
    "for cohorte in dates:\n",
    "    df=pd.read_parquet(path+\"/Prepro/Toutes Form/prepro_data_\"+cohorte+\".parquet\",engine='pyarrow')\n",
    "    li_poids.append(df.shape[0])\n"
   ]
  },
  {
   "cell_type": "code",
   "execution_count": 11,
   "metadata": {},
   "outputs": [],
   "source": [
    "for var in var_quel:\n",
    "    \n",
    "    \n",
    "    df_cf[\"upp_\"+var]=df_cf[\"ate_\"+var]+1.96*df_cf[\"std_\"+var]\n",
    "    df_cf[\"low_\"+var]=df_cf[\"ate_\"+var]-1.96*df_cf[\"std_\"+var]\n",
    "    \n",
    "df_cf[\"poids\"]=li_poids"
   ]
  },
  {
   "cell_type": "code",
   "execution_count": 12,
   "metadata": {},
   "outputs": [],
   "source": [
    "li_poids=[1 for c in dates]"
   ]
  },
  {
   "cell_type": "markdown",
   "metadata": {},
   "source": [
    "On récupère les résultats des DML PLR et IRM et de CF"
   ]
  },
  {
   "cell_type": "code",
   "execution_count": 13,
   "metadata": {},
   "outputs": [],
   "source": [
    "\n",
    "\n",
    "\n",
    "dic_irm={}\n",
    "dic_plr={}\n",
    "\n",
    "\n",
    "\n",
    "\n",
    "dic_irm[\"cohorte\"]=dates\n",
    "dic_plr[\"cohorte\"]=dates\n",
    "dic_irm[\"poids\"]=li_poids\n",
    "dic_plr[\"poids\"]=li_poids\n",
    "df_cf[\"poids\"]=li_poids\n",
    "\n",
    "for var in var_quel:\n",
    "    irm_coef=[]\n",
    "    plr_coef=[]\n",
    "    irm_upp=[]\n",
    "    irm_low=[]\n",
    "    plr_upp=[]\n",
    "    plr_low=[]\n",
    "\n",
    "    \n",
    "        \n",
    "    \n",
    "    \n",
    "    for cohorte in dates:\n",
    "     \n",
    "      \n",
    "        \n",
    "        dml_irm_obj=joblib.load( path+\"/Résultats/Python/IRM/Toutes Form/dml_irm_\"+cohorte+\"_\"+var+\".joblib\")\n",
    "        irm_coef.append(dml_irm_obj.summary.coef)\n",
    "        irm_low.append(dml_irm_obj.confint()[\"2.5 %\"])\n",
    "        irm_upp.append(dml_irm_obj.confint()[\"97.5 %\"])\n",
    "        \n",
    "        \n",
    "        \n",
    "        dml_plr_obj=joblib.load( path+\"/Résultats/Python/PLR/Toutes Form/dml_PLR_\"+cohorte+\"_\"+var+\".joblib\")\n",
    "        plr_coef.append(dml_plr_obj.summary.coef)\n",
    "        plr_low.append(dml_plr_obj.confint()[\"2.5 %\"])\n",
    "        plr_upp.append(dml_plr_obj.confint()[\"97.5 %\"])\n",
    "   \n",
    "    dic_irm[\"coef_\"+var]=irm_coef\n",
    "    dic_irm[\"upp_\"+var]=irm_upp\n",
    "    dic_irm[\"low_\"+var]=irm_low\n",
    "    \n",
    "    \n",
    "    dic_plr[\"coef_\"+var]=plr_coef\n",
    "    dic_plr[\"upp_\"+var]=plr_upp\n",
    "    dic_plr[\"low_\"+var]=plr_low\n",
    "    \n",
    "\n",
    "\n",
    "\n",
    "\n",
    "   \n",
    "df_irm=pd.DataFrame.from_dict(dic_irm,orient=\"columns\")\n",
    "df_plr=pd.DataFrame.from_dict(dic_plr,orient=\"columns\")\n",
    "\n",
    "  \n",
    "\n",
    "var_float= list(df_plr.columns)\n",
    "var_float.remove(\"cohorte\")\n",
    "  \n",
    "df_irm[var_float]=df_irm[var_float].astype(float)\n",
    "df_plr[var_float]=df_plr[var_float].astype(float)\n",
    "\n",
    "\n",
    "\n",
    "\n"
   ]
  },
  {
   "cell_type": "markdown",
   "metadata": {},
   "source": [
    "On calcule la moyenne sur les cohortes aux différents horizons"
   ]
  },
  {
   "cell_type": "code",
   "execution_count": 14,
   "metadata": {},
   "outputs": [],
   "source": [
    "\n",
    "\n",
    "\n",
    "\n",
    "dic_avg={}\n",
    "\n",
    "\n",
    "\n",
    "irm_coef=[]\n",
    "plr_coef=[]\n",
    "irm_upp=[]\n",
    "irm_low=[]\n",
    "plr_upp=[]\n",
    "plr_low=[]\n",
    "\n",
    "\n",
    "\n",
    "\n",
    "def weighted_average(dataframe, value, weight):\n",
    "    val = dataframe[value]\n",
    "    wt = dataframe[weight]\n",
    "    return (val * wt).sum() / wt.sum()\n",
    " \n",
    "\n",
    "\n",
    "dic_avg={}\n",
    "\n",
    "\n",
    "dic_avg[\"temps\"]=[\"3\",\"6\",\"12\",\"18\",\"24\",\"36\"]\n",
    "\n",
    "cf_coef=[]\n",
    "cf_upp=[]\n",
    "cf_low=[]\n",
    "\n",
    "\n",
    "\n",
    "for var in var_quel:\n",
    "    \n",
    "    cf_coef.append(weighted_average(df_cf,\"ate_\"+var,\"poids\"))\n",
    "\n",
    "    cf_upp.append(weighted_average(df_cf,\"upp_\"+var,\"poids\"))\n",
    "\n",
    "    \n",
    "    cf_low.append(weighted_average(df_cf,\"low_\"+var,\"poids\"))\n",
    "  \n",
    "    \n",
    "\n",
    "\n",
    "dic_avg[\"cf_coef\"]=cf_coef\n",
    "dic_avg[\"cf_upp\"]=cf_upp\n",
    "dic_avg[\"cf_low\"]=cf_low\n",
    "\n",
    "\n",
    "\n",
    "    \n",
    "\n",
    "\n",
    "for var in var_quel:\n",
    "    \n",
    "    irm_coef.append(weighted_average(df_irm,\"coef_\"+var,\"poids\"))\n",
    "    plr_coef.append(weighted_average(df_plr,\"coef_\"+var,\"poids\"))\n",
    "    \n",
    "    irm_upp.append(weighted_average(df_irm,\"upp_\"+var,\"poids\"))\n",
    "  \n",
    "    \n",
    "    irm_low.append(weighted_average(df_irm,\"low_\"+var,\"poids\"))\n",
    "    \n",
    "    plr_upp.append(weighted_average(df_plr,\"upp_\"+var,\"poids\"))\n",
    "  \n",
    "    \n",
    "    plr_low.append(weighted_average(df_plr,\"low_\"+var,\"poids\"))\n",
    "    \n",
    "\n",
    "    \n",
    "    \n",
    "\n",
    "\n",
    "dic_avg[\"irm_coef\"]=irm_coef\n",
    "dic_avg[\"irm_upp\"]=irm_upp\n",
    "dic_avg[\"irm_low\"]=irm_low\n",
    "\n",
    "\n",
    "\n",
    "\n",
    "dic_avg[\"plr_coef\"]=plr_coef\n",
    "dic_avg[\"plr_upp\"]=plr_upp\n",
    "dic_avg[\"plr_low\"]=plr_low\n",
    "    "
   ]
  },
  {
   "cell_type": "code",
   "execution_count": 15,
   "metadata": {},
   "outputs": [],
   "source": [
    "df_avg=pd.DataFrame.from_dict(dic_avg,orient=\"columns\")"
   ]
  },
  {
   "cell_type": "code",
   "execution_count": 16,
   "metadata": {},
   "outputs": [],
   "source": [
    "df_avg=df_avg*100"
   ]
  },
  {
   "cell_type": "markdown",
   "metadata": {},
   "source": [
    "Table et graphique des moyennes"
   ]
  },
  {
   "cell_type": "code",
   "execution_count": 17,
   "metadata": {},
   "outputs": [],
   "source": [
    "df_avg[\"temps\"]=[\"3\",\"6\",\"12\",\"18\",\"24\",\"36\"]    "
   ]
  },
  {
   "cell_type": "code",
   "execution_count": 18,
   "metadata": {},
   "outputs": [],
   "source": [
    "df_avg[\"cf_std\"]=(df_avg[\"cf_coef\"]-df_avg[\"cf_low\"])/1.96\n",
    "df_avg[\"plr_std\"]=(df_avg[\"plr_coef\"]-df_avg[\"plr_low\"])/1.96\n",
    "df_avg[\"irm_std\"]=(df_avg[\"irm_coef\"]-df_avg[\"irm_low\"])/1.96\n"
   ]
  },
  {
   "cell_type": "code",
   "execution_count": 19,
   "metadata": {},
   "outputs": [
    {
     "name": "stdout",
     "output_type": "stream",
     "text": [
      "\\begin{tabular}{lrrrrrr}\n",
      "\\toprule\n",
      "{} &  plr\\_coef &  plr\\_std &  irm\\_coef &  irm\\_std &  cf\\_coef &  cf\\_std \\\\\n",
      "\\midrule\n",
      "0 &     -0.17 &     0.29 &     -0.07 &     0.27 &    -0.20 &    0.38 \\\\\n",
      "1 &      4.51 &     0.36 &      4.65 &     0.34 &     4.40 &    0.48 \\\\\n",
      "2 &      9.93 &     0.41 &     10.18 &     0.38 &     9.78 &    0.54 \\\\\n",
      "3 &     12.64 &     0.42 &     12.94 &     0.39 &    12.34 &    0.55 \\\\\n",
      "4 &     13.35 &     0.41 &     13.70 &     0.38 &    12.96 &    0.54 \\\\\n",
      "5 &     13.45 &     0.41 &     13.85 &     0.38 &    13.01 &    0.53 \\\\\n",
      "\\bottomrule\n",
      "\\end{tabular}\n",
      "\n"
     ]
    }
   ],
   "source": [
    "print(np.round(df_avg[[\"plr_coef\",\"plr_std\",\"irm_coef\",\"irm_std\",\"cf_coef\",\"cf_std\"]],2).to_latex())"
   ]
  },
  {
   "cell_type": "code",
   "execution_count": 21,
   "metadata": {},
   "outputs": [
    {
     "data": {
      "image/png": "[encoded data removed]",
      "text/plain": [
       "<Figure size 432x288 with 1 Axes>"
      ]
     },
     "metadata": {
      "needs_background": "light"
     },
     "output_type": "display_data"
    }
   ],
   "source": [
    "\n",
    "\n",
    "\n",
    "from matplotlib.transforms import Affine2D\n",
    "fig, ax = plt.subplots()\n",
    "\n",
    "plt.rcParams['figure.figsize'] = 10., 7.5\n",
    "\n",
    "trans1 = Affine2D().translate(-0.1, 0.0) + ax.transData\n",
    "trans2 = Affine2D().translate(+0., 0.0) + ax.transData\n",
    "trans3 = Affine2D().translate(+0.1, 0.0) + ax.transData\n",
    "\n",
    "errors = np.full((2, df_avg.shape[0]), np.nan)\n",
    "errors[0, :] = df_avg[\"irm_coef\"] - df_avg[\"irm_low\"]\n",
    "errors[1, :] =  df_avg[\"irm_upp\"]- df_avg[\"irm_coef\"]\n",
    "\n",
    "plt.errorbar(df_avg[\"temps\"],df_avg[\"irm_coef\"], fmt='o', yerr=errors, label='IRM ',transform=trans1)\n",
    "\n",
    "\n",
    "\n",
    "errors = np.full((2, df_avg.shape[0]), np.nan)\n",
    "errors[0, :] = df_avg[\"plr_coef\"] - df_avg[\"plr_low\"]\n",
    "errors[1, :] =  df_avg[\"plr_upp\"]- df_avg[\"plr_coef\"]\n",
    "\n",
    "plt.errorbar(df_avg[\"temps\"],df_avg[\"plr_coef\"], fmt='o', yerr=errors, label='PLR ',transform=trans2)\n",
    "\n",
    "\n",
    "errors = np.full((2, df_avg.shape[0]), np.nan)\n",
    "errors[0, :] = df_avg[\"cf_coef\"] - df_avg[\"cf_low\"]\n",
    "errors[1, :] =  df_avg[\"cf_upp\"]- df_avg[\"cf_coef\"]\n",
    "\n",
    "plt.errorbar(df_avg[\"temps\"],df_avg[\"cf_coef\"], fmt='o', yerr=errors, label='CF',transform=trans3)\n",
    "\n",
    "plt.axhline(y = 0., color = 'black', linestyle = '-')\n",
    "\n",
    "\n",
    "\n",
    "plt.xlabel('Horizon after entering in training')\n",
    "plt.legend()\n",
    "plt.ylabel('Mean ATE (in p.p.) and 95%-CI')\n",
    "\n",
    "plt.savefig(path+\"/ate_all_plot.png\")\n"
   ]
  },
  {
   "cell_type": "markdown",
   "metadata": {},
   "source": [
    "BLP pour la cohorte de Septembre 2017 a l'horizon t+18"
   ]
  },
  {
   "cell_type": "code",
   "execution_count": 23,
   "metadata": {},
   "outputs": [],
   "source": [
    "dml_irm_obj=joblib.load( path+\"/Résultats/Python/IRM/Toutes Form/dml_irm_\"+\"2017-09-01\"+\"_\"+\"emploi_quelconque_t_plus_18\"+\".joblib\")"
   ]
  },
  {
   "cell_type": "code",
   "execution_count": 24,
   "metadata": {},
   "outputs": [],
   "source": [
    "df=pd.read_parquet(path+\"/Prepro/Toutes Form/prepro_data_\"+\"2017-09-01\"+\".parquet\",engine='pyarrow')"
   ]
  },
  {
   "cell_type": "code",
   "execution_count": 25,
   "metadata": {},
   "outputs": [],
   "source": [
    "\n",
    "\n",
    "\n",
    "design_matrix=patsy.dmatrix(\"~age+anciennete+sexe+zone_urbaine+handicap\",data=df)\n",
    "\n",
    "\n",
    "\n",
    "spline_basis = pd.DataFrame(design_matrix)"
   ]
  },
  {
   "cell_type": "code",
   "execution_count": 26,
   "metadata": {},
   "outputs": [
    {
     "name": "stdout",
     "output_type": "stream",
     "text": [
      "================== DoubleMLBLP Object ==================\n",
      "\n",
      "------------------ Fit summary ------------------\n",
      "       coef   std err          t          P>|t|    [0.025    0.975]\n",
      "0 -0.169293  0.008860 -19.108200   2.807366e-81 -0.186657 -0.151928\n",
      "1  0.006728  0.000236  28.545940  1.161677e-178  0.006266  0.007190\n",
      "2  0.000023  0.000004   6.394858   1.612521e-10  0.000016  0.000030\n",
      "3 -0.040092  0.005305  -7.557142   4.147656e-14 -0.050490 -0.029694\n",
      "4  0.020843  0.008444   2.468415   1.357259e-02  0.004293  0.037394\n",
      "5 -0.032960  0.009748  -3.381055   7.222994e-04 -0.052066 -0.013853\n"
     ]
    }
   ],
   "source": [
    "cate = dml_irm_obj.cate(spline_basis)\n",
    "print(cate)"
   ]
  },
  {
   "cell_type": "markdown",
   "metadata": {},
   "source": []
  }
 ],
 "metadata": {
  "kernelspec": {
   "display_name": "Python 3",
   "language": "python",
   "name": "python3"
  },
  "language_info": {
   "codemirror_mode": {
    "name": "ipython",
    "version": 3
   },
   "file_extension": ".py",
   "mimetype": "text/x-python",
   "name": "python",
   "nbconvert_exporter": "python",
   "pygments_lexer": "ipython3",
   "version": "3.7.0"
  }
 },
 "nbformat": 4,
 "nbformat_minor": 2
}
